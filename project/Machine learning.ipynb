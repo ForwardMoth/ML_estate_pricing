{
 "cells": [
  {
   "cell_type": "code",
   "execution_count": 1,
   "id": "f6a6623d",
   "metadata": {},
   "outputs": [],
   "source": [
    "import pandas as pd\n",
    "import numpy as np \n",
    "import matplotlib.pyplot as plt\n",
    "from scipy import stats\n",
    "import seaborn as sns"
   ]
  },
  {
   "cell_type": "markdown",
   "id": "b90ee04e",
   "metadata": {},
   "source": [
    "## Importing test and train samples"
   ]
  },
  {
   "cell_type": "code",
   "execution_count": 2,
   "id": "4871943d",
   "metadata": {},
   "outputs": [
    {
     "data": {
      "text/html": [
       "<div>\n",
       "<style scoped>\n",
       "    .dataframe tbody tr th:only-of-type {\n",
       "        vertical-align: middle;\n",
       "    }\n",
       "\n",
       "    .dataframe tbody tr th {\n",
       "        vertical-align: top;\n",
       "    }\n",
       "\n",
       "    .dataframe thead th {\n",
       "        text-align: right;\n",
       "    }\n",
       "</style>\n",
       "<table border=\"1\" class=\"dataframe\">\n",
       "  <thead>\n",
       "    <tr style=\"text-align: right;\">\n",
       "      <th></th>\n",
       "      <th>id</th>\n",
       "      <th>timestamp</th>\n",
       "      <th>full_sq</th>\n",
       "      <th>life_sq</th>\n",
       "      <th>floor</th>\n",
       "      <th>max_floor</th>\n",
       "      <th>material</th>\n",
       "      <th>build_year</th>\n",
       "      <th>num_room</th>\n",
       "      <th>kitch_sq</th>\n",
       "      <th>...</th>\n",
       "      <th>cafe_count_5000_price_2500</th>\n",
       "      <th>cafe_count_5000_price_4000</th>\n",
       "      <th>cafe_count_5000_price_high</th>\n",
       "      <th>big_church_count_5000</th>\n",
       "      <th>church_count_5000</th>\n",
       "      <th>mosque_count_5000</th>\n",
       "      <th>leisure_count_5000</th>\n",
       "      <th>sport_count_5000</th>\n",
       "      <th>market_count_5000</th>\n",
       "      <th>price_doc</th>\n",
       "    </tr>\n",
       "  </thead>\n",
       "  <tbody>\n",
       "    <tr>\n",
       "      <th>0</th>\n",
       "      <td>1</td>\n",
       "      <td>2011-08-20</td>\n",
       "      <td>43</td>\n",
       "      <td>27.0</td>\n",
       "      <td>4.0</td>\n",
       "      <td>NaN</td>\n",
       "      <td>NaN</td>\n",
       "      <td>NaN</td>\n",
       "      <td>NaN</td>\n",
       "      <td>NaN</td>\n",
       "      <td>...</td>\n",
       "      <td>9</td>\n",
       "      <td>4</td>\n",
       "      <td>0</td>\n",
       "      <td>13</td>\n",
       "      <td>22</td>\n",
       "      <td>1</td>\n",
       "      <td>0</td>\n",
       "      <td>52</td>\n",
       "      <td>4</td>\n",
       "      <td>5850000</td>\n",
       "    </tr>\n",
       "    <tr>\n",
       "      <th>1</th>\n",
       "      <td>2</td>\n",
       "      <td>2011-08-23</td>\n",
       "      <td>34</td>\n",
       "      <td>19.0</td>\n",
       "      <td>3.0</td>\n",
       "      <td>NaN</td>\n",
       "      <td>NaN</td>\n",
       "      <td>NaN</td>\n",
       "      <td>NaN</td>\n",
       "      <td>NaN</td>\n",
       "      <td>...</td>\n",
       "      <td>15</td>\n",
       "      <td>3</td>\n",
       "      <td>0</td>\n",
       "      <td>15</td>\n",
       "      <td>29</td>\n",
       "      <td>1</td>\n",
       "      <td>10</td>\n",
       "      <td>66</td>\n",
       "      <td>14</td>\n",
       "      <td>6000000</td>\n",
       "    </tr>\n",
       "    <tr>\n",
       "      <th>2</th>\n",
       "      <td>3</td>\n",
       "      <td>2011-08-27</td>\n",
       "      <td>43</td>\n",
       "      <td>29.0</td>\n",
       "      <td>2.0</td>\n",
       "      <td>NaN</td>\n",
       "      <td>NaN</td>\n",
       "      <td>NaN</td>\n",
       "      <td>NaN</td>\n",
       "      <td>NaN</td>\n",
       "      <td>...</td>\n",
       "      <td>10</td>\n",
       "      <td>3</td>\n",
       "      <td>0</td>\n",
       "      <td>11</td>\n",
       "      <td>27</td>\n",
       "      <td>0</td>\n",
       "      <td>4</td>\n",
       "      <td>67</td>\n",
       "      <td>10</td>\n",
       "      <td>5700000</td>\n",
       "    </tr>\n",
       "    <tr>\n",
       "      <th>3</th>\n",
       "      <td>4</td>\n",
       "      <td>2011-09-01</td>\n",
       "      <td>89</td>\n",
       "      <td>50.0</td>\n",
       "      <td>9.0</td>\n",
       "      <td>NaN</td>\n",
       "      <td>NaN</td>\n",
       "      <td>NaN</td>\n",
       "      <td>NaN</td>\n",
       "      <td>NaN</td>\n",
       "      <td>...</td>\n",
       "      <td>11</td>\n",
       "      <td>2</td>\n",
       "      <td>1</td>\n",
       "      <td>4</td>\n",
       "      <td>4</td>\n",
       "      <td>0</td>\n",
       "      <td>0</td>\n",
       "      <td>26</td>\n",
       "      <td>3</td>\n",
       "      <td>13100000</td>\n",
       "    </tr>\n",
       "    <tr>\n",
       "      <th>4</th>\n",
       "      <td>5</td>\n",
       "      <td>2011-09-05</td>\n",
       "      <td>77</td>\n",
       "      <td>77.0</td>\n",
       "      <td>4.0</td>\n",
       "      <td>NaN</td>\n",
       "      <td>NaN</td>\n",
       "      <td>NaN</td>\n",
       "      <td>NaN</td>\n",
       "      <td>NaN</td>\n",
       "      <td>...</td>\n",
       "      <td>319</td>\n",
       "      <td>108</td>\n",
       "      <td>17</td>\n",
       "      <td>135</td>\n",
       "      <td>236</td>\n",
       "      <td>2</td>\n",
       "      <td>91</td>\n",
       "      <td>195</td>\n",
       "      <td>14</td>\n",
       "      <td>16331452</td>\n",
       "    </tr>\n",
       "    <tr>\n",
       "      <th>...</th>\n",
       "      <td>...</td>\n",
       "      <td>...</td>\n",
       "      <td>...</td>\n",
       "      <td>...</td>\n",
       "      <td>...</td>\n",
       "      <td>...</td>\n",
       "      <td>...</td>\n",
       "      <td>...</td>\n",
       "      <td>...</td>\n",
       "      <td>...</td>\n",
       "      <td>...</td>\n",
       "      <td>...</td>\n",
       "      <td>...</td>\n",
       "      <td>...</td>\n",
       "      <td>...</td>\n",
       "      <td>...</td>\n",
       "      <td>...</td>\n",
       "      <td>...</td>\n",
       "      <td>...</td>\n",
       "      <td>...</td>\n",
       "      <td>...</td>\n",
       "    </tr>\n",
       "    <tr>\n",
       "      <th>30466</th>\n",
       "      <td>30469</td>\n",
       "      <td>2015-06-30</td>\n",
       "      <td>44</td>\n",
       "      <td>27.0</td>\n",
       "      <td>7.0</td>\n",
       "      <td>9.0</td>\n",
       "      <td>1.0</td>\n",
       "      <td>1975.0</td>\n",
       "      <td>2.0</td>\n",
       "      <td>6.0</td>\n",
       "      <td>...</td>\n",
       "      <td>15</td>\n",
       "      <td>5</td>\n",
       "      <td>0</td>\n",
       "      <td>15</td>\n",
       "      <td>26</td>\n",
       "      <td>1</td>\n",
       "      <td>2</td>\n",
       "      <td>84</td>\n",
       "      <td>6</td>\n",
       "      <td>7400000</td>\n",
       "    </tr>\n",
       "    <tr>\n",
       "      <th>30467</th>\n",
       "      <td>30470</td>\n",
       "      <td>2015-06-30</td>\n",
       "      <td>86</td>\n",
       "      <td>59.0</td>\n",
       "      <td>3.0</td>\n",
       "      <td>9.0</td>\n",
       "      <td>2.0</td>\n",
       "      <td>1935.0</td>\n",
       "      <td>4.0</td>\n",
       "      <td>10.0</td>\n",
       "      <td>...</td>\n",
       "      <td>313</td>\n",
       "      <td>128</td>\n",
       "      <td>24</td>\n",
       "      <td>98</td>\n",
       "      <td>182</td>\n",
       "      <td>1</td>\n",
       "      <td>82</td>\n",
       "      <td>171</td>\n",
       "      <td>15</td>\n",
       "      <td>25000000</td>\n",
       "    </tr>\n",
       "    <tr>\n",
       "      <th>30468</th>\n",
       "      <td>30471</td>\n",
       "      <td>2015-06-30</td>\n",
       "      <td>45</td>\n",
       "      <td>NaN</td>\n",
       "      <td>10.0</td>\n",
       "      <td>20.0</td>\n",
       "      <td>1.0</td>\n",
       "      <td>NaN</td>\n",
       "      <td>1.0</td>\n",
       "      <td>1.0</td>\n",
       "      <td>...</td>\n",
       "      <td>1</td>\n",
       "      <td>1</td>\n",
       "      <td>0</td>\n",
       "      <td>2</td>\n",
       "      <td>12</td>\n",
       "      <td>0</td>\n",
       "      <td>1</td>\n",
       "      <td>11</td>\n",
       "      <td>1</td>\n",
       "      <td>6970959</td>\n",
       "    </tr>\n",
       "    <tr>\n",
       "      <th>30469</th>\n",
       "      <td>30472</td>\n",
       "      <td>2015-06-30</td>\n",
       "      <td>64</td>\n",
       "      <td>32.0</td>\n",
       "      <td>5.0</td>\n",
       "      <td>15.0</td>\n",
       "      <td>1.0</td>\n",
       "      <td>2003.0</td>\n",
       "      <td>2.0</td>\n",
       "      <td>11.0</td>\n",
       "      <td>...</td>\n",
       "      <td>22</td>\n",
       "      <td>1</td>\n",
       "      <td>1</td>\n",
       "      <td>6</td>\n",
       "      <td>31</td>\n",
       "      <td>1</td>\n",
       "      <td>4</td>\n",
       "      <td>65</td>\n",
       "      <td>7</td>\n",
       "      <td>13500000</td>\n",
       "    </tr>\n",
       "    <tr>\n",
       "      <th>30470</th>\n",
       "      <td>30473</td>\n",
       "      <td>2015-06-30</td>\n",
       "      <td>43</td>\n",
       "      <td>28.0</td>\n",
       "      <td>1.0</td>\n",
       "      <td>9.0</td>\n",
       "      <td>1.0</td>\n",
       "      <td>1968.0</td>\n",
       "      <td>2.0</td>\n",
       "      <td>6.0</td>\n",
       "      <td>...</td>\n",
       "      <td>5</td>\n",
       "      <td>2</td>\n",
       "      <td>0</td>\n",
       "      <td>7</td>\n",
       "      <td>16</td>\n",
       "      <td>0</td>\n",
       "      <td>9</td>\n",
       "      <td>54</td>\n",
       "      <td>10</td>\n",
       "      <td>5600000</td>\n",
       "    </tr>\n",
       "  </tbody>\n",
       "</table>\n",
       "<p>30471 rows × 292 columns</p>\n",
       "</div>"
      ],
      "text/plain": [
       "          id   timestamp  full_sq  life_sq  floor  max_floor  material  \\\n",
       "0          1  2011-08-20       43     27.0    4.0        NaN       NaN   \n",
       "1          2  2011-08-23       34     19.0    3.0        NaN       NaN   \n",
       "2          3  2011-08-27       43     29.0    2.0        NaN       NaN   \n",
       "3          4  2011-09-01       89     50.0    9.0        NaN       NaN   \n",
       "4          5  2011-09-05       77     77.0    4.0        NaN       NaN   \n",
       "...      ...         ...      ...      ...    ...        ...       ...   \n",
       "30466  30469  2015-06-30       44     27.0    7.0        9.0       1.0   \n",
       "30467  30470  2015-06-30       86     59.0    3.0        9.0       2.0   \n",
       "30468  30471  2015-06-30       45      NaN   10.0       20.0       1.0   \n",
       "30469  30472  2015-06-30       64     32.0    5.0       15.0       1.0   \n",
       "30470  30473  2015-06-30       43     28.0    1.0        9.0       1.0   \n",
       "\n",
       "       build_year  num_room  kitch_sq  ...  cafe_count_5000_price_2500  \\\n",
       "0             NaN       NaN       NaN  ...                           9   \n",
       "1             NaN       NaN       NaN  ...                          15   \n",
       "2             NaN       NaN       NaN  ...                          10   \n",
       "3             NaN       NaN       NaN  ...                          11   \n",
       "4             NaN       NaN       NaN  ...                         319   \n",
       "...           ...       ...       ...  ...                         ...   \n",
       "30466      1975.0       2.0       6.0  ...                          15   \n",
       "30467      1935.0       4.0      10.0  ...                         313   \n",
       "30468         NaN       1.0       1.0  ...                           1   \n",
       "30469      2003.0       2.0      11.0  ...                          22   \n",
       "30470      1968.0       2.0       6.0  ...                           5   \n",
       "\n",
       "      cafe_count_5000_price_4000 cafe_count_5000_price_high  \\\n",
       "0                              4                          0   \n",
       "1                              3                          0   \n",
       "2                              3                          0   \n",
       "3                              2                          1   \n",
       "4                            108                         17   \n",
       "...                          ...                        ...   \n",
       "30466                          5                          0   \n",
       "30467                        128                         24   \n",
       "30468                          1                          0   \n",
       "30469                          1                          1   \n",
       "30470                          2                          0   \n",
       "\n",
       "       big_church_count_5000  church_count_5000  mosque_count_5000  \\\n",
       "0                         13                 22                  1   \n",
       "1                         15                 29                  1   \n",
       "2                         11                 27                  0   \n",
       "3                          4                  4                  0   \n",
       "4                        135                236                  2   \n",
       "...                      ...                ...                ...   \n",
       "30466                     15                 26                  1   \n",
       "30467                     98                182                  1   \n",
       "30468                      2                 12                  0   \n",
       "30469                      6                 31                  1   \n",
       "30470                      7                 16                  0   \n",
       "\n",
       "       leisure_count_5000  sport_count_5000  market_count_5000  price_doc  \n",
       "0                       0                52                  4    5850000  \n",
       "1                      10                66                 14    6000000  \n",
       "2                       4                67                 10    5700000  \n",
       "3                       0                26                  3   13100000  \n",
       "4                      91               195                 14   16331452  \n",
       "...                   ...               ...                ...        ...  \n",
       "30466                   2                84                  6    7400000  \n",
       "30467                  82               171                 15   25000000  \n",
       "30468                   1                11                  1    6970959  \n",
       "30469                   4                65                  7   13500000  \n",
       "30470                   9                54                 10    5600000  \n",
       "\n",
       "[30471 rows x 292 columns]"
      ]
     },
     "execution_count": 2,
     "metadata": {},
     "output_type": "execute_result"
    }
   ],
   "source": [
    "train = pd.read_csv('datasets/train.csv')\n",
    "train"
   ]
  },
  {
   "cell_type": "code",
   "execution_count": 3,
   "id": "dc65c0ee",
   "metadata": {},
   "outputs": [
    {
     "data": {
      "text/html": [
       "<div>\n",
       "<style scoped>\n",
       "    .dataframe tbody tr th:only-of-type {\n",
       "        vertical-align: middle;\n",
       "    }\n",
       "\n",
       "    .dataframe tbody tr th {\n",
       "        vertical-align: top;\n",
       "    }\n",
       "\n",
       "    .dataframe thead th {\n",
       "        text-align: right;\n",
       "    }\n",
       "</style>\n",
       "<table border=\"1\" class=\"dataframe\">\n",
       "  <thead>\n",
       "    <tr style=\"text-align: right;\">\n",
       "      <th></th>\n",
       "      <th>id</th>\n",
       "      <th>timestamp</th>\n",
       "      <th>full_sq</th>\n",
       "      <th>life_sq</th>\n",
       "      <th>floor</th>\n",
       "      <th>max_floor</th>\n",
       "      <th>material</th>\n",
       "      <th>build_year</th>\n",
       "      <th>num_room</th>\n",
       "      <th>kitch_sq</th>\n",
       "      <th>...</th>\n",
       "      <th>cafe_count_5000_price_2500</th>\n",
       "      <th>cafe_count_5000_price_4000</th>\n",
       "      <th>cafe_count_5000_price_high</th>\n",
       "      <th>big_church_count_5000</th>\n",
       "      <th>church_count_5000</th>\n",
       "      <th>mosque_count_5000</th>\n",
       "      <th>leisure_count_5000</th>\n",
       "      <th>sport_count_5000</th>\n",
       "      <th>market_count_5000</th>\n",
       "      <th>price_doc</th>\n",
       "    </tr>\n",
       "  </thead>\n",
       "  <tbody>\n",
       "    <tr>\n",
       "      <th>0</th>\n",
       "      <td>30474</td>\n",
       "      <td>2015-07-01</td>\n",
       "      <td>39.00</td>\n",
       "      <td>20.7</td>\n",
       "      <td>2</td>\n",
       "      <td>9</td>\n",
       "      <td>1</td>\n",
       "      <td>1998.0</td>\n",
       "      <td>1</td>\n",
       "      <td>8.9</td>\n",
       "      <td>...</td>\n",
       "      <td>0</td>\n",
       "      <td>0</td>\n",
       "      <td>0</td>\n",
       "      <td>1</td>\n",
       "      <td>10</td>\n",
       "      <td>1</td>\n",
       "      <td>0</td>\n",
       "      <td>14</td>\n",
       "      <td>1</td>\n",
       "      <td>7118500.41</td>\n",
       "    </tr>\n",
       "    <tr>\n",
       "      <th>1</th>\n",
       "      <td>30475</td>\n",
       "      <td>2015-07-01</td>\n",
       "      <td>79.20</td>\n",
       "      <td>NaN</td>\n",
       "      <td>8</td>\n",
       "      <td>17</td>\n",
       "      <td>1</td>\n",
       "      <td>0.0</td>\n",
       "      <td>3</td>\n",
       "      <td>1.0</td>\n",
       "      <td>...</td>\n",
       "      <td>1</td>\n",
       "      <td>1</td>\n",
       "      <td>0</td>\n",
       "      <td>2</td>\n",
       "      <td>11</td>\n",
       "      <td>0</td>\n",
       "      <td>1</td>\n",
       "      <td>12</td>\n",
       "      <td>1</td>\n",
       "      <td>7118500.41</td>\n",
       "    </tr>\n",
       "    <tr>\n",
       "      <th>2</th>\n",
       "      <td>30476</td>\n",
       "      <td>2015-07-01</td>\n",
       "      <td>40.50</td>\n",
       "      <td>25.1</td>\n",
       "      <td>3</td>\n",
       "      <td>5</td>\n",
       "      <td>2</td>\n",
       "      <td>1960.0</td>\n",
       "      <td>2</td>\n",
       "      <td>4.8</td>\n",
       "      <td>...</td>\n",
       "      <td>11</td>\n",
       "      <td>4</td>\n",
       "      <td>0</td>\n",
       "      <td>10</td>\n",
       "      <td>21</td>\n",
       "      <td>0</td>\n",
       "      <td>10</td>\n",
       "      <td>71</td>\n",
       "      <td>11</td>\n",
       "      <td>7118500.41</td>\n",
       "    </tr>\n",
       "    <tr>\n",
       "      <th>3</th>\n",
       "      <td>30477</td>\n",
       "      <td>2015-07-01</td>\n",
       "      <td>62.80</td>\n",
       "      <td>36.0</td>\n",
       "      <td>17</td>\n",
       "      <td>17</td>\n",
       "      <td>1</td>\n",
       "      <td>2016.0</td>\n",
       "      <td>2</td>\n",
       "      <td>62.8</td>\n",
       "      <td>...</td>\n",
       "      <td>1</td>\n",
       "      <td>2</td>\n",
       "      <td>0</td>\n",
       "      <td>0</td>\n",
       "      <td>10</td>\n",
       "      <td>0</td>\n",
       "      <td>0</td>\n",
       "      <td>2</td>\n",
       "      <td>0</td>\n",
       "      <td>7118500.41</td>\n",
       "    </tr>\n",
       "    <tr>\n",
       "      <th>4</th>\n",
       "      <td>30478</td>\n",
       "      <td>2015-07-01</td>\n",
       "      <td>40.00</td>\n",
       "      <td>40.0</td>\n",
       "      <td>17</td>\n",
       "      <td>17</td>\n",
       "      <td>1</td>\n",
       "      <td>0.0</td>\n",
       "      <td>1</td>\n",
       "      <td>1.0</td>\n",
       "      <td>...</td>\n",
       "      <td>1</td>\n",
       "      <td>1</td>\n",
       "      <td>0</td>\n",
       "      <td>2</td>\n",
       "      <td>12</td>\n",
       "      <td>0</td>\n",
       "      <td>1</td>\n",
       "      <td>11</td>\n",
       "      <td>1</td>\n",
       "      <td>7118500.41</td>\n",
       "    </tr>\n",
       "    <tr>\n",
       "      <th>...</th>\n",
       "      <td>...</td>\n",
       "      <td>...</td>\n",
       "      <td>...</td>\n",
       "      <td>...</td>\n",
       "      <td>...</td>\n",
       "      <td>...</td>\n",
       "      <td>...</td>\n",
       "      <td>...</td>\n",
       "      <td>...</td>\n",
       "      <td>...</td>\n",
       "      <td>...</td>\n",
       "      <td>...</td>\n",
       "      <td>...</td>\n",
       "      <td>...</td>\n",
       "      <td>...</td>\n",
       "      <td>...</td>\n",
       "      <td>...</td>\n",
       "      <td>...</td>\n",
       "      <td>...</td>\n",
       "      <td>...</td>\n",
       "      <td>...</td>\n",
       "    </tr>\n",
       "    <tr>\n",
       "      <th>7657</th>\n",
       "      <td>38131</td>\n",
       "      <td>2016-05-26</td>\n",
       "      <td>52.20</td>\n",
       "      <td>31.8</td>\n",
       "      <td>10</td>\n",
       "      <td>12</td>\n",
       "      <td>5</td>\n",
       "      <td>1973.0</td>\n",
       "      <td>2</td>\n",
       "      <td>9.1</td>\n",
       "      <td>...</td>\n",
       "      <td>28</td>\n",
       "      <td>1</td>\n",
       "      <td>1</td>\n",
       "      <td>8</td>\n",
       "      <td>39</td>\n",
       "      <td>2</td>\n",
       "      <td>3</td>\n",
       "      <td>75</td>\n",
       "      <td>12</td>\n",
       "      <td>7118500.41</td>\n",
       "    </tr>\n",
       "    <tr>\n",
       "      <th>7658</th>\n",
       "      <td>38132</td>\n",
       "      <td>2016-05-28</td>\n",
       "      <td>54.09</td>\n",
       "      <td>NaN</td>\n",
       "      <td>14</td>\n",
       "      <td>0</td>\n",
       "      <td>1</td>\n",
       "      <td>NaN</td>\n",
       "      <td>2</td>\n",
       "      <td>0.0</td>\n",
       "      <td>...</td>\n",
       "      <td>2</td>\n",
       "      <td>1</td>\n",
       "      <td>0</td>\n",
       "      <td>0</td>\n",
       "      <td>10</td>\n",
       "      <td>0</td>\n",
       "      <td>0</td>\n",
       "      <td>0</td>\n",
       "      <td>0</td>\n",
       "      <td>7118500.41</td>\n",
       "    </tr>\n",
       "    <tr>\n",
       "      <th>7659</th>\n",
       "      <td>38133</td>\n",
       "      <td>2016-05-30</td>\n",
       "      <td>41.08</td>\n",
       "      <td>1.0</td>\n",
       "      <td>12</td>\n",
       "      <td>1</td>\n",
       "      <td>1</td>\n",
       "      <td>1.0</td>\n",
       "      <td>1</td>\n",
       "      <td>1.0</td>\n",
       "      <td>...</td>\n",
       "      <td>371</td>\n",
       "      <td>141</td>\n",
       "      <td>26</td>\n",
       "      <td>150</td>\n",
       "      <td>249</td>\n",
       "      <td>2</td>\n",
       "      <td>105</td>\n",
       "      <td>203</td>\n",
       "      <td>13</td>\n",
       "      <td>7118500.41</td>\n",
       "    </tr>\n",
       "    <tr>\n",
       "      <th>7660</th>\n",
       "      <td>38134</td>\n",
       "      <td>2016-05-30</td>\n",
       "      <td>34.80</td>\n",
       "      <td>19.8</td>\n",
       "      <td>8</td>\n",
       "      <td>9</td>\n",
       "      <td>5</td>\n",
       "      <td>1977.0</td>\n",
       "      <td>1</td>\n",
       "      <td>6.4</td>\n",
       "      <td>...</td>\n",
       "      <td>7</td>\n",
       "      <td>2</td>\n",
       "      <td>0</td>\n",
       "      <td>5</td>\n",
       "      <td>11</td>\n",
       "      <td>0</td>\n",
       "      <td>2</td>\n",
       "      <td>43</td>\n",
       "      <td>10</td>\n",
       "      <td>7118500.41</td>\n",
       "    </tr>\n",
       "    <tr>\n",
       "      <th>7661</th>\n",
       "      <td>38135</td>\n",
       "      <td>2016-05-30</td>\n",
       "      <td>63.00</td>\n",
       "      <td>43.8</td>\n",
       "      <td>5</td>\n",
       "      <td>5</td>\n",
       "      <td>1</td>\n",
       "      <td>1973.0</td>\n",
       "      <td>3</td>\n",
       "      <td>7.1</td>\n",
       "      <td>...</td>\n",
       "      <td>11</td>\n",
       "      <td>1</td>\n",
       "      <td>0</td>\n",
       "      <td>6</td>\n",
       "      <td>26</td>\n",
       "      <td>1</td>\n",
       "      <td>4</td>\n",
       "      <td>42</td>\n",
       "      <td>11</td>\n",
       "      <td>7118500.41</td>\n",
       "    </tr>\n",
       "  </tbody>\n",
       "</table>\n",
       "<p>7662 rows × 292 columns</p>\n",
       "</div>"
      ],
      "text/plain": [
       "         id   timestamp  full_sq  life_sq  floor  max_floor  material  \\\n",
       "0     30474  2015-07-01    39.00     20.7      2          9         1   \n",
       "1     30475  2015-07-01    79.20      NaN      8         17         1   \n",
       "2     30476  2015-07-01    40.50     25.1      3          5         2   \n",
       "3     30477  2015-07-01    62.80     36.0     17         17         1   \n",
       "4     30478  2015-07-01    40.00     40.0     17         17         1   \n",
       "...     ...         ...      ...      ...    ...        ...       ...   \n",
       "7657  38131  2016-05-26    52.20     31.8     10         12         5   \n",
       "7658  38132  2016-05-28    54.09      NaN     14          0         1   \n",
       "7659  38133  2016-05-30    41.08      1.0     12          1         1   \n",
       "7660  38134  2016-05-30    34.80     19.8      8          9         5   \n",
       "7661  38135  2016-05-30    63.00     43.8      5          5         1   \n",
       "\n",
       "      build_year  num_room  kitch_sq  ...  cafe_count_5000_price_2500  \\\n",
       "0         1998.0         1       8.9  ...                           0   \n",
       "1            0.0         3       1.0  ...                           1   \n",
       "2         1960.0         2       4.8  ...                          11   \n",
       "3         2016.0         2      62.8  ...                           1   \n",
       "4            0.0         1       1.0  ...                           1   \n",
       "...          ...       ...       ...  ...                         ...   \n",
       "7657      1973.0         2       9.1  ...                          28   \n",
       "7658         NaN         2       0.0  ...                           2   \n",
       "7659         1.0         1       1.0  ...                         371   \n",
       "7660      1977.0         1       6.4  ...                           7   \n",
       "7661      1973.0         3       7.1  ...                          11   \n",
       "\n",
       "     cafe_count_5000_price_4000 cafe_count_5000_price_high  \\\n",
       "0                             0                          0   \n",
       "1                             1                          0   \n",
       "2                             4                          0   \n",
       "3                             2                          0   \n",
       "4                             1                          0   \n",
       "...                         ...                        ...   \n",
       "7657                          1                          1   \n",
       "7658                          1                          0   \n",
       "7659                        141                         26   \n",
       "7660                          2                          0   \n",
       "7661                          1                          0   \n",
       "\n",
       "      big_church_count_5000  church_count_5000  mosque_count_5000  \\\n",
       "0                         1                 10                  1   \n",
       "1                         2                 11                  0   \n",
       "2                        10                 21                  0   \n",
       "3                         0                 10                  0   \n",
       "4                         2                 12                  0   \n",
       "...                     ...                ...                ...   \n",
       "7657                      8                 39                  2   \n",
       "7658                      0                 10                  0   \n",
       "7659                    150                249                  2   \n",
       "7660                      5                 11                  0   \n",
       "7661                      6                 26                  1   \n",
       "\n",
       "      leisure_count_5000  sport_count_5000  market_count_5000   price_doc  \n",
       "0                      0                14                  1  7118500.41  \n",
       "1                      1                12                  1  7118500.41  \n",
       "2                     10                71                 11  7118500.41  \n",
       "3                      0                 2                  0  7118500.41  \n",
       "4                      1                11                  1  7118500.41  \n",
       "...                  ...               ...                ...         ...  \n",
       "7657                   3                75                 12  7118500.41  \n",
       "7658                   0                 0                  0  7118500.41  \n",
       "7659                 105               203                 13  7118500.41  \n",
       "7660                   2                43                 10  7118500.41  \n",
       "7661                   4                42                 11  7118500.41  \n",
       "\n",
       "[7662 rows x 292 columns]"
      ]
     },
     "execution_count": 3,
     "metadata": {},
     "output_type": "execute_result"
    }
   ],
   "source": [
    "test_df = pd.read_csv('datasets/test.csv')\n",
    "prices_test = pd.read_csv('datasets/sample_submission.csv')\n",
    "test = pd.merge(test_df, prices_test, on='id')\n",
    "test"
   ]
  },
  {
   "cell_type": "code",
   "execution_count": 4,
   "id": "62c0c9c7",
   "metadata": {},
   "outputs": [
    {
     "data": {
      "text/plain": [
       "(30471, 292)"
      ]
     },
     "execution_count": 4,
     "metadata": {},
     "output_type": "execute_result"
    }
   ],
   "source": [
    "train.shape"
   ]
  },
  {
   "cell_type": "code",
   "execution_count": 5,
   "id": "4bcf7e50",
   "metadata": {},
   "outputs": [
    {
     "name": "stderr",
     "output_type": "stream",
     "text": [
      "C:\\Users\\User\\AppData\\Local\\Temp\\ipykernel_13688\\1289463835.py:1: FutureWarning: The frame.append method is deprecated and will be removed from pandas in a future version. Use pandas.concat instead.\n",
      "  df = train.append(test)\n"
     ]
    },
    {
     "data": {
      "text/html": [
       "<div>\n",
       "<style scoped>\n",
       "    .dataframe tbody tr th:only-of-type {\n",
       "        vertical-align: middle;\n",
       "    }\n",
       "\n",
       "    .dataframe tbody tr th {\n",
       "        vertical-align: top;\n",
       "    }\n",
       "\n",
       "    .dataframe thead th {\n",
       "        text-align: right;\n",
       "    }\n",
       "</style>\n",
       "<table border=\"1\" class=\"dataframe\">\n",
       "  <thead>\n",
       "    <tr style=\"text-align: right;\">\n",
       "      <th></th>\n",
       "      <th>id</th>\n",
       "      <th>timestamp</th>\n",
       "      <th>full_sq</th>\n",
       "      <th>life_sq</th>\n",
       "      <th>floor</th>\n",
       "      <th>max_floor</th>\n",
       "      <th>material</th>\n",
       "      <th>build_year</th>\n",
       "      <th>num_room</th>\n",
       "      <th>kitch_sq</th>\n",
       "      <th>...</th>\n",
       "      <th>cafe_count_5000_price_2500</th>\n",
       "      <th>cafe_count_5000_price_4000</th>\n",
       "      <th>cafe_count_5000_price_high</th>\n",
       "      <th>big_church_count_5000</th>\n",
       "      <th>church_count_5000</th>\n",
       "      <th>mosque_count_5000</th>\n",
       "      <th>leisure_count_5000</th>\n",
       "      <th>sport_count_5000</th>\n",
       "      <th>market_count_5000</th>\n",
       "      <th>price_doc</th>\n",
       "    </tr>\n",
       "  </thead>\n",
       "  <tbody>\n",
       "    <tr>\n",
       "      <th>0</th>\n",
       "      <td>1</td>\n",
       "      <td>2011-08-20</td>\n",
       "      <td>43.00</td>\n",
       "      <td>27.0</td>\n",
       "      <td>4.0</td>\n",
       "      <td>NaN</td>\n",
       "      <td>NaN</td>\n",
       "      <td>NaN</td>\n",
       "      <td>NaN</td>\n",
       "      <td>NaN</td>\n",
       "      <td>...</td>\n",
       "      <td>9</td>\n",
       "      <td>4</td>\n",
       "      <td>0</td>\n",
       "      <td>13</td>\n",
       "      <td>22</td>\n",
       "      <td>1</td>\n",
       "      <td>0</td>\n",
       "      <td>52</td>\n",
       "      <td>4</td>\n",
       "      <td>5850000.00</td>\n",
       "    </tr>\n",
       "    <tr>\n",
       "      <th>1</th>\n",
       "      <td>2</td>\n",
       "      <td>2011-08-23</td>\n",
       "      <td>34.00</td>\n",
       "      <td>19.0</td>\n",
       "      <td>3.0</td>\n",
       "      <td>NaN</td>\n",
       "      <td>NaN</td>\n",
       "      <td>NaN</td>\n",
       "      <td>NaN</td>\n",
       "      <td>NaN</td>\n",
       "      <td>...</td>\n",
       "      <td>15</td>\n",
       "      <td>3</td>\n",
       "      <td>0</td>\n",
       "      <td>15</td>\n",
       "      <td>29</td>\n",
       "      <td>1</td>\n",
       "      <td>10</td>\n",
       "      <td>66</td>\n",
       "      <td>14</td>\n",
       "      <td>6000000.00</td>\n",
       "    </tr>\n",
       "    <tr>\n",
       "      <th>2</th>\n",
       "      <td>3</td>\n",
       "      <td>2011-08-27</td>\n",
       "      <td>43.00</td>\n",
       "      <td>29.0</td>\n",
       "      <td>2.0</td>\n",
       "      <td>NaN</td>\n",
       "      <td>NaN</td>\n",
       "      <td>NaN</td>\n",
       "      <td>NaN</td>\n",
       "      <td>NaN</td>\n",
       "      <td>...</td>\n",
       "      <td>10</td>\n",
       "      <td>3</td>\n",
       "      <td>0</td>\n",
       "      <td>11</td>\n",
       "      <td>27</td>\n",
       "      <td>0</td>\n",
       "      <td>4</td>\n",
       "      <td>67</td>\n",
       "      <td>10</td>\n",
       "      <td>5700000.00</td>\n",
       "    </tr>\n",
       "    <tr>\n",
       "      <th>3</th>\n",
       "      <td>4</td>\n",
       "      <td>2011-09-01</td>\n",
       "      <td>89.00</td>\n",
       "      <td>50.0</td>\n",
       "      <td>9.0</td>\n",
       "      <td>NaN</td>\n",
       "      <td>NaN</td>\n",
       "      <td>NaN</td>\n",
       "      <td>NaN</td>\n",
       "      <td>NaN</td>\n",
       "      <td>...</td>\n",
       "      <td>11</td>\n",
       "      <td>2</td>\n",
       "      <td>1</td>\n",
       "      <td>4</td>\n",
       "      <td>4</td>\n",
       "      <td>0</td>\n",
       "      <td>0</td>\n",
       "      <td>26</td>\n",
       "      <td>3</td>\n",
       "      <td>13100000.00</td>\n",
       "    </tr>\n",
       "    <tr>\n",
       "      <th>4</th>\n",
       "      <td>5</td>\n",
       "      <td>2011-09-05</td>\n",
       "      <td>77.00</td>\n",
       "      <td>77.0</td>\n",
       "      <td>4.0</td>\n",
       "      <td>NaN</td>\n",
       "      <td>NaN</td>\n",
       "      <td>NaN</td>\n",
       "      <td>NaN</td>\n",
       "      <td>NaN</td>\n",
       "      <td>...</td>\n",
       "      <td>319</td>\n",
       "      <td>108</td>\n",
       "      <td>17</td>\n",
       "      <td>135</td>\n",
       "      <td>236</td>\n",
       "      <td>2</td>\n",
       "      <td>91</td>\n",
       "      <td>195</td>\n",
       "      <td>14</td>\n",
       "      <td>16331452.00</td>\n",
       "    </tr>\n",
       "    <tr>\n",
       "      <th>...</th>\n",
       "      <td>...</td>\n",
       "      <td>...</td>\n",
       "      <td>...</td>\n",
       "      <td>...</td>\n",
       "      <td>...</td>\n",
       "      <td>...</td>\n",
       "      <td>...</td>\n",
       "      <td>...</td>\n",
       "      <td>...</td>\n",
       "      <td>...</td>\n",
       "      <td>...</td>\n",
       "      <td>...</td>\n",
       "      <td>...</td>\n",
       "      <td>...</td>\n",
       "      <td>...</td>\n",
       "      <td>...</td>\n",
       "      <td>...</td>\n",
       "      <td>...</td>\n",
       "      <td>...</td>\n",
       "      <td>...</td>\n",
       "      <td>...</td>\n",
       "    </tr>\n",
       "    <tr>\n",
       "      <th>7657</th>\n",
       "      <td>38131</td>\n",
       "      <td>2016-05-26</td>\n",
       "      <td>52.20</td>\n",
       "      <td>31.8</td>\n",
       "      <td>10.0</td>\n",
       "      <td>12.0</td>\n",
       "      <td>5.0</td>\n",
       "      <td>1973.0</td>\n",
       "      <td>2.0</td>\n",
       "      <td>9.1</td>\n",
       "      <td>...</td>\n",
       "      <td>28</td>\n",
       "      <td>1</td>\n",
       "      <td>1</td>\n",
       "      <td>8</td>\n",
       "      <td>39</td>\n",
       "      <td>2</td>\n",
       "      <td>3</td>\n",
       "      <td>75</td>\n",
       "      <td>12</td>\n",
       "      <td>7118500.41</td>\n",
       "    </tr>\n",
       "    <tr>\n",
       "      <th>7658</th>\n",
       "      <td>38132</td>\n",
       "      <td>2016-05-28</td>\n",
       "      <td>54.09</td>\n",
       "      <td>NaN</td>\n",
       "      <td>14.0</td>\n",
       "      <td>0.0</td>\n",
       "      <td>1.0</td>\n",
       "      <td>NaN</td>\n",
       "      <td>2.0</td>\n",
       "      <td>0.0</td>\n",
       "      <td>...</td>\n",
       "      <td>2</td>\n",
       "      <td>1</td>\n",
       "      <td>0</td>\n",
       "      <td>0</td>\n",
       "      <td>10</td>\n",
       "      <td>0</td>\n",
       "      <td>0</td>\n",
       "      <td>0</td>\n",
       "      <td>0</td>\n",
       "      <td>7118500.41</td>\n",
       "    </tr>\n",
       "    <tr>\n",
       "      <th>7659</th>\n",
       "      <td>38133</td>\n",
       "      <td>2016-05-30</td>\n",
       "      <td>41.08</td>\n",
       "      <td>1.0</td>\n",
       "      <td>12.0</td>\n",
       "      <td>1.0</td>\n",
       "      <td>1.0</td>\n",
       "      <td>1.0</td>\n",
       "      <td>1.0</td>\n",
       "      <td>1.0</td>\n",
       "      <td>...</td>\n",
       "      <td>371</td>\n",
       "      <td>141</td>\n",
       "      <td>26</td>\n",
       "      <td>150</td>\n",
       "      <td>249</td>\n",
       "      <td>2</td>\n",
       "      <td>105</td>\n",
       "      <td>203</td>\n",
       "      <td>13</td>\n",
       "      <td>7118500.41</td>\n",
       "    </tr>\n",
       "    <tr>\n",
       "      <th>7660</th>\n",
       "      <td>38134</td>\n",
       "      <td>2016-05-30</td>\n",
       "      <td>34.80</td>\n",
       "      <td>19.8</td>\n",
       "      <td>8.0</td>\n",
       "      <td>9.0</td>\n",
       "      <td>5.0</td>\n",
       "      <td>1977.0</td>\n",
       "      <td>1.0</td>\n",
       "      <td>6.4</td>\n",
       "      <td>...</td>\n",
       "      <td>7</td>\n",
       "      <td>2</td>\n",
       "      <td>0</td>\n",
       "      <td>5</td>\n",
       "      <td>11</td>\n",
       "      <td>0</td>\n",
       "      <td>2</td>\n",
       "      <td>43</td>\n",
       "      <td>10</td>\n",
       "      <td>7118500.41</td>\n",
       "    </tr>\n",
       "    <tr>\n",
       "      <th>7661</th>\n",
       "      <td>38135</td>\n",
       "      <td>2016-05-30</td>\n",
       "      <td>63.00</td>\n",
       "      <td>43.8</td>\n",
       "      <td>5.0</td>\n",
       "      <td>5.0</td>\n",
       "      <td>1.0</td>\n",
       "      <td>1973.0</td>\n",
       "      <td>3.0</td>\n",
       "      <td>7.1</td>\n",
       "      <td>...</td>\n",
       "      <td>11</td>\n",
       "      <td>1</td>\n",
       "      <td>0</td>\n",
       "      <td>6</td>\n",
       "      <td>26</td>\n",
       "      <td>1</td>\n",
       "      <td>4</td>\n",
       "      <td>42</td>\n",
       "      <td>11</td>\n",
       "      <td>7118500.41</td>\n",
       "    </tr>\n",
       "  </tbody>\n",
       "</table>\n",
       "<p>38133 rows × 292 columns</p>\n",
       "</div>"
      ],
      "text/plain": [
       "         id   timestamp  full_sq  life_sq  floor  max_floor  material  \\\n",
       "0         1  2011-08-20    43.00     27.0    4.0        NaN       NaN   \n",
       "1         2  2011-08-23    34.00     19.0    3.0        NaN       NaN   \n",
       "2         3  2011-08-27    43.00     29.0    2.0        NaN       NaN   \n",
       "3         4  2011-09-01    89.00     50.0    9.0        NaN       NaN   \n",
       "4         5  2011-09-05    77.00     77.0    4.0        NaN       NaN   \n",
       "...     ...         ...      ...      ...    ...        ...       ...   \n",
       "7657  38131  2016-05-26    52.20     31.8   10.0       12.0       5.0   \n",
       "7658  38132  2016-05-28    54.09      NaN   14.0        0.0       1.0   \n",
       "7659  38133  2016-05-30    41.08      1.0   12.0        1.0       1.0   \n",
       "7660  38134  2016-05-30    34.80     19.8    8.0        9.0       5.0   \n",
       "7661  38135  2016-05-30    63.00     43.8    5.0        5.0       1.0   \n",
       "\n",
       "      build_year  num_room  kitch_sq  ...  cafe_count_5000_price_2500  \\\n",
       "0            NaN       NaN       NaN  ...                           9   \n",
       "1            NaN       NaN       NaN  ...                          15   \n",
       "2            NaN       NaN       NaN  ...                          10   \n",
       "3            NaN       NaN       NaN  ...                          11   \n",
       "4            NaN       NaN       NaN  ...                         319   \n",
       "...          ...       ...       ...  ...                         ...   \n",
       "7657      1973.0       2.0       9.1  ...                          28   \n",
       "7658         NaN       2.0       0.0  ...                           2   \n",
       "7659         1.0       1.0       1.0  ...                         371   \n",
       "7660      1977.0       1.0       6.4  ...                           7   \n",
       "7661      1973.0       3.0       7.1  ...                          11   \n",
       "\n",
       "     cafe_count_5000_price_4000 cafe_count_5000_price_high  \\\n",
       "0                             4                          0   \n",
       "1                             3                          0   \n",
       "2                             3                          0   \n",
       "3                             2                          1   \n",
       "4                           108                         17   \n",
       "...                         ...                        ...   \n",
       "7657                          1                          1   \n",
       "7658                          1                          0   \n",
       "7659                        141                         26   \n",
       "7660                          2                          0   \n",
       "7661                          1                          0   \n",
       "\n",
       "      big_church_count_5000  church_count_5000  mosque_count_5000  \\\n",
       "0                        13                 22                  1   \n",
       "1                        15                 29                  1   \n",
       "2                        11                 27                  0   \n",
       "3                         4                  4                  0   \n",
       "4                       135                236                  2   \n",
       "...                     ...                ...                ...   \n",
       "7657                      8                 39                  2   \n",
       "7658                      0                 10                  0   \n",
       "7659                    150                249                  2   \n",
       "7660                      5                 11                  0   \n",
       "7661                      6                 26                  1   \n",
       "\n",
       "      leisure_count_5000  sport_count_5000  market_count_5000    price_doc  \n",
       "0                      0                52                  4   5850000.00  \n",
       "1                     10                66                 14   6000000.00  \n",
       "2                      4                67                 10   5700000.00  \n",
       "3                      0                26                  3  13100000.00  \n",
       "4                     91               195                 14  16331452.00  \n",
       "...                  ...               ...                ...          ...  \n",
       "7657                   3                75                 12   7118500.41  \n",
       "7658                   0                 0                  0   7118500.41  \n",
       "7659                 105               203                 13   7118500.41  \n",
       "7660                   2                43                 10   7118500.41  \n",
       "7661                   4                42                 11   7118500.41  \n",
       "\n",
       "[38133 rows x 292 columns]"
      ]
     },
     "execution_count": 5,
     "metadata": {},
     "output_type": "execute_result"
    }
   ],
   "source": [
    "df = train.append(test)\n",
    "df"
   ]
  },
  {
   "cell_type": "markdown",
   "id": "8237c023",
   "metadata": {},
   "source": [
    "## Deleting null values\n"
   ]
  },
  {
   "cell_type": "code",
   "execution_count": 6,
   "id": "019ad3f0",
   "metadata": {},
   "outputs": [
    {
     "name": "stdout",
     "output_type": "stream",
     "text": [
      "Percent of rows after deleting null values: 4.51%\n"
     ]
    }
   ],
   "source": [
    "print(f\"Percent of rows after deleting null values: \" + \"{:.2f}%\".format(df.shape[0] / df.dropna().shape[0]))"
   ]
  },
  {
   "cell_type": "code",
   "execution_count": 7,
   "id": "69dadb70",
   "metadata": {},
   "outputs": [],
   "source": [
    "nullValuesCount = df.isnull().sum().sort_values(ascending=False)\n",
    "nullValuesCount = nullValuesCount[nullValuesCount > 0]\n",
    "nullValuesPercent = nullValuesCount / df.shape[0]"
   ]
  },
  {
   "cell_type": "markdown",
   "id": "114fbbd9",
   "metadata": {},
   "source": [
    "### Percentage of null values per column visualization"
   ]
  },
  {
   "cell_type": "code",
   "execution_count": 8,
   "id": "fea9ff97",
   "metadata": {},
   "outputs": [
    {
     "data": {
      "text/plain": [
       "Text(0.5, 1.0, 'Percent of null values in column  (%)')"
      ]
     },
     "execution_count": 8,
     "metadata": {},
     "output_type": "execute_result"
    },
    {
     "data": {
      "image/png": "[encoded data removed]",
      "text/plain": [
       "<Figure size 1000x800 with 1 Axes>"
      ]
     },
     "metadata": {},
     "output_type": "display_data"
    }
   ],
   "source": [
    "nullValuesPercent.plot(kind=\"bar\", figsize = (10,8), fontsize = 8)\n",
    "plt.xlabel(\"Columns\", fontsize = 10)\n",
    "plt.ylabel(\"Percent\", fontsize = 10)\n",
    "plt.title(\"Percent of null values in column  (%)\", fontsize = 16)"
   ]
  },
  {
   "cell_type": "code",
   "execution_count": 9,
   "id": "b129eaf0",
   "metadata": {},
   "outputs": [
    {
     "data": {
      "text/plain": [
       "hospital_beds_raion                      0.468335\n",
       "cafe_sum_500_max_price_avg               0.431123\n",
       "cafe_sum_500_min_price_avg               0.431123\n",
       "cafe_avg_price_500                       0.431123\n",
       "build_year                               0.384287\n",
       "state                                    0.373771\n",
       "max_floor                                0.251016\n",
       "material                                 0.251016\n",
       "num_room                                 0.251016\n",
       "kitch_sq                                 0.251016\n",
       "preschool_quota                          0.217240\n",
       "school_quota                             0.217135\n",
       "cafe_avg_price_1000                      0.203131\n",
       "cafe_sum_1000_max_price_avg              0.203131\n",
       "cafe_sum_1000_min_price_avg              0.203131\n",
       "life_sq                                  0.198227\n",
       "build_count_block                        0.162825\n",
       "build_count_wood                         0.162825\n",
       "build_count_frame                        0.162825\n",
       "build_count_brick                        0.162825\n",
       "raion_build_count_with_material_info     0.162825\n",
       "build_count_monolith                     0.162825\n",
       "build_count_panel                        0.162825\n",
       "build_count_foam                         0.162825\n",
       "build_count_1971-1995                    0.162825\n",
       "build_count_slag                         0.162825\n",
       "build_count_mix                          0.162825\n",
       "build_count_before_1920                  0.162825\n",
       "build_count_1921-1945                    0.162825\n",
       "build_count_1946-1970                    0.162825\n",
       "build_count_after_1995                   0.162825\n",
       "raion_build_count_with_builddate_info    0.162825\n",
       "cafe_avg_price_1500                      0.131645\n",
       "cafe_sum_1500_max_price_avg              0.131645\n",
       "cafe_sum_1500_min_price_avg              0.131645\n",
       "cafe_avg_price_2000                      0.056355\n",
       "cafe_sum_2000_max_price_avg              0.056355\n",
       "cafe_sum_2000_min_price_avg              0.056355\n",
       "cafe_sum_3000_min_price_avg              0.030761\n",
       "cafe_avg_price_3000                      0.030761\n",
       "cafe_sum_3000_max_price_avg              0.030761\n",
       "cafe_sum_5000_max_price_avg              0.011145\n",
       "cafe_sum_5000_min_price_avg              0.011145\n",
       "cafe_avg_price_5000                      0.011145\n",
       "prom_part_5000                           0.007080\n",
       "floor                                    0.004379\n",
       "ID_railroad_station_walk                 0.001547\n",
       "metro_min_walk                           0.001547\n",
       "metro_km_walk                            0.001547\n",
       "railroad_station_walk_km                 0.001547\n",
       "railroad_station_walk_min                0.001547\n",
       "product_type                             0.000865\n",
       "green_part_2000                          0.000498\n",
       "dtype: float64"
      ]
     },
     "execution_count": 9,
     "metadata": {},
     "output_type": "execute_result"
    }
   ],
   "source": [
    "nullValuesPercent"
   ]
  },
  {
   "cell_type": "code",
   "execution_count": 10,
   "id": "35312fa1",
   "metadata": {},
   "outputs": [
    {
     "name": "stdout",
     "output_type": "stream",
     "text": [
      "Count of uninformative values with a lot of null values: 4\n"
     ]
    }
   ],
   "source": [
    "count_uninformative = nullValuesPercent[nullValuesPercent > 0.4]\n",
    "print(f\"Count of uninformative values with a lot of null values: {count_uninformative.shape[0]}\")"
   ]
  },
  {
   "cell_type": "code",
   "execution_count": 11,
   "id": "4b6e9834",
   "metadata": {},
   "outputs": [],
   "source": [
    "df.drop(columns=count_uninformative.index, axis=1, inplace=True)"
   ]
  },
  {
   "cell_type": "code",
   "execution_count": 12,
   "id": "8728e3ae",
   "metadata": {},
   "outputs": [
    {
     "data": {
      "text/plain": [
       "(38133, 288)"
      ]
     },
     "execution_count": 12,
     "metadata": {},
     "output_type": "execute_result"
    }
   ],
   "source": [
    "df.shape"
   ]
  },
  {
   "cell_type": "markdown",
   "id": "683ac359",
   "metadata": {},
   "source": [
    "#### Filling null values\n",
    "Filling numeric columns with median value of column, categorical - with \"unknown\" value"
   ]
  },
  {
   "cell_type": "code",
   "execution_count": 13,
   "id": "b5b673e5",
   "metadata": {},
   "outputs": [],
   "source": [
    "def fill_nulls(df, columns):\n",
    "    for column in columns:\n",
    "        column_type = df[column].dtype \n",
    "        if column_type == 'object':\n",
    "            df[column].fillna('unknown', inplace=True)\n",
    "        else:\n",
    "            df[column].fillna(df[column].median(), inplace=True)\n",
    "    return df"
   ]
  },
  {
   "cell_type": "code",
   "execution_count": 14,
   "id": "73878f32",
   "metadata": {},
   "outputs": [
    {
     "data": {
      "text/plain": [
       "Index(['build_year', 'state', 'max_floor', 'material', 'num_room', 'kitch_sq',\n",
       "       'preschool_quota', 'school_quota', 'cafe_avg_price_1000',\n",
       "       'cafe_sum_1000_max_price_avg', 'cafe_sum_1000_min_price_avg', 'life_sq',\n",
       "       'build_count_block', 'build_count_wood', 'build_count_frame',\n",
       "       'build_count_brick', 'raion_build_count_with_material_info',\n",
       "       'build_count_monolith', 'build_count_panel', 'build_count_foam',\n",
       "       'build_count_1971-1995', 'build_count_slag', 'build_count_mix',\n",
       "       'build_count_before_1920', 'build_count_1921-1945',\n",
       "       'build_count_1946-1970', 'build_count_after_1995',\n",
       "       'raion_build_count_with_builddate_info', 'cafe_avg_price_1500',\n",
       "       'cafe_sum_1500_max_price_avg', 'cafe_sum_1500_min_price_avg',\n",
       "       'cafe_avg_price_2000', 'cafe_sum_2000_max_price_avg',\n",
       "       'cafe_sum_2000_min_price_avg', 'cafe_sum_3000_min_price_avg',\n",
       "       'cafe_avg_price_3000', 'cafe_sum_3000_max_price_avg',\n",
       "       'cafe_sum_5000_max_price_avg', 'cafe_sum_5000_min_price_avg',\n",
       "       'cafe_avg_price_5000', 'prom_part_5000', 'floor',\n",
       "       'ID_railroad_station_walk', 'metro_min_walk', 'metro_km_walk',\n",
       "       'railroad_station_walk_km', 'railroad_station_walk_min', 'product_type',\n",
       "       'green_part_2000'],\n",
       "      dtype='object')"
      ]
     },
     "execution_count": 14,
     "metadata": {},
     "output_type": "execute_result"
    }
   ],
   "source": [
    "columns = nullValuesPercent.index[4:]\n",
    "columns"
   ]
  },
  {
   "cell_type": "markdown",
   "id": "be117cd6",
   "metadata": {},
   "source": [
    "#### Checking for null values"
   ]
  },
  {
   "cell_type": "code",
   "execution_count": 15,
   "id": "bda5c9cb",
   "metadata": {},
   "outputs": [
    {
     "data": {
      "text/plain": [
       "0"
      ]
     },
     "execution_count": 15,
     "metadata": {},
     "output_type": "execute_result"
    }
   ],
   "source": [
    "df = fill_nulls(df,columns)\n",
    "df.isnull().sum().sum()"
   ]
  },
  {
   "cell_type": "markdown",
   "id": "70488d4f",
   "metadata": {},
   "source": [
    "## Dropping \"id\" column"
   ]
  },
  {
   "cell_type": "code",
   "execution_count": 16,
   "id": "cd28ca62",
   "metadata": {},
   "outputs": [],
   "source": [
    "df.drop(columns=['id'], inplace=True)"
   ]
  },
  {
   "cell_type": "markdown",
   "id": "a94dc094",
   "metadata": {},
   "source": [
    "## Importing of macro economy dataset"
   ]
  },
  {
   "cell_type": "code",
   "execution_count": 17,
   "id": "1ec70e04",
   "metadata": {},
   "outputs": [],
   "source": [
    "macro = pd.read_csv('datasets/macro.csv')"
   ]
  },
  {
   "cell_type": "code",
   "execution_count": 18,
   "id": "06898e16",
   "metadata": {},
   "outputs": [
    {
     "data": {
      "text/html": [
       "<div>\n",
       "<style scoped>\n",
       "    .dataframe tbody tr th:only-of-type {\n",
       "        vertical-align: middle;\n",
       "    }\n",
       "\n",
       "    .dataframe tbody tr th {\n",
       "        vertical-align: top;\n",
       "    }\n",
       "\n",
       "    .dataframe thead th {\n",
       "        text-align: right;\n",
       "    }\n",
       "</style>\n",
       "<table border=\"1\" class=\"dataframe\">\n",
       "  <thead>\n",
       "    <tr style=\"text-align: right;\">\n",
       "      <th></th>\n",
       "      <th>timestamp</th>\n",
       "      <th>oil_urals</th>\n",
       "      <th>gdp_quart</th>\n",
       "      <th>gdp_quart_growth</th>\n",
       "      <th>cpi</th>\n",
       "      <th>ppi</th>\n",
       "      <th>gdp_deflator</th>\n",
       "      <th>balance_trade</th>\n",
       "      <th>balance_trade_growth</th>\n",
       "      <th>usdrub</th>\n",
       "      <th>...</th>\n",
       "      <th>provision_retail_space_modern_sqm</th>\n",
       "      <th>turnover_catering_per_cap</th>\n",
       "      <th>theaters_viewers_per_1000_cap</th>\n",
       "      <th>seats_theather_rfmin_per_100000_cap</th>\n",
       "      <th>museum_visitis_per_100_cap</th>\n",
       "      <th>bandwidth_sports</th>\n",
       "      <th>population_reg_sports_share</th>\n",
       "      <th>students_reg_sports_share</th>\n",
       "      <th>apartment_build</th>\n",
       "      <th>apartment_fund_sqm</th>\n",
       "    </tr>\n",
       "  </thead>\n",
       "  <tbody>\n",
       "    <tr>\n",
       "      <th>0</th>\n",
       "      <td>2010-01-01</td>\n",
       "      <td>76.1000</td>\n",
       "      <td>NaN</td>\n",
       "      <td>NaN</td>\n",
       "      <td>NaN</td>\n",
       "      <td>NaN</td>\n",
       "      <td>NaN</td>\n",
       "      <td>NaN</td>\n",
       "      <td>NaN</td>\n",
       "      <td>NaN</td>\n",
       "      <td>...</td>\n",
       "      <td>690.0</td>\n",
       "      <td>6221.0</td>\n",
       "      <td>527.0</td>\n",
       "      <td>0.41</td>\n",
       "      <td>993.0</td>\n",
       "      <td>NaN</td>\n",
       "      <td>NaN</td>\n",
       "      <td>63.03</td>\n",
       "      <td>22825.0</td>\n",
       "      <td>NaN</td>\n",
       "    </tr>\n",
       "    <tr>\n",
       "      <th>1</th>\n",
       "      <td>2010-01-02</td>\n",
       "      <td>76.1000</td>\n",
       "      <td>NaN</td>\n",
       "      <td>NaN</td>\n",
       "      <td>NaN</td>\n",
       "      <td>NaN</td>\n",
       "      <td>NaN</td>\n",
       "      <td>NaN</td>\n",
       "      <td>NaN</td>\n",
       "      <td>NaN</td>\n",
       "      <td>...</td>\n",
       "      <td>690.0</td>\n",
       "      <td>6221.0</td>\n",
       "      <td>527.0</td>\n",
       "      <td>0.41</td>\n",
       "      <td>993.0</td>\n",
       "      <td>NaN</td>\n",
       "      <td>NaN</td>\n",
       "      <td>63.03</td>\n",
       "      <td>22825.0</td>\n",
       "      <td>NaN</td>\n",
       "    </tr>\n",
       "    <tr>\n",
       "      <th>2</th>\n",
       "      <td>2010-01-03</td>\n",
       "      <td>76.1000</td>\n",
       "      <td>NaN</td>\n",
       "      <td>NaN</td>\n",
       "      <td>NaN</td>\n",
       "      <td>NaN</td>\n",
       "      <td>NaN</td>\n",
       "      <td>NaN</td>\n",
       "      <td>NaN</td>\n",
       "      <td>NaN</td>\n",
       "      <td>...</td>\n",
       "      <td>690.0</td>\n",
       "      <td>6221.0</td>\n",
       "      <td>527.0</td>\n",
       "      <td>0.41</td>\n",
       "      <td>993.0</td>\n",
       "      <td>NaN</td>\n",
       "      <td>NaN</td>\n",
       "      <td>63.03</td>\n",
       "      <td>22825.0</td>\n",
       "      <td>NaN</td>\n",
       "    </tr>\n",
       "    <tr>\n",
       "      <th>3</th>\n",
       "      <td>2010-01-04</td>\n",
       "      <td>76.1000</td>\n",
       "      <td>NaN</td>\n",
       "      <td>NaN</td>\n",
       "      <td>NaN</td>\n",
       "      <td>NaN</td>\n",
       "      <td>NaN</td>\n",
       "      <td>NaN</td>\n",
       "      <td>NaN</td>\n",
       "      <td>29.9050</td>\n",
       "      <td>...</td>\n",
       "      <td>690.0</td>\n",
       "      <td>6221.0</td>\n",
       "      <td>527.0</td>\n",
       "      <td>0.41</td>\n",
       "      <td>993.0</td>\n",
       "      <td>NaN</td>\n",
       "      <td>NaN</td>\n",
       "      <td>63.03</td>\n",
       "      <td>22825.0</td>\n",
       "      <td>NaN</td>\n",
       "    </tr>\n",
       "    <tr>\n",
       "      <th>4</th>\n",
       "      <td>2010-01-05</td>\n",
       "      <td>76.1000</td>\n",
       "      <td>NaN</td>\n",
       "      <td>NaN</td>\n",
       "      <td>NaN</td>\n",
       "      <td>NaN</td>\n",
       "      <td>NaN</td>\n",
       "      <td>NaN</td>\n",
       "      <td>NaN</td>\n",
       "      <td>29.8360</td>\n",
       "      <td>...</td>\n",
       "      <td>690.0</td>\n",
       "      <td>6221.0</td>\n",
       "      <td>527.0</td>\n",
       "      <td>0.41</td>\n",
       "      <td>993.0</td>\n",
       "      <td>NaN</td>\n",
       "      <td>NaN</td>\n",
       "      <td>63.03</td>\n",
       "      <td>22825.0</td>\n",
       "      <td>NaN</td>\n",
       "    </tr>\n",
       "    <tr>\n",
       "      <th>...</th>\n",
       "      <td>...</td>\n",
       "      <td>...</td>\n",
       "      <td>...</td>\n",
       "      <td>...</td>\n",
       "      <td>...</td>\n",
       "      <td>...</td>\n",
       "      <td>...</td>\n",
       "      <td>...</td>\n",
       "      <td>...</td>\n",
       "      <td>...</td>\n",
       "      <td>...</td>\n",
       "      <td>...</td>\n",
       "      <td>...</td>\n",
       "      <td>...</td>\n",
       "      <td>...</td>\n",
       "      <td>...</td>\n",
       "      <td>...</td>\n",
       "      <td>...</td>\n",
       "      <td>...</td>\n",
       "      <td>...</td>\n",
       "      <td>...</td>\n",
       "    </tr>\n",
       "    <tr>\n",
       "      <th>2479</th>\n",
       "      <td>2016-10-15</td>\n",
       "      <td>44.3677</td>\n",
       "      <td>19979.4</td>\n",
       "      <td>-0.6</td>\n",
       "      <td>531.0</td>\n",
       "      <td>601.9</td>\n",
       "      <td>133.16</td>\n",
       "      <td>5.823</td>\n",
       "      <td>2.6</td>\n",
       "      <td>62.9573</td>\n",
       "      <td>...</td>\n",
       "      <td>NaN</td>\n",
       "      <td>NaN</td>\n",
       "      <td>NaN</td>\n",
       "      <td>NaN</td>\n",
       "      <td>NaN</td>\n",
       "      <td>NaN</td>\n",
       "      <td>NaN</td>\n",
       "      <td>NaN</td>\n",
       "      <td>NaN</td>\n",
       "      <td>NaN</td>\n",
       "    </tr>\n",
       "    <tr>\n",
       "      <th>2480</th>\n",
       "      <td>2016-10-16</td>\n",
       "      <td>44.3677</td>\n",
       "      <td>19979.4</td>\n",
       "      <td>-0.6</td>\n",
       "      <td>531.0</td>\n",
       "      <td>601.9</td>\n",
       "      <td>133.16</td>\n",
       "      <td>5.823</td>\n",
       "      <td>2.6</td>\n",
       "      <td>62.9573</td>\n",
       "      <td>...</td>\n",
       "      <td>NaN</td>\n",
       "      <td>NaN</td>\n",
       "      <td>NaN</td>\n",
       "      <td>NaN</td>\n",
       "      <td>NaN</td>\n",
       "      <td>NaN</td>\n",
       "      <td>NaN</td>\n",
       "      <td>NaN</td>\n",
       "      <td>NaN</td>\n",
       "      <td>NaN</td>\n",
       "    </tr>\n",
       "    <tr>\n",
       "      <th>2481</th>\n",
       "      <td>2016-10-17</td>\n",
       "      <td>44.3677</td>\n",
       "      <td>19979.4</td>\n",
       "      <td>-0.6</td>\n",
       "      <td>531.0</td>\n",
       "      <td>601.9</td>\n",
       "      <td>133.16</td>\n",
       "      <td>5.823</td>\n",
       "      <td>2.6</td>\n",
       "      <td>63.0856</td>\n",
       "      <td>...</td>\n",
       "      <td>NaN</td>\n",
       "      <td>NaN</td>\n",
       "      <td>NaN</td>\n",
       "      <td>NaN</td>\n",
       "      <td>NaN</td>\n",
       "      <td>NaN</td>\n",
       "      <td>NaN</td>\n",
       "      <td>NaN</td>\n",
       "      <td>NaN</td>\n",
       "      <td>NaN</td>\n",
       "    </tr>\n",
       "    <tr>\n",
       "      <th>2482</th>\n",
       "      <td>2016-10-18</td>\n",
       "      <td>44.3677</td>\n",
       "      <td>19979.4</td>\n",
       "      <td>-0.6</td>\n",
       "      <td>531.0</td>\n",
       "      <td>601.9</td>\n",
       "      <td>133.16</td>\n",
       "      <td>5.823</td>\n",
       "      <td>2.6</td>\n",
       "      <td>62.9512</td>\n",
       "      <td>...</td>\n",
       "      <td>NaN</td>\n",
       "      <td>NaN</td>\n",
       "      <td>NaN</td>\n",
       "      <td>NaN</td>\n",
       "      <td>NaN</td>\n",
       "      <td>NaN</td>\n",
       "      <td>NaN</td>\n",
       "      <td>NaN</td>\n",
       "      <td>NaN</td>\n",
       "      <td>NaN</td>\n",
       "    </tr>\n",
       "    <tr>\n",
       "      <th>2483</th>\n",
       "      <td>2016-10-19</td>\n",
       "      <td>44.3677</td>\n",
       "      <td>19979.4</td>\n",
       "      <td>-0.6</td>\n",
       "      <td>531.0</td>\n",
       "      <td>601.9</td>\n",
       "      <td>133.16</td>\n",
       "      <td>5.823</td>\n",
       "      <td>2.6</td>\n",
       "      <td>62.9512</td>\n",
       "      <td>...</td>\n",
       "      <td>NaN</td>\n",
       "      <td>NaN</td>\n",
       "      <td>NaN</td>\n",
       "      <td>NaN</td>\n",
       "      <td>NaN</td>\n",
       "      <td>NaN</td>\n",
       "      <td>NaN</td>\n",
       "      <td>NaN</td>\n",
       "      <td>NaN</td>\n",
       "      <td>NaN</td>\n",
       "    </tr>\n",
       "  </tbody>\n",
       "</table>\n",
       "<p>2484 rows × 100 columns</p>\n",
       "</div>"
      ],
      "text/plain": [
       "       timestamp  oil_urals  gdp_quart  gdp_quart_growth    cpi    ppi  \\\n",
       "0     2010-01-01    76.1000        NaN               NaN    NaN    NaN   \n",
       "1     2010-01-02    76.1000        NaN               NaN    NaN    NaN   \n",
       "2     2010-01-03    76.1000        NaN               NaN    NaN    NaN   \n",
       "3     2010-01-04    76.1000        NaN               NaN    NaN    NaN   \n",
       "4     2010-01-05    76.1000        NaN               NaN    NaN    NaN   \n",
       "...          ...        ...        ...               ...    ...    ...   \n",
       "2479  2016-10-15    44.3677    19979.4              -0.6  531.0  601.9   \n",
       "2480  2016-10-16    44.3677    19979.4              -0.6  531.0  601.9   \n",
       "2481  2016-10-17    44.3677    19979.4              -0.6  531.0  601.9   \n",
       "2482  2016-10-18    44.3677    19979.4              -0.6  531.0  601.9   \n",
       "2483  2016-10-19    44.3677    19979.4              -0.6  531.0  601.9   \n",
       "\n",
       "      gdp_deflator  balance_trade  balance_trade_growth   usdrub  ...  \\\n",
       "0              NaN            NaN                   NaN      NaN  ...   \n",
       "1              NaN            NaN                   NaN      NaN  ...   \n",
       "2              NaN            NaN                   NaN      NaN  ...   \n",
       "3              NaN            NaN                   NaN  29.9050  ...   \n",
       "4              NaN            NaN                   NaN  29.8360  ...   \n",
       "...            ...            ...                   ...      ...  ...   \n",
       "2479        133.16          5.823                   2.6  62.9573  ...   \n",
       "2480        133.16          5.823                   2.6  62.9573  ...   \n",
       "2481        133.16          5.823                   2.6  63.0856  ...   \n",
       "2482        133.16          5.823                   2.6  62.9512  ...   \n",
       "2483        133.16          5.823                   2.6  62.9512  ...   \n",
       "\n",
       "      provision_retail_space_modern_sqm  turnover_catering_per_cap  \\\n",
       "0                                 690.0                     6221.0   \n",
       "1                                 690.0                     6221.0   \n",
       "2                                 690.0                     6221.0   \n",
       "3                                 690.0                     6221.0   \n",
       "4                                 690.0                     6221.0   \n",
       "...                                 ...                        ...   \n",
       "2479                                NaN                        NaN   \n",
       "2480                                NaN                        NaN   \n",
       "2481                                NaN                        NaN   \n",
       "2482                                NaN                        NaN   \n",
       "2483                                NaN                        NaN   \n",
       "\n",
       "      theaters_viewers_per_1000_cap  seats_theather_rfmin_per_100000_cap  \\\n",
       "0                             527.0                                 0.41   \n",
       "1                             527.0                                 0.41   \n",
       "2                             527.0                                 0.41   \n",
       "3                             527.0                                 0.41   \n",
       "4                             527.0                                 0.41   \n",
       "...                             ...                                  ...   \n",
       "2479                            NaN                                  NaN   \n",
       "2480                            NaN                                  NaN   \n",
       "2481                            NaN                                  NaN   \n",
       "2482                            NaN                                  NaN   \n",
       "2483                            NaN                                  NaN   \n",
       "\n",
       "      museum_visitis_per_100_cap  bandwidth_sports  \\\n",
       "0                          993.0               NaN   \n",
       "1                          993.0               NaN   \n",
       "2                          993.0               NaN   \n",
       "3                          993.0               NaN   \n",
       "4                          993.0               NaN   \n",
       "...                          ...               ...   \n",
       "2479                         NaN               NaN   \n",
       "2480                         NaN               NaN   \n",
       "2481                         NaN               NaN   \n",
       "2482                         NaN               NaN   \n",
       "2483                         NaN               NaN   \n",
       "\n",
       "      population_reg_sports_share  students_reg_sports_share  apartment_build  \\\n",
       "0                             NaN                      63.03          22825.0   \n",
       "1                             NaN                      63.03          22825.0   \n",
       "2                             NaN                      63.03          22825.0   \n",
       "3                             NaN                      63.03          22825.0   \n",
       "4                             NaN                      63.03          22825.0   \n",
       "...                           ...                        ...              ...   \n",
       "2479                          NaN                        NaN              NaN   \n",
       "2480                          NaN                        NaN              NaN   \n",
       "2481                          NaN                        NaN              NaN   \n",
       "2482                          NaN                        NaN              NaN   \n",
       "2483                          NaN                        NaN              NaN   \n",
       "\n",
       "      apartment_fund_sqm  \n",
       "0                    NaN  \n",
       "1                    NaN  \n",
       "2                    NaN  \n",
       "3                    NaN  \n",
       "4                    NaN  \n",
       "...                  ...  \n",
       "2479                 NaN  \n",
       "2480                 NaN  \n",
       "2481                 NaN  \n",
       "2482                 NaN  \n",
       "2483                 NaN  \n",
       "\n",
       "[2484 rows x 100 columns]"
      ]
     },
     "execution_count": 18,
     "metadata": {},
     "output_type": "execute_result"
    }
   ],
   "source": [
    "macro"
   ]
  },
  {
   "cell_type": "markdown",
   "id": "b44073c7",
   "metadata": {},
   "source": [
    "## Checking the correctness of CPI data in the Macro dataset"
   ]
  },
  {
   "cell_type": "markdown",
   "id": "517f3782",
   "metadata": {},
   "source": [
    "#### Extracting year from timestamp"
   ]
  },
  {
   "cell_type": "code",
   "execution_count": 19,
   "id": "1c06b242",
   "metadata": {},
   "outputs": [],
   "source": [
    "macro['timestamp'] = pd.to_datetime(macro['timestamp'])"
   ]
  },
  {
   "cell_type": "code",
   "execution_count": 20,
   "id": "7fbdc227",
   "metadata": {},
   "outputs": [],
   "source": [
    "macro['year'] = macro['timestamp'].dt.year"
   ]
  },
  {
   "cell_type": "markdown",
   "id": "56c99343",
   "metadata": {},
   "source": [
    "#### Checking data for every year and month"
   ]
  },
  {
   "cell_type": "code",
   "execution_count": 21,
   "id": "35878710",
   "metadata": {},
   "outputs": [
    {
     "name": "stdout",
     "output_type": "stream",
     "text": [
      "2010\n",
      "NaN      31\n",
      "317.7    31\n",
      "320.7    31\n",
      "323.6    31\n",
      "324.8    31\n",
      "329.3    31\n",
      "333.6    31\n",
      "319.8    30\n",
      "322.3    30\n",
      "326.6    30\n",
      "330.9    30\n",
      "315.1    28\n",
      "Name: cpi, dtype: int64\n",
      "-------------------------------------\n",
      "2011\n",
      "354.0    62\n",
      "353.2    60\n",
      "337.2    31\n",
      "347.9    31\n",
      "351.5    31\n",
      "353.0    31\n",
      "356.2    31\n",
      "350.0    30\n",
      "354.7    30\n",
      "345.2    28\n",
      "Name: cpi, dtype: int64\n",
      "-------------------------------------\n",
      "2012\n",
      "357.8    31\n",
      "360.9    31\n",
      "364.1    31\n",
      "369.2    31\n",
      "373.8    31\n",
      "376.2    31\n",
      "379.2    31\n",
      "363.0    30\n",
      "366.0    30\n",
      "374.1    30\n",
      "377.9    30\n",
      "359.5    29\n",
      "Name: cpi, dtype: int64\n",
      "-------------------------------------\n",
      "2013\n",
      "381.2    31\n",
      "387.1    31\n",
      "390.4    31\n",
      "394.7    31\n",
      "397.9    31\n",
      "399.3    31\n",
      "403.9    31\n",
      "388.5    30\n",
      "393.0    30\n",
      "398.5    30\n",
      "401.6    30\n",
      "384.9    28\n",
      "Name: cpi, dtype: int64\n",
      "-------------------------------------\n",
      "2014\n",
      "405.9    31\n",
      "411.2    31\n",
      "419.1    31\n",
      "425.5    31\n",
      "427.5    31\n",
      "431.4    31\n",
      "440.5    31\n",
      "415.3    30\n",
      "422.8    30\n",
      "428.6    30\n",
      "434.9    30\n",
      "408.3    28\n",
      "Name: cpi, dtype: int64\n",
      "-------------------------------------\n",
      "2015\n",
      "452.0    31\n",
      "479.8    31\n",
      "487.8    31\n",
      "490.5    31\n",
      "494.4    31\n",
      "499.0    31\n",
      "506.4    31\n",
      "485.6    30\n",
      "489.5    30\n",
      "496.1    30\n",
      "502.7    30\n",
      "469.4    28\n",
      "Name: cpi, dtype: int64\n",
      "-------------------------------------\n",
      "2016\n",
      "530.1    61\n",
      "510.3    31\n",
      "518.5    31\n",
      "523.2    31\n",
      "527.2    31\n",
      "520.9    30\n",
      "525.3    30\n",
      "515.2    29\n",
      "531.0    19\n",
      "Name: cpi, dtype: int64\n",
      "-------------------------------------\n"
     ]
    }
   ],
   "source": [
    "year = 2010\n",
    "\n",
    "for i in range(7): \n",
    "    print(year + i)\n",
    "    print(macro[macro.year == year + i]['cpi'].value_counts(dropna=False))\n",
    "    print('-------------------------------------')"
   ]
  },
  {
   "cell_type": "code",
   "execution_count": 22,
   "id": "4779c616",
   "metadata": {},
   "outputs": [],
   "source": [
    "CPI = macro[['timestamp', 'cpi']]"
   ]
  },
  {
   "cell_type": "markdown",
   "id": "e3b08c3b",
   "metadata": {},
   "source": [
    "## Correcting the price by adjusting with CPI"
   ]
  },
  {
   "cell_type": "code",
   "execution_count": 23,
   "id": "c968ebde",
   "metadata": {},
   "outputs": [],
   "source": [
    "df.rename(columns={'price_doc': 'price'}, inplace=True)"
   ]
  },
  {
   "cell_type": "code",
   "execution_count": 24,
   "id": "0c230dc1",
   "metadata": {},
   "outputs": [],
   "source": [
    "df['timestamp'] = pd.to_datetime(df['timestamp'])"
   ]
  },
  {
   "cell_type": "code",
   "execution_count": 25,
   "id": "68f9960b",
   "metadata": {},
   "outputs": [],
   "source": [
    "df['year'] = df['timestamp'].dt.year"
   ]
  },
  {
   "cell_type": "markdown",
   "id": "2120e01b",
   "metadata": {},
   "source": [
    "#### Checking the values in dataset per year"
   ]
  },
  {
   "cell_type": "code",
   "execution_count": 26,
   "id": "300d7210",
   "metadata": {},
   "outputs": [
    {
     "data": {
      "text/plain": [
       "Int64Index([2011, 2012, 2013, 2014, 2015, 2016], dtype='int64', name='year')"
      ]
     },
     "execution_count": 26,
     "metadata": {},
     "output_type": "execute_result"
    }
   ],
   "source": [
    "df.groupby('year').mean().index"
   ]
  },
  {
   "cell_type": "markdown",
   "id": "7ef5a86c",
   "metadata": {},
   "source": [
    "#### Adjusting price with CPI"
   ]
  },
  {
   "cell_type": "code",
   "execution_count": 27,
   "id": "39fc0441",
   "metadata": {},
   "outputs": [],
   "source": [
    "df = pd.merge(df, CPI, on='timestamp')"
   ]
  },
  {
   "cell_type": "code",
   "execution_count": 28,
   "id": "9a46d236",
   "metadata": {},
   "outputs": [],
   "source": [
    "df['price'] = (df['price'] / df['cpi'] * 100).round(2)"
   ]
  },
  {
   "cell_type": "code",
   "execution_count": 29,
   "id": "3f6d72e5",
   "metadata": {},
   "outputs": [
    {
     "data": {
      "text/plain": [
       "0        1652542.37\n",
       "1        1694915.25\n",
       "2        1610169.49\n",
       "3        3708946.77\n",
       "4        4623853.91\n",
       "            ...    \n",
       "38128    1360569.65\n",
       "38129    1360569.65\n",
       "38130    1360569.65\n",
       "38131    1360569.65\n",
       "38132    1360569.65\n",
       "Name: price, Length: 38133, dtype: float64"
      ]
     },
     "execution_count": 29,
     "metadata": {},
     "output_type": "execute_result"
    }
   ],
   "source": [
    "df['price']"
   ]
  },
  {
   "cell_type": "code",
   "execution_count": 30,
   "id": "bc0c3172",
   "metadata": {},
   "outputs": [],
   "source": [
    "df.drop('cpi', axis=1, inplace=True) "
   ]
  },
  {
   "cell_type": "markdown",
   "id": "f508b553",
   "metadata": {},
   "source": [
    "#### Splitting dataset for train and test samples"
   ]
  },
  {
   "cell_type": "code",
   "execution_count": 31,
   "id": "3488e57e",
   "metadata": {},
   "outputs": [
    {
     "data": {
      "text/html": [
       "<div>\n",
       "<style scoped>\n",
       "    .dataframe tbody tr th:only-of-type {\n",
       "        vertical-align: middle;\n",
       "    }\n",
       "\n",
       "    .dataframe tbody tr th {\n",
       "        vertical-align: top;\n",
       "    }\n",
       "\n",
       "    .dataframe thead th {\n",
       "        text-align: right;\n",
       "    }\n",
       "</style>\n",
       "<table border=\"1\" class=\"dataframe\">\n",
       "  <thead>\n",
       "    <tr style=\"text-align: right;\">\n",
       "      <th></th>\n",
       "      <th>timestamp</th>\n",
       "      <th>full_sq</th>\n",
       "      <th>life_sq</th>\n",
       "      <th>floor</th>\n",
       "      <th>max_floor</th>\n",
       "      <th>material</th>\n",
       "      <th>build_year</th>\n",
       "      <th>num_room</th>\n",
       "      <th>kitch_sq</th>\n",
       "      <th>state</th>\n",
       "      <th>...</th>\n",
       "      <th>cafe_count_5000_price_4000</th>\n",
       "      <th>cafe_count_5000_price_high</th>\n",
       "      <th>big_church_count_5000</th>\n",
       "      <th>church_count_5000</th>\n",
       "      <th>mosque_count_5000</th>\n",
       "      <th>leisure_count_5000</th>\n",
       "      <th>sport_count_5000</th>\n",
       "      <th>market_count_5000</th>\n",
       "      <th>price</th>\n",
       "      <th>year</th>\n",
       "    </tr>\n",
       "  </thead>\n",
       "  <tbody>\n",
       "    <tr>\n",
       "      <th>0</th>\n",
       "      <td>2011-08-20</td>\n",
       "      <td>43.0</td>\n",
       "      <td>27.0</td>\n",
       "      <td>4.0</td>\n",
       "      <td>12.0</td>\n",
       "      <td>1.0</td>\n",
       "      <td>1980.0</td>\n",
       "      <td>2.0</td>\n",
       "      <td>6.0</td>\n",
       "      <td>2.0</td>\n",
       "      <td>...</td>\n",
       "      <td>4</td>\n",
       "      <td>0</td>\n",
       "      <td>13</td>\n",
       "      <td>22</td>\n",
       "      <td>1</td>\n",
       "      <td>0</td>\n",
       "      <td>52</td>\n",
       "      <td>4</td>\n",
       "      <td>1652542.37</td>\n",
       "      <td>2011</td>\n",
       "    </tr>\n",
       "    <tr>\n",
       "      <th>1</th>\n",
       "      <td>2011-08-23</td>\n",
       "      <td>34.0</td>\n",
       "      <td>19.0</td>\n",
       "      <td>3.0</td>\n",
       "      <td>12.0</td>\n",
       "      <td>1.0</td>\n",
       "      <td>1980.0</td>\n",
       "      <td>2.0</td>\n",
       "      <td>6.0</td>\n",
       "      <td>2.0</td>\n",
       "      <td>...</td>\n",
       "      <td>3</td>\n",
       "      <td>0</td>\n",
       "      <td>15</td>\n",
       "      <td>29</td>\n",
       "      <td>1</td>\n",
       "      <td>10</td>\n",
       "      <td>66</td>\n",
       "      <td>14</td>\n",
       "      <td>1694915.25</td>\n",
       "      <td>2011</td>\n",
       "    </tr>\n",
       "    <tr>\n",
       "      <th>2</th>\n",
       "      <td>2011-08-27</td>\n",
       "      <td>43.0</td>\n",
       "      <td>29.0</td>\n",
       "      <td>2.0</td>\n",
       "      <td>12.0</td>\n",
       "      <td>1.0</td>\n",
       "      <td>1980.0</td>\n",
       "      <td>2.0</td>\n",
       "      <td>6.0</td>\n",
       "      <td>2.0</td>\n",
       "      <td>...</td>\n",
       "      <td>3</td>\n",
       "      <td>0</td>\n",
       "      <td>11</td>\n",
       "      <td>27</td>\n",
       "      <td>0</td>\n",
       "      <td>4</td>\n",
       "      <td>67</td>\n",
       "      <td>10</td>\n",
       "      <td>1610169.49</td>\n",
       "      <td>2011</td>\n",
       "    </tr>\n",
       "    <tr>\n",
       "      <th>3</th>\n",
       "      <td>2011-09-01</td>\n",
       "      <td>89.0</td>\n",
       "      <td>50.0</td>\n",
       "      <td>9.0</td>\n",
       "      <td>12.0</td>\n",
       "      <td>1.0</td>\n",
       "      <td>1980.0</td>\n",
       "      <td>2.0</td>\n",
       "      <td>6.0</td>\n",
       "      <td>2.0</td>\n",
       "      <td>...</td>\n",
       "      <td>2</td>\n",
       "      <td>1</td>\n",
       "      <td>4</td>\n",
       "      <td>4</td>\n",
       "      <td>0</td>\n",
       "      <td>0</td>\n",
       "      <td>26</td>\n",
       "      <td>3</td>\n",
       "      <td>3708946.77</td>\n",
       "      <td>2011</td>\n",
       "    </tr>\n",
       "    <tr>\n",
       "      <th>4</th>\n",
       "      <td>2011-09-05</td>\n",
       "      <td>77.0</td>\n",
       "      <td>77.0</td>\n",
       "      <td>4.0</td>\n",
       "      <td>12.0</td>\n",
       "      <td>1.0</td>\n",
       "      <td>1980.0</td>\n",
       "      <td>2.0</td>\n",
       "      <td>6.0</td>\n",
       "      <td>2.0</td>\n",
       "      <td>...</td>\n",
       "      <td>108</td>\n",
       "      <td>17</td>\n",
       "      <td>135</td>\n",
       "      <td>236</td>\n",
       "      <td>2</td>\n",
       "      <td>91</td>\n",
       "      <td>195</td>\n",
       "      <td>14</td>\n",
       "      <td>4623853.91</td>\n",
       "      <td>2011</td>\n",
       "    </tr>\n",
       "    <tr>\n",
       "      <th>...</th>\n",
       "      <td>...</td>\n",
       "      <td>...</td>\n",
       "      <td>...</td>\n",
       "      <td>...</td>\n",
       "      <td>...</td>\n",
       "      <td>...</td>\n",
       "      <td>...</td>\n",
       "      <td>...</td>\n",
       "      <td>...</td>\n",
       "      <td>...</td>\n",
       "      <td>...</td>\n",
       "      <td>...</td>\n",
       "      <td>...</td>\n",
       "      <td>...</td>\n",
       "      <td>...</td>\n",
       "      <td>...</td>\n",
       "      <td>...</td>\n",
       "      <td>...</td>\n",
       "      <td>...</td>\n",
       "      <td>...</td>\n",
       "      <td>...</td>\n",
       "    </tr>\n",
       "    <tr>\n",
       "      <th>30466</th>\n",
       "      <td>2015-06-30</td>\n",
       "      <td>44.0</td>\n",
       "      <td>27.0</td>\n",
       "      <td>7.0</td>\n",
       "      <td>9.0</td>\n",
       "      <td>1.0</td>\n",
       "      <td>1975.0</td>\n",
       "      <td>2.0</td>\n",
       "      <td>6.0</td>\n",
       "      <td>3.0</td>\n",
       "      <td>...</td>\n",
       "      <td>5</td>\n",
       "      <td>0</td>\n",
       "      <td>15</td>\n",
       "      <td>26</td>\n",
       "      <td>1</td>\n",
       "      <td>2</td>\n",
       "      <td>84</td>\n",
       "      <td>6</td>\n",
       "      <td>1511746.68</td>\n",
       "      <td>2015</td>\n",
       "    </tr>\n",
       "    <tr>\n",
       "      <th>30467</th>\n",
       "      <td>2015-06-30</td>\n",
       "      <td>86.0</td>\n",
       "      <td>59.0</td>\n",
       "      <td>3.0</td>\n",
       "      <td>9.0</td>\n",
       "      <td>2.0</td>\n",
       "      <td>1935.0</td>\n",
       "      <td>4.0</td>\n",
       "      <td>10.0</td>\n",
       "      <td>3.0</td>\n",
       "      <td>...</td>\n",
       "      <td>128</td>\n",
       "      <td>24</td>\n",
       "      <td>98</td>\n",
       "      <td>182</td>\n",
       "      <td>1</td>\n",
       "      <td>82</td>\n",
       "      <td>171</td>\n",
       "      <td>15</td>\n",
       "      <td>5107252.30</td>\n",
       "      <td>2015</td>\n",
       "    </tr>\n",
       "    <tr>\n",
       "      <th>30468</th>\n",
       "      <td>2015-06-30</td>\n",
       "      <td>45.0</td>\n",
       "      <td>30.0</td>\n",
       "      <td>10.0</td>\n",
       "      <td>20.0</td>\n",
       "      <td>1.0</td>\n",
       "      <td>1980.0</td>\n",
       "      <td>1.0</td>\n",
       "      <td>1.0</td>\n",
       "      <td>1.0</td>\n",
       "      <td>...</td>\n",
       "      <td>1</td>\n",
       "      <td>0</td>\n",
       "      <td>2</td>\n",
       "      <td>12</td>\n",
       "      <td>0</td>\n",
       "      <td>1</td>\n",
       "      <td>11</td>\n",
       "      <td>1</td>\n",
       "      <td>1424097.85</td>\n",
       "      <td>2015</td>\n",
       "    </tr>\n",
       "    <tr>\n",
       "      <th>30469</th>\n",
       "      <td>2015-06-30</td>\n",
       "      <td>64.0</td>\n",
       "      <td>32.0</td>\n",
       "      <td>5.0</td>\n",
       "      <td>15.0</td>\n",
       "      <td>1.0</td>\n",
       "      <td>2003.0</td>\n",
       "      <td>2.0</td>\n",
       "      <td>11.0</td>\n",
       "      <td>2.0</td>\n",
       "      <td>...</td>\n",
       "      <td>1</td>\n",
       "      <td>1</td>\n",
       "      <td>6</td>\n",
       "      <td>31</td>\n",
       "      <td>1</td>\n",
       "      <td>4</td>\n",
       "      <td>65</td>\n",
       "      <td>7</td>\n",
       "      <td>2757916.24</td>\n",
       "      <td>2015</td>\n",
       "    </tr>\n",
       "    <tr>\n",
       "      <th>30470</th>\n",
       "      <td>2015-06-30</td>\n",
       "      <td>43.0</td>\n",
       "      <td>28.0</td>\n",
       "      <td>1.0</td>\n",
       "      <td>9.0</td>\n",
       "      <td>1.0</td>\n",
       "      <td>1968.0</td>\n",
       "      <td>2.0</td>\n",
       "      <td>6.0</td>\n",
       "      <td>2.0</td>\n",
       "      <td>...</td>\n",
       "      <td>2</td>\n",
       "      <td>0</td>\n",
       "      <td>7</td>\n",
       "      <td>16</td>\n",
       "      <td>0</td>\n",
       "      <td>9</td>\n",
       "      <td>54</td>\n",
       "      <td>10</td>\n",
       "      <td>1144024.51</td>\n",
       "      <td>2015</td>\n",
       "    </tr>\n",
       "  </tbody>\n",
       "</table>\n",
       "<p>30471 rows × 288 columns</p>\n",
       "</div>"
      ],
      "text/plain": [
       "       timestamp  full_sq  life_sq  floor  max_floor  material  build_year  \\\n",
       "0     2011-08-20     43.0     27.0    4.0       12.0       1.0      1980.0   \n",
       "1     2011-08-23     34.0     19.0    3.0       12.0       1.0      1980.0   \n",
       "2     2011-08-27     43.0     29.0    2.0       12.0       1.0      1980.0   \n",
       "3     2011-09-01     89.0     50.0    9.0       12.0       1.0      1980.0   \n",
       "4     2011-09-05     77.0     77.0    4.0       12.0       1.0      1980.0   \n",
       "...          ...      ...      ...    ...        ...       ...         ...   \n",
       "30466 2015-06-30     44.0     27.0    7.0        9.0       1.0      1975.0   \n",
       "30467 2015-06-30     86.0     59.0    3.0        9.0       2.0      1935.0   \n",
       "30468 2015-06-30     45.0     30.0   10.0       20.0       1.0      1980.0   \n",
       "30469 2015-06-30     64.0     32.0    5.0       15.0       1.0      2003.0   \n",
       "30470 2015-06-30     43.0     28.0    1.0        9.0       1.0      1968.0   \n",
       "\n",
       "       num_room  kitch_sq  state  ... cafe_count_5000_price_4000  \\\n",
       "0           2.0       6.0    2.0  ...                          4   \n",
       "1           2.0       6.0    2.0  ...                          3   \n",
       "2           2.0       6.0    2.0  ...                          3   \n",
       "3           2.0       6.0    2.0  ...                          2   \n",
       "4           2.0       6.0    2.0  ...                        108   \n",
       "...         ...       ...    ...  ...                        ...   \n",
       "30466       2.0       6.0    3.0  ...                          5   \n",
       "30467       4.0      10.0    3.0  ...                        128   \n",
       "30468       1.0       1.0    1.0  ...                          1   \n",
       "30469       2.0      11.0    2.0  ...                          1   \n",
       "30470       2.0       6.0    2.0  ...                          2   \n",
       "\n",
       "      cafe_count_5000_price_high  big_church_count_5000  church_count_5000  \\\n",
       "0                              0                     13                 22   \n",
       "1                              0                     15                 29   \n",
       "2                              0                     11                 27   \n",
       "3                              1                      4                  4   \n",
       "4                             17                    135                236   \n",
       "...                          ...                    ...                ...   \n",
       "30466                          0                     15                 26   \n",
       "30467                         24                     98                182   \n",
       "30468                          0                      2                 12   \n",
       "30469                          1                      6                 31   \n",
       "30470                          0                      7                 16   \n",
       "\n",
       "       mosque_count_5000  leisure_count_5000  sport_count_5000  \\\n",
       "0                      1                   0                52   \n",
       "1                      1                  10                66   \n",
       "2                      0                   4                67   \n",
       "3                      0                   0                26   \n",
       "4                      2                  91               195   \n",
       "...                  ...                 ...               ...   \n",
       "30466                  1                   2                84   \n",
       "30467                  1                  82               171   \n",
       "30468                  0                   1                11   \n",
       "30469                  1                   4                65   \n",
       "30470                  0                   9                54   \n",
       "\n",
       "       market_count_5000       price  year  \n",
       "0                      4  1652542.37  2011  \n",
       "1                     14  1694915.25  2011  \n",
       "2                     10  1610169.49  2011  \n",
       "3                      3  3708946.77  2011  \n",
       "4                     14  4623853.91  2011  \n",
       "...                  ...         ...   ...  \n",
       "30466                  6  1511746.68  2015  \n",
       "30467                 15  5107252.30  2015  \n",
       "30468                  1  1424097.85  2015  \n",
       "30469                  7  2757916.24  2015  \n",
       "30470                 10  1144024.51  2015  \n",
       "\n",
       "[30471 rows x 288 columns]"
      ]
     },
     "execution_count": 31,
     "metadata": {},
     "output_type": "execute_result"
    }
   ],
   "source": [
    "train = df[df.timestamp < '2015-07-01']\n",
    "train"
   ]
  },
  {
   "cell_type": "code",
   "execution_count": 32,
   "id": "e97704ac",
   "metadata": {},
   "outputs": [
    {
     "data": {
      "text/html": [
       "<div>\n",
       "<style scoped>\n",
       "    .dataframe tbody tr th:only-of-type {\n",
       "        vertical-align: middle;\n",
       "    }\n",
       "\n",
       "    .dataframe tbody tr th {\n",
       "        vertical-align: top;\n",
       "    }\n",
       "\n",
       "    .dataframe thead th {\n",
       "        text-align: right;\n",
       "    }\n",
       "</style>\n",
       "<table border=\"1\" class=\"dataframe\">\n",
       "  <thead>\n",
       "    <tr style=\"text-align: right;\">\n",
       "      <th></th>\n",
       "      <th>timestamp</th>\n",
       "      <th>full_sq</th>\n",
       "      <th>life_sq</th>\n",
       "      <th>floor</th>\n",
       "      <th>max_floor</th>\n",
       "      <th>material</th>\n",
       "      <th>build_year</th>\n",
       "      <th>num_room</th>\n",
       "      <th>kitch_sq</th>\n",
       "      <th>state</th>\n",
       "      <th>...</th>\n",
       "      <th>cafe_count_5000_price_4000</th>\n",
       "      <th>cafe_count_5000_price_high</th>\n",
       "      <th>big_church_count_5000</th>\n",
       "      <th>church_count_5000</th>\n",
       "      <th>mosque_count_5000</th>\n",
       "      <th>leisure_count_5000</th>\n",
       "      <th>sport_count_5000</th>\n",
       "      <th>market_count_5000</th>\n",
       "      <th>price</th>\n",
       "      <th>year</th>\n",
       "    </tr>\n",
       "  </thead>\n",
       "  <tbody>\n",
       "    <tr>\n",
       "      <th>30471</th>\n",
       "      <td>2015-07-01</td>\n",
       "      <td>39.00</td>\n",
       "      <td>20.7</td>\n",
       "      <td>2.0</td>\n",
       "      <td>9.0</td>\n",
       "      <td>1.0</td>\n",
       "      <td>1998.0</td>\n",
       "      <td>1.0</td>\n",
       "      <td>8.9</td>\n",
       "      <td>3.0</td>\n",
       "      <td>...</td>\n",
       "      <td>0</td>\n",
       "      <td>0</td>\n",
       "      <td>1</td>\n",
       "      <td>10</td>\n",
       "      <td>1</td>\n",
       "      <td>0</td>\n",
       "      <td>14</td>\n",
       "      <td>1</td>\n",
       "      <td>1451274.29</td>\n",
       "      <td>2015</td>\n",
       "    </tr>\n",
       "    <tr>\n",
       "      <th>30472</th>\n",
       "      <td>2015-07-01</td>\n",
       "      <td>79.20</td>\n",
       "      <td>30.0</td>\n",
       "      <td>8.0</td>\n",
       "      <td>17.0</td>\n",
       "      <td>1.0</td>\n",
       "      <td>0.0</td>\n",
       "      <td>3.0</td>\n",
       "      <td>1.0</td>\n",
       "      <td>1.0</td>\n",
       "      <td>...</td>\n",
       "      <td>1</td>\n",
       "      <td>0</td>\n",
       "      <td>2</td>\n",
       "      <td>11</td>\n",
       "      <td>0</td>\n",
       "      <td>1</td>\n",
       "      <td>12</td>\n",
       "      <td>1</td>\n",
       "      <td>1451274.29</td>\n",
       "      <td>2015</td>\n",
       "    </tr>\n",
       "    <tr>\n",
       "      <th>30473</th>\n",
       "      <td>2015-07-01</td>\n",
       "      <td>40.50</td>\n",
       "      <td>25.1</td>\n",
       "      <td>3.0</td>\n",
       "      <td>5.0</td>\n",
       "      <td>2.0</td>\n",
       "      <td>1960.0</td>\n",
       "      <td>2.0</td>\n",
       "      <td>4.8</td>\n",
       "      <td>2.0</td>\n",
       "      <td>...</td>\n",
       "      <td>4</td>\n",
       "      <td>0</td>\n",
       "      <td>10</td>\n",
       "      <td>21</td>\n",
       "      <td>0</td>\n",
       "      <td>10</td>\n",
       "      <td>71</td>\n",
       "      <td>11</td>\n",
       "      <td>1451274.29</td>\n",
       "      <td>2015</td>\n",
       "    </tr>\n",
       "    <tr>\n",
       "      <th>30474</th>\n",
       "      <td>2015-07-01</td>\n",
       "      <td>62.80</td>\n",
       "      <td>36.0</td>\n",
       "      <td>17.0</td>\n",
       "      <td>17.0</td>\n",
       "      <td>1.0</td>\n",
       "      <td>2016.0</td>\n",
       "      <td>2.0</td>\n",
       "      <td>62.8</td>\n",
       "      <td>3.0</td>\n",
       "      <td>...</td>\n",
       "      <td>2</td>\n",
       "      <td>0</td>\n",
       "      <td>0</td>\n",
       "      <td>10</td>\n",
       "      <td>0</td>\n",
       "      <td>0</td>\n",
       "      <td>2</td>\n",
       "      <td>0</td>\n",
       "      <td>1451274.29</td>\n",
       "      <td>2015</td>\n",
       "    </tr>\n",
       "    <tr>\n",
       "      <th>30475</th>\n",
       "      <td>2015-07-01</td>\n",
       "      <td>40.00</td>\n",
       "      <td>40.0</td>\n",
       "      <td>17.0</td>\n",
       "      <td>17.0</td>\n",
       "      <td>1.0</td>\n",
       "      <td>0.0</td>\n",
       "      <td>1.0</td>\n",
       "      <td>1.0</td>\n",
       "      <td>1.0</td>\n",
       "      <td>...</td>\n",
       "      <td>1</td>\n",
       "      <td>0</td>\n",
       "      <td>2</td>\n",
       "      <td>12</td>\n",
       "      <td>0</td>\n",
       "      <td>1</td>\n",
       "      <td>11</td>\n",
       "      <td>1</td>\n",
       "      <td>1451274.29</td>\n",
       "      <td>2015</td>\n",
       "    </tr>\n",
       "    <tr>\n",
       "      <th>...</th>\n",
       "      <td>...</td>\n",
       "      <td>...</td>\n",
       "      <td>...</td>\n",
       "      <td>...</td>\n",
       "      <td>...</td>\n",
       "      <td>...</td>\n",
       "      <td>...</td>\n",
       "      <td>...</td>\n",
       "      <td>...</td>\n",
       "      <td>...</td>\n",
       "      <td>...</td>\n",
       "      <td>...</td>\n",
       "      <td>...</td>\n",
       "      <td>...</td>\n",
       "      <td>...</td>\n",
       "      <td>...</td>\n",
       "      <td>...</td>\n",
       "      <td>...</td>\n",
       "      <td>...</td>\n",
       "      <td>...</td>\n",
       "      <td>...</td>\n",
       "    </tr>\n",
       "    <tr>\n",
       "      <th>38128</th>\n",
       "      <td>2016-05-26</td>\n",
       "      <td>52.20</td>\n",
       "      <td>31.8</td>\n",
       "      <td>10.0</td>\n",
       "      <td>12.0</td>\n",
       "      <td>5.0</td>\n",
       "      <td>1973.0</td>\n",
       "      <td>2.0</td>\n",
       "      <td>9.1</td>\n",
       "      <td>2.0</td>\n",
       "      <td>...</td>\n",
       "      <td>1</td>\n",
       "      <td>1</td>\n",
       "      <td>8</td>\n",
       "      <td>39</td>\n",
       "      <td>2</td>\n",
       "      <td>3</td>\n",
       "      <td>75</td>\n",
       "      <td>12</td>\n",
       "      <td>1360569.65</td>\n",
       "      <td>2016</td>\n",
       "    </tr>\n",
       "    <tr>\n",
       "      <th>38129</th>\n",
       "      <td>2016-05-28</td>\n",
       "      <td>54.09</td>\n",
       "      <td>30.0</td>\n",
       "      <td>14.0</td>\n",
       "      <td>0.0</td>\n",
       "      <td>1.0</td>\n",
       "      <td>1980.0</td>\n",
       "      <td>2.0</td>\n",
       "      <td>0.0</td>\n",
       "      <td>2.0</td>\n",
       "      <td>...</td>\n",
       "      <td>1</td>\n",
       "      <td>0</td>\n",
       "      <td>0</td>\n",
       "      <td>10</td>\n",
       "      <td>0</td>\n",
       "      <td>0</td>\n",
       "      <td>0</td>\n",
       "      <td>0</td>\n",
       "      <td>1360569.65</td>\n",
       "      <td>2016</td>\n",
       "    </tr>\n",
       "    <tr>\n",
       "      <th>38130</th>\n",
       "      <td>2016-05-30</td>\n",
       "      <td>41.08</td>\n",
       "      <td>1.0</td>\n",
       "      <td>12.0</td>\n",
       "      <td>1.0</td>\n",
       "      <td>1.0</td>\n",
       "      <td>1.0</td>\n",
       "      <td>1.0</td>\n",
       "      <td>1.0</td>\n",
       "      <td>1.0</td>\n",
       "      <td>...</td>\n",
       "      <td>141</td>\n",
       "      <td>26</td>\n",
       "      <td>150</td>\n",
       "      <td>249</td>\n",
       "      <td>2</td>\n",
       "      <td>105</td>\n",
       "      <td>203</td>\n",
       "      <td>13</td>\n",
       "      <td>1360569.65</td>\n",
       "      <td>2016</td>\n",
       "    </tr>\n",
       "    <tr>\n",
       "      <th>38131</th>\n",
       "      <td>2016-05-30</td>\n",
       "      <td>34.80</td>\n",
       "      <td>19.8</td>\n",
       "      <td>8.0</td>\n",
       "      <td>9.0</td>\n",
       "      <td>5.0</td>\n",
       "      <td>1977.0</td>\n",
       "      <td>1.0</td>\n",
       "      <td>6.4</td>\n",
       "      <td>2.0</td>\n",
       "      <td>...</td>\n",
       "      <td>2</td>\n",
       "      <td>0</td>\n",
       "      <td>5</td>\n",
       "      <td>11</td>\n",
       "      <td>0</td>\n",
       "      <td>2</td>\n",
       "      <td>43</td>\n",
       "      <td>10</td>\n",
       "      <td>1360569.65</td>\n",
       "      <td>2016</td>\n",
       "    </tr>\n",
       "    <tr>\n",
       "      <th>38132</th>\n",
       "      <td>2016-05-30</td>\n",
       "      <td>63.00</td>\n",
       "      <td>43.8</td>\n",
       "      <td>5.0</td>\n",
       "      <td>5.0</td>\n",
       "      <td>1.0</td>\n",
       "      <td>1973.0</td>\n",
       "      <td>3.0</td>\n",
       "      <td>7.1</td>\n",
       "      <td>3.0</td>\n",
       "      <td>...</td>\n",
       "      <td>1</td>\n",
       "      <td>0</td>\n",
       "      <td>6</td>\n",
       "      <td>26</td>\n",
       "      <td>1</td>\n",
       "      <td>4</td>\n",
       "      <td>42</td>\n",
       "      <td>11</td>\n",
       "      <td>1360569.65</td>\n",
       "      <td>2016</td>\n",
       "    </tr>\n",
       "  </tbody>\n",
       "</table>\n",
       "<p>7662 rows × 288 columns</p>\n",
       "</div>"
      ],
      "text/plain": [
       "       timestamp  full_sq  life_sq  floor  max_floor  material  build_year  \\\n",
       "30471 2015-07-01    39.00     20.7    2.0        9.0       1.0      1998.0   \n",
       "30472 2015-07-01    79.20     30.0    8.0       17.0       1.0         0.0   \n",
       "30473 2015-07-01    40.50     25.1    3.0        5.0       2.0      1960.0   \n",
       "30474 2015-07-01    62.80     36.0   17.0       17.0       1.0      2016.0   \n",
       "30475 2015-07-01    40.00     40.0   17.0       17.0       1.0         0.0   \n",
       "...          ...      ...      ...    ...        ...       ...         ...   \n",
       "38128 2016-05-26    52.20     31.8   10.0       12.0       5.0      1973.0   \n",
       "38129 2016-05-28    54.09     30.0   14.0        0.0       1.0      1980.0   \n",
       "38130 2016-05-30    41.08      1.0   12.0        1.0       1.0         1.0   \n",
       "38131 2016-05-30    34.80     19.8    8.0        9.0       5.0      1977.0   \n",
       "38132 2016-05-30    63.00     43.8    5.0        5.0       1.0      1973.0   \n",
       "\n",
       "       num_room  kitch_sq  state  ... cafe_count_5000_price_4000  \\\n",
       "30471       1.0       8.9    3.0  ...                          0   \n",
       "30472       3.0       1.0    1.0  ...                          1   \n",
       "30473       2.0       4.8    2.0  ...                          4   \n",
       "30474       2.0      62.8    3.0  ...                          2   \n",
       "30475       1.0       1.0    1.0  ...                          1   \n",
       "...         ...       ...    ...  ...                        ...   \n",
       "38128       2.0       9.1    2.0  ...                          1   \n",
       "38129       2.0       0.0    2.0  ...                          1   \n",
       "38130       1.0       1.0    1.0  ...                        141   \n",
       "38131       1.0       6.4    2.0  ...                          2   \n",
       "38132       3.0       7.1    3.0  ...                          1   \n",
       "\n",
       "      cafe_count_5000_price_high  big_church_count_5000  church_count_5000  \\\n",
       "30471                          0                      1                 10   \n",
       "30472                          0                      2                 11   \n",
       "30473                          0                     10                 21   \n",
       "30474                          0                      0                 10   \n",
       "30475                          0                      2                 12   \n",
       "...                          ...                    ...                ...   \n",
       "38128                          1                      8                 39   \n",
       "38129                          0                      0                 10   \n",
       "38130                         26                    150                249   \n",
       "38131                          0                      5                 11   \n",
       "38132                          0                      6                 26   \n",
       "\n",
       "       mosque_count_5000  leisure_count_5000  sport_count_5000  \\\n",
       "30471                  1                   0                14   \n",
       "30472                  0                   1                12   \n",
       "30473                  0                  10                71   \n",
       "30474                  0                   0                 2   \n",
       "30475                  0                   1                11   \n",
       "...                  ...                 ...               ...   \n",
       "38128                  2                   3                75   \n",
       "38129                  0                   0                 0   \n",
       "38130                  2                 105               203   \n",
       "38131                  0                   2                43   \n",
       "38132                  1                   4                42   \n",
       "\n",
       "       market_count_5000       price  year  \n",
       "30471                  1  1451274.29  2015  \n",
       "30472                  1  1451274.29  2015  \n",
       "30473                 11  1451274.29  2015  \n",
       "30474                  0  1451274.29  2015  \n",
       "30475                  1  1451274.29  2015  \n",
       "...                  ...         ...   ...  \n",
       "38128                 12  1360569.65  2016  \n",
       "38129                  0  1360569.65  2016  \n",
       "38130                 13  1360569.65  2016  \n",
       "38131                 10  1360569.65  2016  \n",
       "38132                 11  1360569.65  2016  \n",
       "\n",
       "[7662 rows x 288 columns]"
      ]
     },
     "execution_count": 32,
     "metadata": {},
     "output_type": "execute_result"
    }
   ],
   "source": [
    "test = df[df.timestamp >= '2015-07-01']\n",
    "test"
   ]
  },
  {
   "cell_type": "code",
   "execution_count": 33,
   "id": "126efa7c",
   "metadata": {
    "scrolled": true
   },
   "outputs": [
    {
     "data": {
      "text/plain": [
       "count    3.047100e+04\n",
       "mean     1.730225e+06\n",
       "std      1.151249e+06\n",
       "min      2.365184e+04\n",
       "25%      1.154303e+06\n",
       "50%      1.527082e+06\n",
       "75%      1.994163e+06\n",
       "max      3.051665e+07\n",
       "Name: price, dtype: float64"
      ]
     },
     "execution_count": 33,
     "metadata": {},
     "output_type": "execute_result"
    }
   ],
   "source": [
    "train.price.describe()"
   ]
  },
  {
   "cell_type": "markdown",
   "id": "321cfad5",
   "metadata": {},
   "source": [
    "## Vizualization price and time dependency"
   ]
  },
  {
   "cell_type": "code",
   "execution_count": 34,
   "id": "74322318",
   "metadata": {},
   "outputs": [],
   "source": [
    "test_df = df.copy()"
   ]
  },
  {
   "cell_type": "code",
   "execution_count": 35,
   "id": "f76e5e55",
   "metadata": {},
   "outputs": [],
   "source": [
    "test_df.set_index('timestamp', inplace=True)"
   ]
  },
  {
   "cell_type": "code",
   "execution_count": 36,
   "id": "5c4337d5",
   "metadata": {},
   "outputs": [],
   "source": [
    "def timestampPricePlot(df):\n",
    "    fig = plt.figure(figsize = (14,8))\n",
    "    # Create a line plot of the price column\n",
    "    plt.plot(df['price'])\n",
    "\n",
    "    # Set the plot title and labels\n",
    "    plt.title('Price over Time')\n",
    "    plt.xlabel('Timestamp')\n",
    "    plt.ylabel('Price')\n",
    "\n",
    "    # Show the plot\n",
    "    plt.show() "
   ]
  },
  {
   "cell_type": "code",
   "execution_count": 37,
   "id": "b1a6b106",
   "metadata": {},
   "outputs": [
    {
     "data": {
      "image/png": "[encoded data removed]",
      "text/plain": [
       "<Figure size 1400x800 with 1 Axes>"
      ]
     },
     "metadata": {},
     "output_type": "display_data"
    }
   ],
   "source": [
    "timestampPricePlot(test_df)"
   ]
  },
  {
   "cell_type": "markdown",
   "id": "704c4e52",
   "metadata": {},
   "source": [
    "#### Conclusion: The constant price at the end of the dataset can be explained by the fact that price in the test sample is constant"
   ]
  },
  {
   "cell_type": "markdown",
   "id": "9453ca52",
   "metadata": {},
   "source": [
    "## IQR method to find outliers in \"price\""
   ]
  },
  {
   "cell_type": "code",
   "execution_count": 38,
   "id": "0de4fb31",
   "metadata": {},
   "outputs": [],
   "source": [
    "q1 = train['price'].quantile(0.25)\n",
    "q3 = train['price'].quantile(0.75)\n",
    "iqr = q3 - q1\n",
    "median = train['price'].median()"
   ]
  },
  {
   "cell_type": "code",
   "execution_count": 39,
   "id": "24ee0f85",
   "metadata": {},
   "outputs": [],
   "source": [
    "lower_bound = median - 1.5*iqr\n",
    "upper_bound = median + 1.5*iqr\n",
    "outliers = (train['price'] < lower_bound) | (train['price'] > upper_bound)"
   ]
  },
  {
   "cell_type": "code",
   "execution_count": 40,
   "id": "030ed9be",
   "metadata": {},
   "outputs": [
    {
     "data": {
      "text/html": [
       "<div>\n",
       "<style scoped>\n",
       "    .dataframe tbody tr th:only-of-type {\n",
       "        vertical-align: middle;\n",
       "    }\n",
       "\n",
       "    .dataframe tbody tr th {\n",
       "        vertical-align: top;\n",
       "    }\n",
       "\n",
       "    .dataframe thead th {\n",
       "        text-align: right;\n",
       "    }\n",
       "</style>\n",
       "<table border=\"1\" class=\"dataframe\">\n",
       "  <thead>\n",
       "    <tr style=\"text-align: right;\">\n",
       "      <th></th>\n",
       "      <th>timestamp</th>\n",
       "      <th>full_sq</th>\n",
       "      <th>life_sq</th>\n",
       "      <th>floor</th>\n",
       "      <th>max_floor</th>\n",
       "      <th>material</th>\n",
       "      <th>build_year</th>\n",
       "      <th>num_room</th>\n",
       "      <th>kitch_sq</th>\n",
       "      <th>state</th>\n",
       "      <th>...</th>\n",
       "      <th>cafe_count_5000_price_4000</th>\n",
       "      <th>cafe_count_5000_price_high</th>\n",
       "      <th>big_church_count_5000</th>\n",
       "      <th>church_count_5000</th>\n",
       "      <th>mosque_count_5000</th>\n",
       "      <th>leisure_count_5000</th>\n",
       "      <th>sport_count_5000</th>\n",
       "      <th>market_count_5000</th>\n",
       "      <th>price</th>\n",
       "      <th>year</th>\n",
       "    </tr>\n",
       "  </thead>\n",
       "  <tbody>\n",
       "    <tr>\n",
       "      <th>3</th>\n",
       "      <td>2011-09-01</td>\n",
       "      <td>89.0</td>\n",
       "      <td>50.0</td>\n",
       "      <td>9.0</td>\n",
       "      <td>12.0</td>\n",
       "      <td>1.0</td>\n",
       "      <td>1980.0</td>\n",
       "      <td>2.0</td>\n",
       "      <td>6.0</td>\n",
       "      <td>2.0</td>\n",
       "      <td>...</td>\n",
       "      <td>2</td>\n",
       "      <td>1</td>\n",
       "      <td>4</td>\n",
       "      <td>4</td>\n",
       "      <td>0</td>\n",
       "      <td>0</td>\n",
       "      <td>26</td>\n",
       "      <td>3</td>\n",
       "      <td>3708946.77</td>\n",
       "      <td>2011</td>\n",
       "    </tr>\n",
       "    <tr>\n",
       "      <th>4</th>\n",
       "      <td>2011-09-05</td>\n",
       "      <td>77.0</td>\n",
       "      <td>77.0</td>\n",
       "      <td>4.0</td>\n",
       "      <td>12.0</td>\n",
       "      <td>1.0</td>\n",
       "      <td>1980.0</td>\n",
       "      <td>2.0</td>\n",
       "      <td>6.0</td>\n",
       "      <td>2.0</td>\n",
       "      <td>...</td>\n",
       "      <td>108</td>\n",
       "      <td>17</td>\n",
       "      <td>135</td>\n",
       "      <td>236</td>\n",
       "      <td>2</td>\n",
       "      <td>91</td>\n",
       "      <td>195</td>\n",
       "      <td>14</td>\n",
       "      <td>4623853.91</td>\n",
       "      <td>2011</td>\n",
       "    </tr>\n",
       "    <tr>\n",
       "      <th>31</th>\n",
       "      <td>2011-09-27</td>\n",
       "      <td>81.0</td>\n",
       "      <td>46.0</td>\n",
       "      <td>24.0</td>\n",
       "      <td>12.0</td>\n",
       "      <td>1.0</td>\n",
       "      <td>1980.0</td>\n",
       "      <td>2.0</td>\n",
       "      <td>6.0</td>\n",
       "      <td>2.0</td>\n",
       "      <td>...</td>\n",
       "      <td>5</td>\n",
       "      <td>0</td>\n",
       "      <td>10</td>\n",
       "      <td>10</td>\n",
       "      <td>0</td>\n",
       "      <td>1</td>\n",
       "      <td>50</td>\n",
       "      <td>4</td>\n",
       "      <td>5181200.45</td>\n",
       "      <td>2011</td>\n",
       "    </tr>\n",
       "    <tr>\n",
       "      <th>58</th>\n",
       "      <td>2011-10-04</td>\n",
       "      <td>75.0</td>\n",
       "      <td>46.0</td>\n",
       "      <td>12.0</td>\n",
       "      <td>12.0</td>\n",
       "      <td>1.0</td>\n",
       "      <td>1980.0</td>\n",
       "      <td>2.0</td>\n",
       "      <td>6.0</td>\n",
       "      <td>2.0</td>\n",
       "      <td>...</td>\n",
       "      <td>12</td>\n",
       "      <td>1</td>\n",
       "      <td>12</td>\n",
       "      <td>28</td>\n",
       "      <td>0</td>\n",
       "      <td>4</td>\n",
       "      <td>97</td>\n",
       "      <td>14</td>\n",
       "      <td>2818696.88</td>\n",
       "      <td>2011</td>\n",
       "    </tr>\n",
       "    <tr>\n",
       "      <th>60</th>\n",
       "      <td>2011-10-04</td>\n",
       "      <td>96.0</td>\n",
       "      <td>51.0</td>\n",
       "      <td>16.0</td>\n",
       "      <td>12.0</td>\n",
       "      <td>1.0</td>\n",
       "      <td>1980.0</td>\n",
       "      <td>2.0</td>\n",
       "      <td>6.0</td>\n",
       "      <td>2.0</td>\n",
       "      <td>...</td>\n",
       "      <td>1</td>\n",
       "      <td>0</td>\n",
       "      <td>4</td>\n",
       "      <td>6</td>\n",
       "      <td>0</td>\n",
       "      <td>1</td>\n",
       "      <td>24</td>\n",
       "      <td>3</td>\n",
       "      <td>3966005.67</td>\n",
       "      <td>2011</td>\n",
       "    </tr>\n",
       "    <tr>\n",
       "      <th>...</th>\n",
       "      <td>...</td>\n",
       "      <td>...</td>\n",
       "      <td>...</td>\n",
       "      <td>...</td>\n",
       "      <td>...</td>\n",
       "      <td>...</td>\n",
       "      <td>...</td>\n",
       "      <td>...</td>\n",
       "      <td>...</td>\n",
       "      <td>...</td>\n",
       "      <td>...</td>\n",
       "      <td>...</td>\n",
       "      <td>...</td>\n",
       "      <td>...</td>\n",
       "      <td>...</td>\n",
       "      <td>...</td>\n",
       "      <td>...</td>\n",
       "      <td>...</td>\n",
       "      <td>...</td>\n",
       "      <td>...</td>\n",
       "      <td>...</td>\n",
       "    </tr>\n",
       "    <tr>\n",
       "      <th>30434</th>\n",
       "      <td>2015-06-26</td>\n",
       "      <td>76.0</td>\n",
       "      <td>44.0</td>\n",
       "      <td>6.0</td>\n",
       "      <td>12.0</td>\n",
       "      <td>1.0</td>\n",
       "      <td>2006.0</td>\n",
       "      <td>3.0</td>\n",
       "      <td>10.0</td>\n",
       "      <td>3.0</td>\n",
       "      <td>...</td>\n",
       "      <td>31</td>\n",
       "      <td>4</td>\n",
       "      <td>64</td>\n",
       "      <td>100</td>\n",
       "      <td>1</td>\n",
       "      <td>43</td>\n",
       "      <td>120</td>\n",
       "      <td>10</td>\n",
       "      <td>3513789.58</td>\n",
       "      <td>2015</td>\n",
       "    </tr>\n",
       "    <tr>\n",
       "      <th>30438</th>\n",
       "      <td>2015-06-26</td>\n",
       "      <td>88.0</td>\n",
       "      <td>58.0</td>\n",
       "      <td>7.0</td>\n",
       "      <td>8.0</td>\n",
       "      <td>2.0</td>\n",
       "      <td>1960.0</td>\n",
       "      <td>3.0</td>\n",
       "      <td>8.0</td>\n",
       "      <td>3.0</td>\n",
       "      <td>...</td>\n",
       "      <td>62</td>\n",
       "      <td>12</td>\n",
       "      <td>51</td>\n",
       "      <td>110</td>\n",
       "      <td>1</td>\n",
       "      <td>54</td>\n",
       "      <td>144</td>\n",
       "      <td>11</td>\n",
       "      <td>4085801.84</td>\n",
       "      <td>2015</td>\n",
       "    </tr>\n",
       "    <tr>\n",
       "      <th>30441</th>\n",
       "      <td>2015-06-27</td>\n",
       "      <td>113.0</td>\n",
       "      <td>1.0</td>\n",
       "      <td>26.0</td>\n",
       "      <td>26.0</td>\n",
       "      <td>1.0</td>\n",
       "      <td>2015.0</td>\n",
       "      <td>4.0</td>\n",
       "      <td>1.0</td>\n",
       "      <td>1.0</td>\n",
       "      <td>...</td>\n",
       "      <td>141</td>\n",
       "      <td>26</td>\n",
       "      <td>150</td>\n",
       "      <td>249</td>\n",
       "      <td>2</td>\n",
       "      <td>105</td>\n",
       "      <td>203</td>\n",
       "      <td>13</td>\n",
       "      <td>5115280.90</td>\n",
       "      <td>2015</td>\n",
       "    </tr>\n",
       "    <tr>\n",
       "      <th>30456</th>\n",
       "      <td>2015-06-29</td>\n",
       "      <td>52.0</td>\n",
       "      <td>30.0</td>\n",
       "      <td>8.0</td>\n",
       "      <td>14.0</td>\n",
       "      <td>1.0</td>\n",
       "      <td>1992.0</td>\n",
       "      <td>2.0</td>\n",
       "      <td>8.0</td>\n",
       "      <td>2.0</td>\n",
       "      <td>...</td>\n",
       "      <td>4</td>\n",
       "      <td>1</td>\n",
       "      <td>5</td>\n",
       "      <td>7</td>\n",
       "      <td>0</td>\n",
       "      <td>1</td>\n",
       "      <td>42</td>\n",
       "      <td>6</td>\n",
       "      <td>204290.09</td>\n",
       "      <td>2015</td>\n",
       "    </tr>\n",
       "    <tr>\n",
       "      <th>30467</th>\n",
       "      <td>2015-06-30</td>\n",
       "      <td>86.0</td>\n",
       "      <td>59.0</td>\n",
       "      <td>3.0</td>\n",
       "      <td>9.0</td>\n",
       "      <td>2.0</td>\n",
       "      <td>1935.0</td>\n",
       "      <td>4.0</td>\n",
       "      <td>10.0</td>\n",
       "      <td>3.0</td>\n",
       "      <td>...</td>\n",
       "      <td>128</td>\n",
       "      <td>24</td>\n",
       "      <td>98</td>\n",
       "      <td>182</td>\n",
       "      <td>1</td>\n",
       "      <td>82</td>\n",
       "      <td>171</td>\n",
       "      <td>15</td>\n",
       "      <td>5107252.30</td>\n",
       "      <td>2015</td>\n",
       "    </tr>\n",
       "  </tbody>\n",
       "</table>\n",
       "<p>4006 rows × 288 columns</p>\n",
       "</div>"
      ],
      "text/plain": [
       "       timestamp  full_sq  life_sq  floor  max_floor  material  build_year  \\\n",
       "3     2011-09-01     89.0     50.0    9.0       12.0       1.0      1980.0   \n",
       "4     2011-09-05     77.0     77.0    4.0       12.0       1.0      1980.0   \n",
       "31    2011-09-27     81.0     46.0   24.0       12.0       1.0      1980.0   \n",
       "58    2011-10-04     75.0     46.0   12.0       12.0       1.0      1980.0   \n",
       "60    2011-10-04     96.0     51.0   16.0       12.0       1.0      1980.0   \n",
       "...          ...      ...      ...    ...        ...       ...         ...   \n",
       "30434 2015-06-26     76.0     44.0    6.0       12.0       1.0      2006.0   \n",
       "30438 2015-06-26     88.0     58.0    7.0        8.0       2.0      1960.0   \n",
       "30441 2015-06-27    113.0      1.0   26.0       26.0       1.0      2015.0   \n",
       "30456 2015-06-29     52.0     30.0    8.0       14.0       1.0      1992.0   \n",
       "30467 2015-06-30     86.0     59.0    3.0        9.0       2.0      1935.0   \n",
       "\n",
       "       num_room  kitch_sq  state  ... cafe_count_5000_price_4000  \\\n",
       "3           2.0       6.0    2.0  ...                          2   \n",
       "4           2.0       6.0    2.0  ...                        108   \n",
       "31          2.0       6.0    2.0  ...                          5   \n",
       "58          2.0       6.0    2.0  ...                         12   \n",
       "60          2.0       6.0    2.0  ...                          1   \n",
       "...         ...       ...    ...  ...                        ...   \n",
       "30434       3.0      10.0    3.0  ...                         31   \n",
       "30438       3.0       8.0    3.0  ...                         62   \n",
       "30441       4.0       1.0    1.0  ...                        141   \n",
       "30456       2.0       8.0    2.0  ...                          4   \n",
       "30467       4.0      10.0    3.0  ...                        128   \n",
       "\n",
       "      cafe_count_5000_price_high  big_church_count_5000  church_count_5000  \\\n",
       "3                              1                      4                  4   \n",
       "4                             17                    135                236   \n",
       "31                             0                     10                 10   \n",
       "58                             1                     12                 28   \n",
       "60                             0                      4                  6   \n",
       "...                          ...                    ...                ...   \n",
       "30434                          4                     64                100   \n",
       "30438                         12                     51                110   \n",
       "30441                         26                    150                249   \n",
       "30456                          1                      5                  7   \n",
       "30467                         24                     98                182   \n",
       "\n",
       "       mosque_count_5000  leisure_count_5000  sport_count_5000  \\\n",
       "3                      0                   0                26   \n",
       "4                      2                  91               195   \n",
       "31                     0                   1                50   \n",
       "58                     0                   4                97   \n",
       "60                     0                   1                24   \n",
       "...                  ...                 ...               ...   \n",
       "30434                  1                  43               120   \n",
       "30438                  1                  54               144   \n",
       "30441                  2                 105               203   \n",
       "30456                  0                   1                42   \n",
       "30467                  1                  82               171   \n",
       "\n",
       "       market_count_5000       price  year  \n",
       "3                      3  3708946.77  2011  \n",
       "4                     14  4623853.91  2011  \n",
       "31                     4  5181200.45  2011  \n",
       "58                    14  2818696.88  2011  \n",
       "60                     3  3966005.67  2011  \n",
       "...                  ...         ...   ...  \n",
       "30434                 10  3513789.58  2015  \n",
       "30438                 11  4085801.84  2015  \n",
       "30441                 13  5115280.90  2015  \n",
       "30456                  6   204290.09  2015  \n",
       "30467                 15  5107252.30  2015  \n",
       "\n",
       "[4006 rows x 288 columns]"
      ]
     },
     "execution_count": 40,
     "metadata": {},
     "output_type": "execute_result"
    }
   ],
   "source": [
    "train[outliers]"
   ]
  },
  {
   "cell_type": "code",
   "execution_count": 41,
   "id": "1bd6c01f",
   "metadata": {},
   "outputs": [
    {
     "data": {
      "text/html": [
       "<div>\n",
       "<style scoped>\n",
       "    .dataframe tbody tr th:only-of-type {\n",
       "        vertical-align: middle;\n",
       "    }\n",
       "\n",
       "    .dataframe tbody tr th {\n",
       "        vertical-align: top;\n",
       "    }\n",
       "\n",
       "    .dataframe thead th {\n",
       "        text-align: right;\n",
       "    }\n",
       "</style>\n",
       "<table border=\"1\" class=\"dataframe\">\n",
       "  <thead>\n",
       "    <tr style=\"text-align: right;\">\n",
       "      <th></th>\n",
       "      <th>timestamp</th>\n",
       "      <th>full_sq</th>\n",
       "      <th>life_sq</th>\n",
       "      <th>floor</th>\n",
       "      <th>max_floor</th>\n",
       "      <th>material</th>\n",
       "      <th>build_year</th>\n",
       "      <th>num_room</th>\n",
       "      <th>kitch_sq</th>\n",
       "      <th>state</th>\n",
       "      <th>...</th>\n",
       "      <th>cafe_count_5000_price_4000</th>\n",
       "      <th>cafe_count_5000_price_high</th>\n",
       "      <th>big_church_count_5000</th>\n",
       "      <th>church_count_5000</th>\n",
       "      <th>mosque_count_5000</th>\n",
       "      <th>leisure_count_5000</th>\n",
       "      <th>sport_count_5000</th>\n",
       "      <th>market_count_5000</th>\n",
       "      <th>price</th>\n",
       "      <th>year</th>\n",
       "    </tr>\n",
       "  </thead>\n",
       "  <tbody>\n",
       "    <tr>\n",
       "      <th>0</th>\n",
       "      <td>2011-08-20</td>\n",
       "      <td>43.0</td>\n",
       "      <td>27.0</td>\n",
       "      <td>4.0</td>\n",
       "      <td>12.0</td>\n",
       "      <td>1.0</td>\n",
       "      <td>1980.0</td>\n",
       "      <td>2.0</td>\n",
       "      <td>6.0</td>\n",
       "      <td>2.0</td>\n",
       "      <td>...</td>\n",
       "      <td>4</td>\n",
       "      <td>0</td>\n",
       "      <td>13</td>\n",
       "      <td>22</td>\n",
       "      <td>1</td>\n",
       "      <td>0</td>\n",
       "      <td>52</td>\n",
       "      <td>4</td>\n",
       "      <td>1652542.37</td>\n",
       "      <td>2011</td>\n",
       "    </tr>\n",
       "    <tr>\n",
       "      <th>1</th>\n",
       "      <td>2011-08-23</td>\n",
       "      <td>34.0</td>\n",
       "      <td>19.0</td>\n",
       "      <td>3.0</td>\n",
       "      <td>12.0</td>\n",
       "      <td>1.0</td>\n",
       "      <td>1980.0</td>\n",
       "      <td>2.0</td>\n",
       "      <td>6.0</td>\n",
       "      <td>2.0</td>\n",
       "      <td>...</td>\n",
       "      <td>3</td>\n",
       "      <td>0</td>\n",
       "      <td>15</td>\n",
       "      <td>29</td>\n",
       "      <td>1</td>\n",
       "      <td>10</td>\n",
       "      <td>66</td>\n",
       "      <td>14</td>\n",
       "      <td>1694915.25</td>\n",
       "      <td>2011</td>\n",
       "    </tr>\n",
       "    <tr>\n",
       "      <th>2</th>\n",
       "      <td>2011-08-27</td>\n",
       "      <td>43.0</td>\n",
       "      <td>29.0</td>\n",
       "      <td>2.0</td>\n",
       "      <td>12.0</td>\n",
       "      <td>1.0</td>\n",
       "      <td>1980.0</td>\n",
       "      <td>2.0</td>\n",
       "      <td>6.0</td>\n",
       "      <td>2.0</td>\n",
       "      <td>...</td>\n",
       "      <td>3</td>\n",
       "      <td>0</td>\n",
       "      <td>11</td>\n",
       "      <td>27</td>\n",
       "      <td>0</td>\n",
       "      <td>4</td>\n",
       "      <td>67</td>\n",
       "      <td>10</td>\n",
       "      <td>1610169.49</td>\n",
       "      <td>2011</td>\n",
       "    </tr>\n",
       "    <tr>\n",
       "      <th>5</th>\n",
       "      <td>2011-09-06</td>\n",
       "      <td>67.0</td>\n",
       "      <td>46.0</td>\n",
       "      <td>14.0</td>\n",
       "      <td>12.0</td>\n",
       "      <td>1.0</td>\n",
       "      <td>1980.0</td>\n",
       "      <td>2.0</td>\n",
       "      <td>6.0</td>\n",
       "      <td>2.0</td>\n",
       "      <td>...</td>\n",
       "      <td>14</td>\n",
       "      <td>1</td>\n",
       "      <td>53</td>\n",
       "      <td>78</td>\n",
       "      <td>1</td>\n",
       "      <td>20</td>\n",
       "      <td>113</td>\n",
       "      <td>17</td>\n",
       "      <td>2576443.94</td>\n",
       "      <td>2011</td>\n",
       "    </tr>\n",
       "    <tr>\n",
       "      <th>6</th>\n",
       "      <td>2011-09-08</td>\n",
       "      <td>25.0</td>\n",
       "      <td>14.0</td>\n",
       "      <td>10.0</td>\n",
       "      <td>12.0</td>\n",
       "      <td>1.0</td>\n",
       "      <td>1980.0</td>\n",
       "      <td>2.0</td>\n",
       "      <td>6.0</td>\n",
       "      <td>2.0</td>\n",
       "      <td>...</td>\n",
       "      <td>16</td>\n",
       "      <td>3</td>\n",
       "      <td>38</td>\n",
       "      <td>80</td>\n",
       "      <td>1</td>\n",
       "      <td>27</td>\n",
       "      <td>127</td>\n",
       "      <td>8</td>\n",
       "      <td>1557191.39</td>\n",
       "      <td>2011</td>\n",
       "    </tr>\n",
       "    <tr>\n",
       "      <th>...</th>\n",
       "      <td>...</td>\n",
       "      <td>...</td>\n",
       "      <td>...</td>\n",
       "      <td>...</td>\n",
       "      <td>...</td>\n",
       "      <td>...</td>\n",
       "      <td>...</td>\n",
       "      <td>...</td>\n",
       "      <td>...</td>\n",
       "      <td>...</td>\n",
       "      <td>...</td>\n",
       "      <td>...</td>\n",
       "      <td>...</td>\n",
       "      <td>...</td>\n",
       "      <td>...</td>\n",
       "      <td>...</td>\n",
       "      <td>...</td>\n",
       "      <td>...</td>\n",
       "      <td>...</td>\n",
       "      <td>...</td>\n",
       "      <td>...</td>\n",
       "    </tr>\n",
       "    <tr>\n",
       "      <th>30465</th>\n",
       "      <td>2015-06-30</td>\n",
       "      <td>52.0</td>\n",
       "      <td>30.0</td>\n",
       "      <td>13.0</td>\n",
       "      <td>17.0</td>\n",
       "      <td>1.0</td>\n",
       "      <td>1980.0</td>\n",
       "      <td>2.0</td>\n",
       "      <td>1.0</td>\n",
       "      <td>1.0</td>\n",
       "      <td>...</td>\n",
       "      <td>141</td>\n",
       "      <td>26</td>\n",
       "      <td>150</td>\n",
       "      <td>249</td>\n",
       "      <td>2</td>\n",
       "      <td>105</td>\n",
       "      <td>203</td>\n",
       "      <td>13</td>\n",
       "      <td>1379071.30</td>\n",
       "      <td>2015</td>\n",
       "    </tr>\n",
       "    <tr>\n",
       "      <th>30466</th>\n",
       "      <td>2015-06-30</td>\n",
       "      <td>44.0</td>\n",
       "      <td>27.0</td>\n",
       "      <td>7.0</td>\n",
       "      <td>9.0</td>\n",
       "      <td>1.0</td>\n",
       "      <td>1975.0</td>\n",
       "      <td>2.0</td>\n",
       "      <td>6.0</td>\n",
       "      <td>3.0</td>\n",
       "      <td>...</td>\n",
       "      <td>5</td>\n",
       "      <td>0</td>\n",
       "      <td>15</td>\n",
       "      <td>26</td>\n",
       "      <td>1</td>\n",
       "      <td>2</td>\n",
       "      <td>84</td>\n",
       "      <td>6</td>\n",
       "      <td>1511746.68</td>\n",
       "      <td>2015</td>\n",
       "    </tr>\n",
       "    <tr>\n",
       "      <th>30468</th>\n",
       "      <td>2015-06-30</td>\n",
       "      <td>45.0</td>\n",
       "      <td>30.0</td>\n",
       "      <td>10.0</td>\n",
       "      <td>20.0</td>\n",
       "      <td>1.0</td>\n",
       "      <td>1980.0</td>\n",
       "      <td>1.0</td>\n",
       "      <td>1.0</td>\n",
       "      <td>1.0</td>\n",
       "      <td>...</td>\n",
       "      <td>1</td>\n",
       "      <td>0</td>\n",
       "      <td>2</td>\n",
       "      <td>12</td>\n",
       "      <td>0</td>\n",
       "      <td>1</td>\n",
       "      <td>11</td>\n",
       "      <td>1</td>\n",
       "      <td>1424097.85</td>\n",
       "      <td>2015</td>\n",
       "    </tr>\n",
       "    <tr>\n",
       "      <th>30469</th>\n",
       "      <td>2015-06-30</td>\n",
       "      <td>64.0</td>\n",
       "      <td>32.0</td>\n",
       "      <td>5.0</td>\n",
       "      <td>15.0</td>\n",
       "      <td>1.0</td>\n",
       "      <td>2003.0</td>\n",
       "      <td>2.0</td>\n",
       "      <td>11.0</td>\n",
       "      <td>2.0</td>\n",
       "      <td>...</td>\n",
       "      <td>1</td>\n",
       "      <td>1</td>\n",
       "      <td>6</td>\n",
       "      <td>31</td>\n",
       "      <td>1</td>\n",
       "      <td>4</td>\n",
       "      <td>65</td>\n",
       "      <td>7</td>\n",
       "      <td>2757916.24</td>\n",
       "      <td>2015</td>\n",
       "    </tr>\n",
       "    <tr>\n",
       "      <th>30470</th>\n",
       "      <td>2015-06-30</td>\n",
       "      <td>43.0</td>\n",
       "      <td>28.0</td>\n",
       "      <td>1.0</td>\n",
       "      <td>9.0</td>\n",
       "      <td>1.0</td>\n",
       "      <td>1968.0</td>\n",
       "      <td>2.0</td>\n",
       "      <td>6.0</td>\n",
       "      <td>2.0</td>\n",
       "      <td>...</td>\n",
       "      <td>2</td>\n",
       "      <td>0</td>\n",
       "      <td>7</td>\n",
       "      <td>16</td>\n",
       "      <td>0</td>\n",
       "      <td>9</td>\n",
       "      <td>54</td>\n",
       "      <td>10</td>\n",
       "      <td>1144024.51</td>\n",
       "      <td>2015</td>\n",
       "    </tr>\n",
       "  </tbody>\n",
       "</table>\n",
       "<p>26465 rows × 288 columns</p>\n",
       "</div>"
      ],
      "text/plain": [
       "       timestamp  full_sq  life_sq  floor  max_floor  material  build_year  \\\n",
       "0     2011-08-20     43.0     27.0    4.0       12.0       1.0      1980.0   \n",
       "1     2011-08-23     34.0     19.0    3.0       12.0       1.0      1980.0   \n",
       "2     2011-08-27     43.0     29.0    2.0       12.0       1.0      1980.0   \n",
       "5     2011-09-06     67.0     46.0   14.0       12.0       1.0      1980.0   \n",
       "6     2011-09-08     25.0     14.0   10.0       12.0       1.0      1980.0   \n",
       "...          ...      ...      ...    ...        ...       ...         ...   \n",
       "30465 2015-06-30     52.0     30.0   13.0       17.0       1.0      1980.0   \n",
       "30466 2015-06-30     44.0     27.0    7.0        9.0       1.0      1975.0   \n",
       "30468 2015-06-30     45.0     30.0   10.0       20.0       1.0      1980.0   \n",
       "30469 2015-06-30     64.0     32.0    5.0       15.0       1.0      2003.0   \n",
       "30470 2015-06-30     43.0     28.0    1.0        9.0       1.0      1968.0   \n",
       "\n",
       "       num_room  kitch_sq  state  ... cafe_count_5000_price_4000  \\\n",
       "0           2.0       6.0    2.0  ...                          4   \n",
       "1           2.0       6.0    2.0  ...                          3   \n",
       "2           2.0       6.0    2.0  ...                          3   \n",
       "5           2.0       6.0    2.0  ...                         14   \n",
       "6           2.0       6.0    2.0  ...                         16   \n",
       "...         ...       ...    ...  ...                        ...   \n",
       "30465       2.0       1.0    1.0  ...                        141   \n",
       "30466       2.0       6.0    3.0  ...                          5   \n",
       "30468       1.0       1.0    1.0  ...                          1   \n",
       "30469       2.0      11.0    2.0  ...                          1   \n",
       "30470       2.0       6.0    2.0  ...                          2   \n",
       "\n",
       "      cafe_count_5000_price_high  big_church_count_5000  church_count_5000  \\\n",
       "0                              0                     13                 22   \n",
       "1                              0                     15                 29   \n",
       "2                              0                     11                 27   \n",
       "5                              1                     53                 78   \n",
       "6                              3                     38                 80   \n",
       "...                          ...                    ...                ...   \n",
       "30465                         26                    150                249   \n",
       "30466                          0                     15                 26   \n",
       "30468                          0                      2                 12   \n",
       "30469                          1                      6                 31   \n",
       "30470                          0                      7                 16   \n",
       "\n",
       "       mosque_count_5000  leisure_count_5000  sport_count_5000  \\\n",
       "0                      1                   0                52   \n",
       "1                      1                  10                66   \n",
       "2                      0                   4                67   \n",
       "5                      1                  20               113   \n",
       "6                      1                  27               127   \n",
       "...                  ...                 ...               ...   \n",
       "30465                  2                 105               203   \n",
       "30466                  1                   2                84   \n",
       "30468                  0                   1                11   \n",
       "30469                  1                   4                65   \n",
       "30470                  0                   9                54   \n",
       "\n",
       "       market_count_5000       price  year  \n",
       "0                      4  1652542.37  2011  \n",
       "1                     14  1694915.25  2011  \n",
       "2                     10  1610169.49  2011  \n",
       "5                     17  2576443.94  2011  \n",
       "6                      8  1557191.39  2011  \n",
       "...                  ...         ...   ...  \n",
       "30465                 13  1379071.30  2015  \n",
       "30466                  6  1511746.68  2015  \n",
       "30468                  1  1424097.85  2015  \n",
       "30469                  7  2757916.24  2015  \n",
       "30470                 10  1144024.51  2015  \n",
       "\n",
       "[26465 rows x 288 columns]"
      ]
     },
     "execution_count": 41,
     "metadata": {},
     "output_type": "execute_result"
    }
   ],
   "source": [
    "train = train[~outliers]\n",
    "train"
   ]
  },
  {
   "cell_type": "code",
   "execution_count": 42,
   "id": "df2a6720",
   "metadata": {},
   "outputs": [
    {
     "data": {
      "text/plain": [
       "(26465, 288)"
      ]
     },
     "execution_count": 42,
     "metadata": {},
     "output_type": "execute_result"
    }
   ],
   "source": [
    "train.shape"
   ]
  },
  {
   "cell_type": "code",
   "execution_count": 43,
   "id": "76a98e45",
   "metadata": {},
   "outputs": [],
   "source": [
    "def get_train_corr(df):\n",
    "    train = df[df.timestamp < '2015-07-01']\n",
    "    return train.corr()"
   ]
  },
  {
   "cell_type": "code",
   "execution_count": 44,
   "id": "efc68762",
   "metadata": {},
   "outputs": [
    {
     "data": {
      "text/html": [
       "<div>\n",
       "<style scoped>\n",
       "    .dataframe tbody tr th:only-of-type {\n",
       "        vertical-align: middle;\n",
       "    }\n",
       "\n",
       "    .dataframe tbody tr th {\n",
       "        vertical-align: top;\n",
       "    }\n",
       "\n",
       "    .dataframe thead th {\n",
       "        text-align: right;\n",
       "    }\n",
       "</style>\n",
       "<table border=\"1\" class=\"dataframe\">\n",
       "  <thead>\n",
       "    <tr style=\"text-align: right;\">\n",
       "      <th></th>\n",
       "      <th>timestamp</th>\n",
       "      <th>full_sq</th>\n",
       "      <th>life_sq</th>\n",
       "      <th>floor</th>\n",
       "      <th>max_floor</th>\n",
       "      <th>material</th>\n",
       "      <th>build_year</th>\n",
       "      <th>num_room</th>\n",
       "      <th>kitch_sq</th>\n",
       "      <th>state</th>\n",
       "      <th>...</th>\n",
       "      <th>cafe_count_5000_price_4000</th>\n",
       "      <th>cafe_count_5000_price_high</th>\n",
       "      <th>big_church_count_5000</th>\n",
       "      <th>church_count_5000</th>\n",
       "      <th>mosque_count_5000</th>\n",
       "      <th>leisure_count_5000</th>\n",
       "      <th>sport_count_5000</th>\n",
       "      <th>market_count_5000</th>\n",
       "      <th>price</th>\n",
       "      <th>year</th>\n",
       "    </tr>\n",
       "  </thead>\n",
       "  <tbody>\n",
       "    <tr>\n",
       "      <th>0</th>\n",
       "      <td>2011-08-20</td>\n",
       "      <td>43.00</td>\n",
       "      <td>27.0</td>\n",
       "      <td>4.0</td>\n",
       "      <td>12.0</td>\n",
       "      <td>1.0</td>\n",
       "      <td>1980.0</td>\n",
       "      <td>2.0</td>\n",
       "      <td>6.0</td>\n",
       "      <td>2.0</td>\n",
       "      <td>...</td>\n",
       "      <td>4</td>\n",
       "      <td>0</td>\n",
       "      <td>13</td>\n",
       "      <td>22</td>\n",
       "      <td>1</td>\n",
       "      <td>0</td>\n",
       "      <td>52</td>\n",
       "      <td>4</td>\n",
       "      <td>1652542.37</td>\n",
       "      <td>2011</td>\n",
       "    </tr>\n",
       "    <tr>\n",
       "      <th>1</th>\n",
       "      <td>2011-08-23</td>\n",
       "      <td>34.00</td>\n",
       "      <td>19.0</td>\n",
       "      <td>3.0</td>\n",
       "      <td>12.0</td>\n",
       "      <td>1.0</td>\n",
       "      <td>1980.0</td>\n",
       "      <td>2.0</td>\n",
       "      <td>6.0</td>\n",
       "      <td>2.0</td>\n",
       "      <td>...</td>\n",
       "      <td>3</td>\n",
       "      <td>0</td>\n",
       "      <td>15</td>\n",
       "      <td>29</td>\n",
       "      <td>1</td>\n",
       "      <td>10</td>\n",
       "      <td>66</td>\n",
       "      <td>14</td>\n",
       "      <td>1694915.25</td>\n",
       "      <td>2011</td>\n",
       "    </tr>\n",
       "    <tr>\n",
       "      <th>2</th>\n",
       "      <td>2011-08-27</td>\n",
       "      <td>43.00</td>\n",
       "      <td>29.0</td>\n",
       "      <td>2.0</td>\n",
       "      <td>12.0</td>\n",
       "      <td>1.0</td>\n",
       "      <td>1980.0</td>\n",
       "      <td>2.0</td>\n",
       "      <td>6.0</td>\n",
       "      <td>2.0</td>\n",
       "      <td>...</td>\n",
       "      <td>3</td>\n",
       "      <td>0</td>\n",
       "      <td>11</td>\n",
       "      <td>27</td>\n",
       "      <td>0</td>\n",
       "      <td>4</td>\n",
       "      <td>67</td>\n",
       "      <td>10</td>\n",
       "      <td>1610169.49</td>\n",
       "      <td>2011</td>\n",
       "    </tr>\n",
       "    <tr>\n",
       "      <th>3</th>\n",
       "      <td>2011-09-06</td>\n",
       "      <td>67.00</td>\n",
       "      <td>46.0</td>\n",
       "      <td>14.0</td>\n",
       "      <td>12.0</td>\n",
       "      <td>1.0</td>\n",
       "      <td>1980.0</td>\n",
       "      <td>2.0</td>\n",
       "      <td>6.0</td>\n",
       "      <td>2.0</td>\n",
       "      <td>...</td>\n",
       "      <td>14</td>\n",
       "      <td>1</td>\n",
       "      <td>53</td>\n",
       "      <td>78</td>\n",
       "      <td>1</td>\n",
       "      <td>20</td>\n",
       "      <td>113</td>\n",
       "      <td>17</td>\n",
       "      <td>2576443.94</td>\n",
       "      <td>2011</td>\n",
       "    </tr>\n",
       "    <tr>\n",
       "      <th>4</th>\n",
       "      <td>2011-09-08</td>\n",
       "      <td>25.00</td>\n",
       "      <td>14.0</td>\n",
       "      <td>10.0</td>\n",
       "      <td>12.0</td>\n",
       "      <td>1.0</td>\n",
       "      <td>1980.0</td>\n",
       "      <td>2.0</td>\n",
       "      <td>6.0</td>\n",
       "      <td>2.0</td>\n",
       "      <td>...</td>\n",
       "      <td>16</td>\n",
       "      <td>3</td>\n",
       "      <td>38</td>\n",
       "      <td>80</td>\n",
       "      <td>1</td>\n",
       "      <td>27</td>\n",
       "      <td>127</td>\n",
       "      <td>8</td>\n",
       "      <td>1557191.39</td>\n",
       "      <td>2011</td>\n",
       "    </tr>\n",
       "    <tr>\n",
       "      <th>...</th>\n",
       "      <td>...</td>\n",
       "      <td>...</td>\n",
       "      <td>...</td>\n",
       "      <td>...</td>\n",
       "      <td>...</td>\n",
       "      <td>...</td>\n",
       "      <td>...</td>\n",
       "      <td>...</td>\n",
       "      <td>...</td>\n",
       "      <td>...</td>\n",
       "      <td>...</td>\n",
       "      <td>...</td>\n",
       "      <td>...</td>\n",
       "      <td>...</td>\n",
       "      <td>...</td>\n",
       "      <td>...</td>\n",
       "      <td>...</td>\n",
       "      <td>...</td>\n",
       "      <td>...</td>\n",
       "      <td>...</td>\n",
       "      <td>...</td>\n",
       "    </tr>\n",
       "    <tr>\n",
       "      <th>34122</th>\n",
       "      <td>2016-05-26</td>\n",
       "      <td>52.20</td>\n",
       "      <td>31.8</td>\n",
       "      <td>10.0</td>\n",
       "      <td>12.0</td>\n",
       "      <td>5.0</td>\n",
       "      <td>1973.0</td>\n",
       "      <td>2.0</td>\n",
       "      <td>9.1</td>\n",
       "      <td>2.0</td>\n",
       "      <td>...</td>\n",
       "      <td>1</td>\n",
       "      <td>1</td>\n",
       "      <td>8</td>\n",
       "      <td>39</td>\n",
       "      <td>2</td>\n",
       "      <td>3</td>\n",
       "      <td>75</td>\n",
       "      <td>12</td>\n",
       "      <td>1360569.65</td>\n",
       "      <td>2016</td>\n",
       "    </tr>\n",
       "    <tr>\n",
       "      <th>34123</th>\n",
       "      <td>2016-05-28</td>\n",
       "      <td>54.09</td>\n",
       "      <td>30.0</td>\n",
       "      <td>14.0</td>\n",
       "      <td>0.0</td>\n",
       "      <td>1.0</td>\n",
       "      <td>1980.0</td>\n",
       "      <td>2.0</td>\n",
       "      <td>0.0</td>\n",
       "      <td>2.0</td>\n",
       "      <td>...</td>\n",
       "      <td>1</td>\n",
       "      <td>0</td>\n",
       "      <td>0</td>\n",
       "      <td>10</td>\n",
       "      <td>0</td>\n",
       "      <td>0</td>\n",
       "      <td>0</td>\n",
       "      <td>0</td>\n",
       "      <td>1360569.65</td>\n",
       "      <td>2016</td>\n",
       "    </tr>\n",
       "    <tr>\n",
       "      <th>34124</th>\n",
       "      <td>2016-05-30</td>\n",
       "      <td>41.08</td>\n",
       "      <td>1.0</td>\n",
       "      <td>12.0</td>\n",
       "      <td>1.0</td>\n",
       "      <td>1.0</td>\n",
       "      <td>1.0</td>\n",
       "      <td>1.0</td>\n",
       "      <td>1.0</td>\n",
       "      <td>1.0</td>\n",
       "      <td>...</td>\n",
       "      <td>141</td>\n",
       "      <td>26</td>\n",
       "      <td>150</td>\n",
       "      <td>249</td>\n",
       "      <td>2</td>\n",
       "      <td>105</td>\n",
       "      <td>203</td>\n",
       "      <td>13</td>\n",
       "      <td>1360569.65</td>\n",
       "      <td>2016</td>\n",
       "    </tr>\n",
       "    <tr>\n",
       "      <th>34125</th>\n",
       "      <td>2016-05-30</td>\n",
       "      <td>34.80</td>\n",
       "      <td>19.8</td>\n",
       "      <td>8.0</td>\n",
       "      <td>9.0</td>\n",
       "      <td>5.0</td>\n",
       "      <td>1977.0</td>\n",
       "      <td>1.0</td>\n",
       "      <td>6.4</td>\n",
       "      <td>2.0</td>\n",
       "      <td>...</td>\n",
       "      <td>2</td>\n",
       "      <td>0</td>\n",
       "      <td>5</td>\n",
       "      <td>11</td>\n",
       "      <td>0</td>\n",
       "      <td>2</td>\n",
       "      <td>43</td>\n",
       "      <td>10</td>\n",
       "      <td>1360569.65</td>\n",
       "      <td>2016</td>\n",
       "    </tr>\n",
       "    <tr>\n",
       "      <th>34126</th>\n",
       "      <td>2016-05-30</td>\n",
       "      <td>63.00</td>\n",
       "      <td>43.8</td>\n",
       "      <td>5.0</td>\n",
       "      <td>5.0</td>\n",
       "      <td>1.0</td>\n",
       "      <td>1973.0</td>\n",
       "      <td>3.0</td>\n",
       "      <td>7.1</td>\n",
       "      <td>3.0</td>\n",
       "      <td>...</td>\n",
       "      <td>1</td>\n",
       "      <td>0</td>\n",
       "      <td>6</td>\n",
       "      <td>26</td>\n",
       "      <td>1</td>\n",
       "      <td>4</td>\n",
       "      <td>42</td>\n",
       "      <td>11</td>\n",
       "      <td>1360569.65</td>\n",
       "      <td>2016</td>\n",
       "    </tr>\n",
       "  </tbody>\n",
       "</table>\n",
       "<p>34127 rows × 288 columns</p>\n",
       "</div>"
      ],
      "text/plain": [
       "       timestamp  full_sq  life_sq  floor  max_floor  material  build_year  \\\n",
       "0     2011-08-20    43.00     27.0    4.0       12.0       1.0      1980.0   \n",
       "1     2011-08-23    34.00     19.0    3.0       12.0       1.0      1980.0   \n",
       "2     2011-08-27    43.00     29.0    2.0       12.0       1.0      1980.0   \n",
       "3     2011-09-06    67.00     46.0   14.0       12.0       1.0      1980.0   \n",
       "4     2011-09-08    25.00     14.0   10.0       12.0       1.0      1980.0   \n",
       "...          ...      ...      ...    ...        ...       ...         ...   \n",
       "34122 2016-05-26    52.20     31.8   10.0       12.0       5.0      1973.0   \n",
       "34123 2016-05-28    54.09     30.0   14.0        0.0       1.0      1980.0   \n",
       "34124 2016-05-30    41.08      1.0   12.0        1.0       1.0         1.0   \n",
       "34125 2016-05-30    34.80     19.8    8.0        9.0       5.0      1977.0   \n",
       "34126 2016-05-30    63.00     43.8    5.0        5.0       1.0      1973.0   \n",
       "\n",
       "       num_room  kitch_sq  state  ... cafe_count_5000_price_4000  \\\n",
       "0           2.0       6.0    2.0  ...                          4   \n",
       "1           2.0       6.0    2.0  ...                          3   \n",
       "2           2.0       6.0    2.0  ...                          3   \n",
       "3           2.0       6.0    2.0  ...                         14   \n",
       "4           2.0       6.0    2.0  ...                         16   \n",
       "...         ...       ...    ...  ...                        ...   \n",
       "34122       2.0       9.1    2.0  ...                          1   \n",
       "34123       2.0       0.0    2.0  ...                          1   \n",
       "34124       1.0       1.0    1.0  ...                        141   \n",
       "34125       1.0       6.4    2.0  ...                          2   \n",
       "34126       3.0       7.1    3.0  ...                          1   \n",
       "\n",
       "      cafe_count_5000_price_high  big_church_count_5000  church_count_5000  \\\n",
       "0                              0                     13                 22   \n",
       "1                              0                     15                 29   \n",
       "2                              0                     11                 27   \n",
       "3                              1                     53                 78   \n",
       "4                              3                     38                 80   \n",
       "...                          ...                    ...                ...   \n",
       "34122                          1                      8                 39   \n",
       "34123                          0                      0                 10   \n",
       "34124                         26                    150                249   \n",
       "34125                          0                      5                 11   \n",
       "34126                          0                      6                 26   \n",
       "\n",
       "       mosque_count_5000  leisure_count_5000  sport_count_5000  \\\n",
       "0                      1                   0                52   \n",
       "1                      1                  10                66   \n",
       "2                      0                   4                67   \n",
       "3                      1                  20               113   \n",
       "4                      1                  27               127   \n",
       "...                  ...                 ...               ...   \n",
       "34122                  2                   3                75   \n",
       "34123                  0                   0                 0   \n",
       "34124                  2                 105               203   \n",
       "34125                  0                   2                43   \n",
       "34126                  1                   4                42   \n",
       "\n",
       "       market_count_5000       price  year  \n",
       "0                      4  1652542.37  2011  \n",
       "1                     14  1694915.25  2011  \n",
       "2                     10  1610169.49  2011  \n",
       "3                     17  2576443.94  2011  \n",
       "4                      8  1557191.39  2011  \n",
       "...                  ...         ...   ...  \n",
       "34122                 12  1360569.65  2016  \n",
       "34123                  0  1360569.65  2016  \n",
       "34124                 13  1360569.65  2016  \n",
       "34125                 10  1360569.65  2016  \n",
       "34126                 11  1360569.65  2016  \n",
       "\n",
       "[34127 rows x 288 columns]"
      ]
     },
     "execution_count": 44,
     "metadata": {},
     "output_type": "execute_result"
    }
   ],
   "source": [
    "df = pd.concat([train, test], ignore_index=True)\n",
    "df"
   ]
  },
  {
   "cell_type": "markdown",
   "id": "cd449764",
   "metadata": {},
   "source": [
    "# Including features"
   ]
  },
  {
   "cell_type": "markdown",
   "id": "6f351c38",
   "metadata": {},
   "source": [
    "#### Grouping the similar columns using average value counting"
   ]
  },
  {
   "cell_type": "code",
   "execution_count": 45,
   "id": "9ac06e47",
   "metadata": {},
   "outputs": [],
   "source": [
    "def group_cols_by_mean(df, columns, name_col):\n",
    "    df[name_col] = 0 \n",
    "    \n",
    "    for col in columns:\n",
    "        df[name_col] += df[col]\n",
    "    \n",
    "    df[name_col] /= len(columns)\n",
    "    df.drop(columns=columns, axis=1,inplace=True)"
   ]
  },
  {
   "cell_type": "markdown",
   "id": "ce2f4f8c",
   "metadata": {},
   "source": [
    "#### Getting the list of highly correlated columns with current column"
   ]
  },
  {
   "cell_type": "code",
   "execution_count": 46,
   "id": "12b93aa2",
   "metadata": {},
   "outputs": [],
   "source": [
    "def high_corr(corr_matrix, column):\n",
    "    return corr_matrix[column][corr_matrix[column] > 0.6].sort_values(ascending=False)"
   ]
  },
  {
   "cell_type": "markdown",
   "id": "e2be23e7",
   "metadata": {},
   "source": [
    "#### An empty list for including columns"
   ]
  },
  {
   "cell_type": "code",
   "execution_count": 47,
   "id": "f2f16ab1",
   "metadata": {},
   "outputs": [],
   "source": [
    "columns = []"
   ]
  },
  {
   "cell_type": "markdown",
   "id": "3c63a954",
   "metadata": {},
   "source": [
    "## \"Square\" feature"
   ]
  },
  {
   "cell_type": "code",
   "execution_count": 48,
   "id": "09131097",
   "metadata": {},
   "outputs": [],
   "source": [
    "square_columns = df.columns[df.columns.str.contains('sq$')]"
   ]
  },
  {
   "cell_type": "code",
   "execution_count": 49,
   "id": "b70ae482",
   "metadata": {},
   "outputs": [
    {
     "data": {
      "text/html": [
       "<div>\n",
       "<style scoped>\n",
       "    .dataframe tbody tr th:only-of-type {\n",
       "        vertical-align: middle;\n",
       "    }\n",
       "\n",
       "    .dataframe tbody tr th {\n",
       "        vertical-align: top;\n",
       "    }\n",
       "\n",
       "    .dataframe thead th {\n",
       "        text-align: right;\n",
       "    }\n",
       "</style>\n",
       "<table border=\"1\" class=\"dataframe\">\n",
       "  <thead>\n",
       "    <tr style=\"text-align: right;\">\n",
       "      <th></th>\n",
       "      <th>full_sq</th>\n",
       "      <th>life_sq</th>\n",
       "      <th>kitch_sq</th>\n",
       "    </tr>\n",
       "  </thead>\n",
       "  <tbody>\n",
       "    <tr>\n",
       "      <th>0</th>\n",
       "      <td>43.00</td>\n",
       "      <td>27.0</td>\n",
       "      <td>6.0</td>\n",
       "    </tr>\n",
       "    <tr>\n",
       "      <th>1</th>\n",
       "      <td>34.00</td>\n",
       "      <td>19.0</td>\n",
       "      <td>6.0</td>\n",
       "    </tr>\n",
       "    <tr>\n",
       "      <th>2</th>\n",
       "      <td>43.00</td>\n",
       "      <td>29.0</td>\n",
       "      <td>6.0</td>\n",
       "    </tr>\n",
       "    <tr>\n",
       "      <th>3</th>\n",
       "      <td>67.00</td>\n",
       "      <td>46.0</td>\n",
       "      <td>6.0</td>\n",
       "    </tr>\n",
       "    <tr>\n",
       "      <th>4</th>\n",
       "      <td>25.00</td>\n",
       "      <td>14.0</td>\n",
       "      <td>6.0</td>\n",
       "    </tr>\n",
       "    <tr>\n",
       "      <th>...</th>\n",
       "      <td>...</td>\n",
       "      <td>...</td>\n",
       "      <td>...</td>\n",
       "    </tr>\n",
       "    <tr>\n",
       "      <th>34122</th>\n",
       "      <td>52.20</td>\n",
       "      <td>31.8</td>\n",
       "      <td>9.1</td>\n",
       "    </tr>\n",
       "    <tr>\n",
       "      <th>34123</th>\n",
       "      <td>54.09</td>\n",
       "      <td>30.0</td>\n",
       "      <td>0.0</td>\n",
       "    </tr>\n",
       "    <tr>\n",
       "      <th>34124</th>\n",
       "      <td>41.08</td>\n",
       "      <td>1.0</td>\n",
       "      <td>1.0</td>\n",
       "    </tr>\n",
       "    <tr>\n",
       "      <th>34125</th>\n",
       "      <td>34.80</td>\n",
       "      <td>19.8</td>\n",
       "      <td>6.4</td>\n",
       "    </tr>\n",
       "    <tr>\n",
       "      <th>34126</th>\n",
       "      <td>63.00</td>\n",
       "      <td>43.8</td>\n",
       "      <td>7.1</td>\n",
       "    </tr>\n",
       "  </tbody>\n",
       "</table>\n",
       "<p>34127 rows × 3 columns</p>\n",
       "</div>"
      ],
      "text/plain": [
       "       full_sq  life_sq  kitch_sq\n",
       "0        43.00     27.0       6.0\n",
       "1        34.00     19.0       6.0\n",
       "2        43.00     29.0       6.0\n",
       "3        67.00     46.0       6.0\n",
       "4        25.00     14.0       6.0\n",
       "...        ...      ...       ...\n",
       "34122    52.20     31.8       9.1\n",
       "34123    54.09     30.0       0.0\n",
       "34124    41.08      1.0       1.0\n",
       "34125    34.80     19.8       6.4\n",
       "34126    63.00     43.8       7.1\n",
       "\n",
       "[34127 rows x 3 columns]"
      ]
     },
     "execution_count": 49,
     "metadata": {},
     "output_type": "execute_result"
    }
   ],
   "source": [
    "square = df[square_columns]\n",
    "square"
   ]
  },
  {
   "cell_type": "code",
   "execution_count": 50,
   "id": "42ba0d6d",
   "metadata": {},
   "outputs": [
    {
     "data": {
      "text/plain": [
       "full_sq     0.150693\n",
       "life_sq     0.056575\n",
       "kitch_sq    0.013920\n",
       "Name: price, dtype: float64"
      ]
     },
     "execution_count": 50,
     "metadata": {},
     "output_type": "execute_result"
    }
   ],
   "source": [
    "df.corr().price[square_columns]"
   ]
  },
  {
   "cell_type": "markdown",
   "id": "071f2d3f",
   "metadata": {},
   "source": [
    "#### Conclusion: include only full_sq"
   ]
  },
  {
   "cell_type": "code",
   "execution_count": 51,
   "id": "81fad30a",
   "metadata": {},
   "outputs": [],
   "source": [
    "columns.append('full_sq')"
   ]
  },
  {
   "cell_type": "markdown",
   "id": "0eb2559c",
   "metadata": {},
   "source": [
    "#### Dropping outliers"
   ]
  },
  {
   "cell_type": "code",
   "execution_count": 52,
   "id": "f2602fa4",
   "metadata": {},
   "outputs": [
    {
     "data": {
      "text/plain": [
       "count    34127.000000\n",
       "mean        51.351256\n",
       "std         34.550678\n",
       "min          0.000000\n",
       "25%         38.000000\n",
       "50%         46.000000\n",
       "75%         60.060000\n",
       "max       5326.000000\n",
       "Name: full_sq, dtype: float64"
      ]
     },
     "execution_count": 52,
     "metadata": {},
     "output_type": "execute_result"
    }
   ],
   "source": [
    "df.full_sq.describe()"
   ]
  },
  {
   "cell_type": "code",
   "execution_count": 53,
   "id": "3ebdca90",
   "metadata": {},
   "outputs": [],
   "source": [
    "df = df[(df['full_sq'].quantile(.99) > df['full_sq']) & (df['full_sq'] > df['full_sq'].quantile(.01))]"
   ]
  },
  {
   "cell_type": "code",
   "execution_count": 54,
   "id": "d4005c73",
   "metadata": {},
   "outputs": [
    {
     "data": {
      "text/plain": [
       "(33362, 288)"
      ]
     },
     "execution_count": 54,
     "metadata": {},
     "output_type": "execute_result"
    }
   ],
   "source": [
    "df.shape"
   ]
  },
  {
   "cell_type": "markdown",
   "id": "2d2356fc",
   "metadata": {},
   "source": [
    "## \"Number of rooms\" feature"
   ]
  },
  {
   "cell_type": "code",
   "execution_count": 55,
   "id": "83fdfdb0",
   "metadata": {},
   "outputs": [
    {
     "data": {
      "text/plain": [
       "2.0     18640\n",
       "1.0      9843\n",
       "3.0      4646\n",
       "4.0       206\n",
       "5.0        12\n",
       "0.0         8\n",
       "6.0         3\n",
       "19.0        2\n",
       "10.0        2\n",
       "Name: num_room, dtype: int64"
      ]
     },
     "execution_count": 55,
     "metadata": {},
     "output_type": "execute_result"
    }
   ],
   "source": [
    "df[\"num_room\"].value_counts()"
   ]
  },
  {
   "cell_type": "markdown",
   "id": "fb9e2ceb",
   "metadata": {},
   "source": [
    "#### Droping all rows where number of room is less than 5"
   ]
  },
  {
   "cell_type": "code",
   "execution_count": 56,
   "id": "fa44673f",
   "metadata": {},
   "outputs": [],
   "source": [
    "df = df[(df[\"num_room\"] < 5) & (df[\"num_room\"] > 0)]"
   ]
  },
  {
   "cell_type": "code",
   "execution_count": 57,
   "id": "6b35053c",
   "metadata": {},
   "outputs": [
    {
     "data": {
      "text/plain": [
       "2.0    18640\n",
       "1.0     9843\n",
       "3.0     4646\n",
       "4.0      206\n",
       "Name: num_room, dtype: int64"
      ]
     },
     "execution_count": 57,
     "metadata": {},
     "output_type": "execute_result"
    }
   ],
   "source": [
    "df[\"num_room\"].value_counts()"
   ]
  },
  {
   "cell_type": "code",
   "execution_count": 58,
   "id": "804e52ad",
   "metadata": {},
   "outputs": [
    {
     "data": {
      "text/plain": [
       "(33335, 288)"
      ]
     },
     "execution_count": 58,
     "metadata": {},
     "output_type": "execute_result"
    }
   ],
   "source": [
    "df.shape"
   ]
  },
  {
   "cell_type": "code",
   "execution_count": 59,
   "id": "d8a25d7a",
   "metadata": {},
   "outputs": [],
   "source": [
    "columns.append('num_room')"
   ]
  },
  {
   "cell_type": "markdown",
   "id": "905eb7bd",
   "metadata": {},
   "source": [
    "## \"State of flat\" feature"
   ]
  },
  {
   "cell_type": "code",
   "execution_count": 60,
   "id": "dd2452b5",
   "metadata": {},
   "outputs": [
    {
     "data": {
      "text/plain": [
       "2.0     20101\n",
       "3.0      6498\n",
       "1.0      6390\n",
       "4.0       345\n",
       "33.0        1\n",
       "Name: state, dtype: int64"
      ]
     },
     "execution_count": 60,
     "metadata": {},
     "output_type": "execute_result"
    }
   ],
   "source": [
    "df['state'].value_counts()"
   ]
  },
  {
   "cell_type": "markdown",
   "id": "c5d839a9",
   "metadata": {},
   "source": [
    "#### Dropping all rows where number of room is less than 5"
   ]
  },
  {
   "cell_type": "code",
   "execution_count": 61,
   "id": "547bb4d2",
   "metadata": {},
   "outputs": [],
   "source": [
    "df = df[df.state <= 4]"
   ]
  },
  {
   "cell_type": "code",
   "execution_count": 62,
   "id": "0fb3ab81",
   "metadata": {},
   "outputs": [
    {
     "data": {
      "text/plain": [
       "(33334, 288)"
      ]
     },
     "execution_count": 62,
     "metadata": {},
     "output_type": "execute_result"
    }
   ],
   "source": [
    "df.shape"
   ]
  },
  {
   "cell_type": "code",
   "execution_count": 63,
   "id": "9032615a",
   "metadata": {},
   "outputs": [],
   "source": [
    "columns.append('state')"
   ]
  },
  {
   "cell_type": "markdown",
   "id": "ad7ff90b",
   "metadata": {},
   "source": [
    "## \"Population\" feature"
   ]
  },
  {
   "cell_type": "markdown",
   "id": "b94ccfdc",
   "metadata": {},
   "source": [
    "#### Finding outliers using IQR method"
   ]
  },
  {
   "cell_type": "code",
   "execution_count": 64,
   "id": "61fd6cd8",
   "metadata": {},
   "outputs": [],
   "source": [
    "def findOutliers(df, column):\n",
    "    q1 = df[column].quantile(0.25)\n",
    "    q3 = df[column].quantile(0.75)\n",
    "    iqr = q3 - q1\n",
    "    median = df[column].median()\n",
    "    \n",
    "    lower_bound = median - 1.5*iqr\n",
    "    upper_bound = median + 1.5*iqr\n",
    "    outliers = (df[column] < lower_bound) | (df[column] > upper_bound)\n",
    "    return outliers"
   ]
  },
  {
   "cell_type": "markdown",
   "id": "5bb097a3",
   "metadata": {},
   "source": [
    "#### Exploration of correlation with column \"work all\""
   ]
  },
  {
   "cell_type": "code",
   "execution_count": 65,
   "id": "b3de5b67",
   "metadata": {},
   "outputs": [],
   "source": [
    "corr_matrix = get_train_corr(df)"
   ]
  },
  {
   "cell_type": "code",
   "execution_count": 66,
   "id": "445b2b53",
   "metadata": {},
   "outputs": [
    {
     "data": {
      "text/plain": [
       "work_all                             1.000000\n",
       "work_male                            0.997634\n",
       "work_female                          0.997572\n",
       "raion_popul                          0.996833\n",
       "0_17_all                             0.960266\n",
       "0_17_male                            0.959638\n",
       "0_17_female                          0.959243\n",
       "young_all                            0.958215\n",
       "young_male                           0.957748\n",
       "0_13_all                             0.957216\n",
       "young_female                         0.956903\n",
       "0_13_male                            0.956823\n",
       "0_13_female                          0.955687\n",
       "7_14_male                            0.955323\n",
       "7_14_all                             0.954848\n",
       "children_school                      0.954848\n",
       "children_preschool                   0.954392\n",
       "0_6_all                              0.954392\n",
       "0_6_male                             0.953881\n",
       "0_6_female                           0.953302\n",
       "7_14_female                          0.951349\n",
       "ekder_female                         0.942955\n",
       "ekder_all                            0.934574\n",
       "ekder_male                           0.906247\n",
       "preschool_education_centers_raion    0.855364\n",
       "school_education_centers_raion       0.836757\n",
       "build_count_panel                    0.750890\n",
       "build_count_1971-1995                0.702139\n",
       "school_quota                         0.649725\n",
       "preschool_quota                      0.639389\n",
       "Name: work_all, dtype: float64"
      ]
     },
     "execution_count": 66,
     "metadata": {},
     "output_type": "execute_result"
    }
   ],
   "source": [
    "high_corr(corr_matrix, \"work_all\")"
   ]
  },
  {
   "cell_type": "markdown",
   "id": "643335ec",
   "metadata": {},
   "source": [
    "#### Conclusion: include \"work_all\" feature\n"
   ]
  },
  {
   "cell_type": "code",
   "execution_count": 67,
   "id": "2efc581c",
   "metadata": {},
   "outputs": [],
   "source": [
    "columns.append('work_all')"
   ]
  },
  {
   "cell_type": "code",
   "execution_count": 68,
   "id": "6015b335",
   "metadata": {
    "scrolled": true
   },
   "outputs": [
    {
     "data": {
      "text/plain": [
       "count     33334.000000\n",
       "mean      53012.989200\n",
       "std       38019.241045\n",
       "min        1633.000000\n",
       "25%       13996.000000\n",
       "50%       52030.000000\n",
       "75%       77062.000000\n",
       "max      161290.000000\n",
       "Name: work_all, dtype: float64"
      ]
     },
     "execution_count": 68,
     "metadata": {},
     "output_type": "execute_result"
    }
   ],
   "source": [
    "df.work_all.describe()"
   ]
  },
  {
   "cell_type": "markdown",
   "id": "202d86cd",
   "metadata": {},
   "source": [
    "#### Dropping outliers"
   ]
  },
  {
   "cell_type": "code",
   "execution_count": 69,
   "id": "43ec999d",
   "metadata": {},
   "outputs": [
    {
     "data": {
      "text/plain": [
       "161290    570\n",
       "Name: work_all, dtype: int64"
      ]
     },
     "execution_count": 69,
     "metadata": {},
     "output_type": "execute_result"
    }
   ],
   "source": [
    "df[findOutliers(df, 'work_all')]['work_all'].value_counts()"
   ]
  },
  {
   "cell_type": "code",
   "execution_count": 70,
   "id": "af9ed726",
   "metadata": {},
   "outputs": [],
   "source": [
    "outliers = findOutliers(df, 'work_all')"
   ]
  },
  {
   "cell_type": "code",
   "execution_count": 71,
   "id": "40ad3bc5",
   "metadata": {},
   "outputs": [
    {
     "data": {
      "text/html": [
       "<div>\n",
       "<style scoped>\n",
       "    .dataframe tbody tr th:only-of-type {\n",
       "        vertical-align: middle;\n",
       "    }\n",
       "\n",
       "    .dataframe tbody tr th {\n",
       "        vertical-align: top;\n",
       "    }\n",
       "\n",
       "    .dataframe thead th {\n",
       "        text-align: right;\n",
       "    }\n",
       "</style>\n",
       "<table border=\"1\" class=\"dataframe\">\n",
       "  <thead>\n",
       "    <tr style=\"text-align: right;\">\n",
       "      <th></th>\n",
       "      <th>timestamp</th>\n",
       "      <th>full_sq</th>\n",
       "      <th>life_sq</th>\n",
       "      <th>floor</th>\n",
       "      <th>max_floor</th>\n",
       "      <th>material</th>\n",
       "      <th>build_year</th>\n",
       "      <th>num_room</th>\n",
       "      <th>kitch_sq</th>\n",
       "      <th>state</th>\n",
       "      <th>...</th>\n",
       "      <th>cafe_count_5000_price_4000</th>\n",
       "      <th>cafe_count_5000_price_high</th>\n",
       "      <th>big_church_count_5000</th>\n",
       "      <th>church_count_5000</th>\n",
       "      <th>mosque_count_5000</th>\n",
       "      <th>leisure_count_5000</th>\n",
       "      <th>sport_count_5000</th>\n",
       "      <th>market_count_5000</th>\n",
       "      <th>price</th>\n",
       "      <th>year</th>\n",
       "    </tr>\n",
       "  </thead>\n",
       "  <tbody>\n",
       "    <tr>\n",
       "      <th>0</th>\n",
       "      <td>2011-08-20</td>\n",
       "      <td>43.00</td>\n",
       "      <td>27.0</td>\n",
       "      <td>4.0</td>\n",
       "      <td>12.0</td>\n",
       "      <td>1.0</td>\n",
       "      <td>1980.0</td>\n",
       "      <td>2.0</td>\n",
       "      <td>6.0</td>\n",
       "      <td>2.0</td>\n",
       "      <td>...</td>\n",
       "      <td>4</td>\n",
       "      <td>0</td>\n",
       "      <td>13</td>\n",
       "      <td>22</td>\n",
       "      <td>1</td>\n",
       "      <td>0</td>\n",
       "      <td>52</td>\n",
       "      <td>4</td>\n",
       "      <td>1652542.37</td>\n",
       "      <td>2011</td>\n",
       "    </tr>\n",
       "    <tr>\n",
       "      <th>1</th>\n",
       "      <td>2011-08-23</td>\n",
       "      <td>34.00</td>\n",
       "      <td>19.0</td>\n",
       "      <td>3.0</td>\n",
       "      <td>12.0</td>\n",
       "      <td>1.0</td>\n",
       "      <td>1980.0</td>\n",
       "      <td>2.0</td>\n",
       "      <td>6.0</td>\n",
       "      <td>2.0</td>\n",
       "      <td>...</td>\n",
       "      <td>3</td>\n",
       "      <td>0</td>\n",
       "      <td>15</td>\n",
       "      <td>29</td>\n",
       "      <td>1</td>\n",
       "      <td>10</td>\n",
       "      <td>66</td>\n",
       "      <td>14</td>\n",
       "      <td>1694915.25</td>\n",
       "      <td>2011</td>\n",
       "    </tr>\n",
       "    <tr>\n",
       "      <th>2</th>\n",
       "      <td>2011-08-27</td>\n",
       "      <td>43.00</td>\n",
       "      <td>29.0</td>\n",
       "      <td>2.0</td>\n",
       "      <td>12.0</td>\n",
       "      <td>1.0</td>\n",
       "      <td>1980.0</td>\n",
       "      <td>2.0</td>\n",
       "      <td>6.0</td>\n",
       "      <td>2.0</td>\n",
       "      <td>...</td>\n",
       "      <td>3</td>\n",
       "      <td>0</td>\n",
       "      <td>11</td>\n",
       "      <td>27</td>\n",
       "      <td>0</td>\n",
       "      <td>4</td>\n",
       "      <td>67</td>\n",
       "      <td>10</td>\n",
       "      <td>1610169.49</td>\n",
       "      <td>2011</td>\n",
       "    </tr>\n",
       "    <tr>\n",
       "      <th>3</th>\n",
       "      <td>2011-09-06</td>\n",
       "      <td>67.00</td>\n",
       "      <td>46.0</td>\n",
       "      <td>14.0</td>\n",
       "      <td>12.0</td>\n",
       "      <td>1.0</td>\n",
       "      <td>1980.0</td>\n",
       "      <td>2.0</td>\n",
       "      <td>6.0</td>\n",
       "      <td>2.0</td>\n",
       "      <td>...</td>\n",
       "      <td>14</td>\n",
       "      <td>1</td>\n",
       "      <td>53</td>\n",
       "      <td>78</td>\n",
       "      <td>1</td>\n",
       "      <td>20</td>\n",
       "      <td>113</td>\n",
       "      <td>17</td>\n",
       "      <td>2576443.94</td>\n",
       "      <td>2011</td>\n",
       "    </tr>\n",
       "    <tr>\n",
       "      <th>5</th>\n",
       "      <td>2011-09-09</td>\n",
       "      <td>44.00</td>\n",
       "      <td>44.0</td>\n",
       "      <td>5.0</td>\n",
       "      <td>12.0</td>\n",
       "      <td>1.0</td>\n",
       "      <td>1980.0</td>\n",
       "      <td>2.0</td>\n",
       "      <td>6.0</td>\n",
       "      <td>2.0</td>\n",
       "      <td>...</td>\n",
       "      <td>4</td>\n",
       "      <td>0</td>\n",
       "      <td>11</td>\n",
       "      <td>18</td>\n",
       "      <td>1</td>\n",
       "      <td>0</td>\n",
       "      <td>47</td>\n",
       "      <td>4</td>\n",
       "      <td>566251.42</td>\n",
       "      <td>2011</td>\n",
       "    </tr>\n",
       "    <tr>\n",
       "      <th>...</th>\n",
       "      <td>...</td>\n",
       "      <td>...</td>\n",
       "      <td>...</td>\n",
       "      <td>...</td>\n",
       "      <td>...</td>\n",
       "      <td>...</td>\n",
       "      <td>...</td>\n",
       "      <td>...</td>\n",
       "      <td>...</td>\n",
       "      <td>...</td>\n",
       "      <td>...</td>\n",
       "      <td>...</td>\n",
       "      <td>...</td>\n",
       "      <td>...</td>\n",
       "      <td>...</td>\n",
       "      <td>...</td>\n",
       "      <td>...</td>\n",
       "      <td>...</td>\n",
       "      <td>...</td>\n",
       "      <td>...</td>\n",
       "      <td>...</td>\n",
       "    </tr>\n",
       "    <tr>\n",
       "      <th>34122</th>\n",
       "      <td>2016-05-26</td>\n",
       "      <td>52.20</td>\n",
       "      <td>31.8</td>\n",
       "      <td>10.0</td>\n",
       "      <td>12.0</td>\n",
       "      <td>5.0</td>\n",
       "      <td>1973.0</td>\n",
       "      <td>2.0</td>\n",
       "      <td>9.1</td>\n",
       "      <td>2.0</td>\n",
       "      <td>...</td>\n",
       "      <td>1</td>\n",
       "      <td>1</td>\n",
       "      <td>8</td>\n",
       "      <td>39</td>\n",
       "      <td>2</td>\n",
       "      <td>3</td>\n",
       "      <td>75</td>\n",
       "      <td>12</td>\n",
       "      <td>1360569.65</td>\n",
       "      <td>2016</td>\n",
       "    </tr>\n",
       "    <tr>\n",
       "      <th>34123</th>\n",
       "      <td>2016-05-28</td>\n",
       "      <td>54.09</td>\n",
       "      <td>30.0</td>\n",
       "      <td>14.0</td>\n",
       "      <td>0.0</td>\n",
       "      <td>1.0</td>\n",
       "      <td>1980.0</td>\n",
       "      <td>2.0</td>\n",
       "      <td>0.0</td>\n",
       "      <td>2.0</td>\n",
       "      <td>...</td>\n",
       "      <td>1</td>\n",
       "      <td>0</td>\n",
       "      <td>0</td>\n",
       "      <td>10</td>\n",
       "      <td>0</td>\n",
       "      <td>0</td>\n",
       "      <td>0</td>\n",
       "      <td>0</td>\n",
       "      <td>1360569.65</td>\n",
       "      <td>2016</td>\n",
       "    </tr>\n",
       "    <tr>\n",
       "      <th>34124</th>\n",
       "      <td>2016-05-30</td>\n",
       "      <td>41.08</td>\n",
       "      <td>1.0</td>\n",
       "      <td>12.0</td>\n",
       "      <td>1.0</td>\n",
       "      <td>1.0</td>\n",
       "      <td>1.0</td>\n",
       "      <td>1.0</td>\n",
       "      <td>1.0</td>\n",
       "      <td>1.0</td>\n",
       "      <td>...</td>\n",
       "      <td>141</td>\n",
       "      <td>26</td>\n",
       "      <td>150</td>\n",
       "      <td>249</td>\n",
       "      <td>2</td>\n",
       "      <td>105</td>\n",
       "      <td>203</td>\n",
       "      <td>13</td>\n",
       "      <td>1360569.65</td>\n",
       "      <td>2016</td>\n",
       "    </tr>\n",
       "    <tr>\n",
       "      <th>34125</th>\n",
       "      <td>2016-05-30</td>\n",
       "      <td>34.80</td>\n",
       "      <td>19.8</td>\n",
       "      <td>8.0</td>\n",
       "      <td>9.0</td>\n",
       "      <td>5.0</td>\n",
       "      <td>1977.0</td>\n",
       "      <td>1.0</td>\n",
       "      <td>6.4</td>\n",
       "      <td>2.0</td>\n",
       "      <td>...</td>\n",
       "      <td>2</td>\n",
       "      <td>0</td>\n",
       "      <td>5</td>\n",
       "      <td>11</td>\n",
       "      <td>0</td>\n",
       "      <td>2</td>\n",
       "      <td>43</td>\n",
       "      <td>10</td>\n",
       "      <td>1360569.65</td>\n",
       "      <td>2016</td>\n",
       "    </tr>\n",
       "    <tr>\n",
       "      <th>34126</th>\n",
       "      <td>2016-05-30</td>\n",
       "      <td>63.00</td>\n",
       "      <td>43.8</td>\n",
       "      <td>5.0</td>\n",
       "      <td>5.0</td>\n",
       "      <td>1.0</td>\n",
       "      <td>1973.0</td>\n",
       "      <td>3.0</td>\n",
       "      <td>7.1</td>\n",
       "      <td>3.0</td>\n",
       "      <td>...</td>\n",
       "      <td>1</td>\n",
       "      <td>0</td>\n",
       "      <td>6</td>\n",
       "      <td>26</td>\n",
       "      <td>1</td>\n",
       "      <td>4</td>\n",
       "      <td>42</td>\n",
       "      <td>11</td>\n",
       "      <td>1360569.65</td>\n",
       "      <td>2016</td>\n",
       "    </tr>\n",
       "  </tbody>\n",
       "</table>\n",
       "<p>32764 rows × 288 columns</p>\n",
       "</div>"
      ],
      "text/plain": [
       "       timestamp  full_sq  life_sq  floor  max_floor  material  build_year  \\\n",
       "0     2011-08-20    43.00     27.0    4.0       12.0       1.0      1980.0   \n",
       "1     2011-08-23    34.00     19.0    3.0       12.0       1.0      1980.0   \n",
       "2     2011-08-27    43.00     29.0    2.0       12.0       1.0      1980.0   \n",
       "3     2011-09-06    67.00     46.0   14.0       12.0       1.0      1980.0   \n",
       "5     2011-09-09    44.00     44.0    5.0       12.0       1.0      1980.0   \n",
       "...          ...      ...      ...    ...        ...       ...         ...   \n",
       "34122 2016-05-26    52.20     31.8   10.0       12.0       5.0      1973.0   \n",
       "34123 2016-05-28    54.09     30.0   14.0        0.0       1.0      1980.0   \n",
       "34124 2016-05-30    41.08      1.0   12.0        1.0       1.0         1.0   \n",
       "34125 2016-05-30    34.80     19.8    8.0        9.0       5.0      1977.0   \n",
       "34126 2016-05-30    63.00     43.8    5.0        5.0       1.0      1973.0   \n",
       "\n",
       "       num_room  kitch_sq  state  ... cafe_count_5000_price_4000  \\\n",
       "0           2.0       6.0    2.0  ...                          4   \n",
       "1           2.0       6.0    2.0  ...                          3   \n",
       "2           2.0       6.0    2.0  ...                          3   \n",
       "3           2.0       6.0    2.0  ...                         14   \n",
       "5           2.0       6.0    2.0  ...                          4   \n",
       "...         ...       ...    ...  ...                        ...   \n",
       "34122       2.0       9.1    2.0  ...                          1   \n",
       "34123       2.0       0.0    2.0  ...                          1   \n",
       "34124       1.0       1.0    1.0  ...                        141   \n",
       "34125       1.0       6.4    2.0  ...                          2   \n",
       "34126       3.0       7.1    3.0  ...                          1   \n",
       "\n",
       "      cafe_count_5000_price_high  big_church_count_5000  church_count_5000  \\\n",
       "0                              0                     13                 22   \n",
       "1                              0                     15                 29   \n",
       "2                              0                     11                 27   \n",
       "3                              1                     53                 78   \n",
       "5                              0                     11                 18   \n",
       "...                          ...                    ...                ...   \n",
       "34122                          1                      8                 39   \n",
       "34123                          0                      0                 10   \n",
       "34124                         26                    150                249   \n",
       "34125                          0                      5                 11   \n",
       "34126                          0                      6                 26   \n",
       "\n",
       "       mosque_count_5000  leisure_count_5000  sport_count_5000  \\\n",
       "0                      1                   0                52   \n",
       "1                      1                  10                66   \n",
       "2                      0                   4                67   \n",
       "3                      1                  20               113   \n",
       "5                      1                   0                47   \n",
       "...                  ...                 ...               ...   \n",
       "34122                  2                   3                75   \n",
       "34123                  0                   0                 0   \n",
       "34124                  2                 105               203   \n",
       "34125                  0                   2                43   \n",
       "34126                  1                   4                42   \n",
       "\n",
       "       market_count_5000       price  year  \n",
       "0                      4  1652542.37  2011  \n",
       "1                     14  1694915.25  2011  \n",
       "2                     10  1610169.49  2011  \n",
       "3                     17  2576443.94  2011  \n",
       "5                      4   566251.42  2011  \n",
       "...                  ...         ...   ...  \n",
       "34122                 12  1360569.65  2016  \n",
       "34123                  0  1360569.65  2016  \n",
       "34124                 13  1360569.65  2016  \n",
       "34125                 10  1360569.65  2016  \n",
       "34126                 11  1360569.65  2016  \n",
       "\n",
       "[32764 rows x 288 columns]"
      ]
     },
     "execution_count": 71,
     "metadata": {},
     "output_type": "execute_result"
    }
   ],
   "source": [
    "df_test = df[~outliers]\n",
    "df_test"
   ]
  },
  {
   "cell_type": "code",
   "execution_count": 72,
   "id": "114116f0",
   "metadata": {},
   "outputs": [
    {
     "data": {
      "text/plain": [
       "count     32764.000000\n",
       "mean      51129.278537\n",
       "std       35540.021374\n",
       "min        1633.000000\n",
       "25%       13996.000000\n",
       "50%       51445.000000\n",
       "75%       75334.000000\n",
       "max      140182.000000\n",
       "Name: work_all, dtype: float64"
      ]
     },
     "execution_count": 72,
     "metadata": {},
     "output_type": "execute_result"
    }
   ],
   "source": [
    "df_test.work_all.describe()"
   ]
  },
  {
   "cell_type": "markdown",
   "id": "688b620c",
   "metadata": {},
   "source": [
    "## \"Distance\" feature"
   ]
  },
  {
   "cell_type": "code",
   "execution_count": 73,
   "id": "bf210ffc",
   "metadata": {},
   "outputs": [
    {
     "data": {
      "text/plain": [
       "Index(['kindergarten_km', 'school_km', 'park_km', 'green_zone_km',\n",
       "       'industrial_km', 'water_treatment_km', 'cemetery_km', 'incineration_km',\n",
       "       'railroad_station_walk_km', 'railroad_station_avto_km',\n",
       "       'public_transport_station_km', 'water_km', 'mkad_km', 'ttk_km',\n",
       "       'sadovoe_km', 'bulvar_ring_km', 'kremlin_km', 'big_road1_km',\n",
       "       'big_road2_km', 'railroad_km', 'zd_vokzaly_avto_km',\n",
       "       'bus_terminal_avto_km', 'oil_chemistry_km', 'nuclear_reactor_km',\n",
       "       'radiation_km', 'power_transmission_line_km', 'thermal_power_plant_km',\n",
       "       'ts_km', 'big_market_km', 'market_shop_km', 'fitness_km',\n",
       "       'swim_pool_km', 'ice_rink_km', 'stadium_km', 'basketball_km',\n",
       "       'hospice_morgue_km', 'detention_facility_km', 'public_healthcare_km',\n",
       "       'university_km', 'workplaces_km', 'shopping_centers_km', 'office_km',\n",
       "       'additional_education_km', 'preschool_km', 'big_church_km',\n",
       "       'church_synagogue_km', 'mosque_km', 'theater_km', 'museum_km',\n",
       "       'exhibition_km', 'catering_km'],\n",
       "      dtype='object')"
      ]
     },
     "execution_count": 73,
     "metadata": {},
     "output_type": "execute_result"
    }
   ],
   "source": [
    "df.columns[df.columns.str.contains('km$')]"
   ]
  },
  {
   "cell_type": "code",
   "execution_count": 74,
   "id": "176b065d",
   "metadata": {},
   "outputs": [],
   "source": [
    "distance_columns = ['kindergarten_km', 'school_km', 'park_km', 'green_zone_km',\n",
    "       'industrial_km', 'water_treatment_km', 'cemetery_km', 'incineration_km', \n",
    "       'water_km', 'oil_chemistry_km', 'nuclear_reactor_km',\n",
    "       'radiation_km', 'power_transmission_line_km', 'thermal_power_plant_km',\n",
    "       'ts_km', 'big_market_km', 'market_shop_km', 'fitness_km',\n",
    "       'swim_pool_km', 'ice_rink_km', 'stadium_km', 'basketball_km',\n",
    "       'hospice_morgue_km', 'detention_facility_km', 'public_healthcare_km',\n",
    "       'university_km', 'workplaces_km', 'shopping_centers_km', 'office_km',\n",
    "       'additional_education_km', 'preschool_km', 'big_church_km',\n",
    "       'church_synagogue_km', 'mosque_km', 'theater_km', 'museum_km',\n",
    "       'exhibition_km', 'catering_km']"
   ]
  },
  {
   "cell_type": "markdown",
   "id": "de031b07",
   "metadata": {},
   "source": [
    "#### Choosing from distance columns all columns which correlation is above mean value"
   ]
  },
  {
   "cell_type": "code",
   "execution_count": 75,
   "id": "e369dcdf",
   "metadata": {},
   "outputs": [],
   "source": [
    "distance_columns = corr_matrix.price[distance_columns][abs(corr_matrix.price[distance_columns]) > \n",
    "                                    abs(corr_matrix.price).mean()].index"
   ]
  },
  {
   "cell_type": "markdown",
   "id": "1453c9a4",
   "metadata": {},
   "source": [
    "#### Grouping all columns into one column \"distance_km\""
   ]
  },
  {
   "cell_type": "code",
   "execution_count": 76,
   "id": "2c8dd0c1",
   "metadata": {},
   "outputs": [],
   "source": [
    "group_cols_by_mean(df, distance_columns, \"distance_km\")"
   ]
  },
  {
   "cell_type": "code",
   "execution_count": 77,
   "id": "45fcc099",
   "metadata": {},
   "outputs": [],
   "source": [
    "columns.append(\"distance_km\")"
   ]
  },
  {
   "cell_type": "markdown",
   "id": "70663820",
   "metadata": {},
   "source": [
    "#### Dropping outliers"
   ]
  },
  {
   "cell_type": "code",
   "execution_count": 78,
   "id": "6c8b68f3",
   "metadata": {},
   "outputs": [
    {
     "data": {
      "text/plain": [
       "count    33334.000000\n",
       "mean         5.323879\n",
       "std          3.837941\n",
       "min          1.939995\n",
       "25%          2.878165\n",
       "50%          3.838348\n",
       "75%          6.881090\n",
       "max         47.721564\n",
       "Name: distance_km, dtype: float64"
      ]
     },
     "execution_count": 78,
     "metadata": {},
     "output_type": "execute_result"
    }
   ],
   "source": [
    "df['distance_km'].describe()"
   ]
  },
  {
   "cell_type": "code",
   "execution_count": 79,
   "id": "96ee5ea5",
   "metadata": {},
   "outputs": [
    {
     "data": {
      "text/plain": [
       "(33334,)"
      ]
     },
     "execution_count": 79,
     "metadata": {},
     "output_type": "execute_result"
    }
   ],
   "source": [
    "outliers = findOutliers(df, 'distance_km')\n",
    "outliers.shape"
   ]
  },
  {
   "cell_type": "code",
   "execution_count": 80,
   "id": "958d5629",
   "metadata": {},
   "outputs": [
    {
     "data": {
      "text/plain": [
       "count    3163.000000\n",
       "mean       14.011979\n",
       "std         5.617914\n",
       "min         9.876663\n",
       "25%        11.030214\n",
       "50%        11.793066\n",
       "75%        13.056448\n",
       "max        47.721564\n",
       "Name: distance_km, dtype: float64"
      ]
     },
     "execution_count": 80,
     "metadata": {},
     "output_type": "execute_result"
    }
   ],
   "source": [
    "df[outliers]['distance_km'].describe()"
   ]
  },
  {
   "cell_type": "markdown",
   "id": "d51315f9",
   "metadata": {},
   "source": [
    "#### We have too many outliers. Let's reduce their number"
   ]
  },
  {
   "cell_type": "code",
   "execution_count": 81,
   "id": "15194796",
   "metadata": {},
   "outputs": [
    {
     "data": {
      "text/html": [
       "<div>\n",
       "<style scoped>\n",
       "    .dataframe tbody tr th:only-of-type {\n",
       "        vertical-align: middle;\n",
       "    }\n",
       "\n",
       "    .dataframe tbody tr th {\n",
       "        vertical-align: top;\n",
       "    }\n",
       "\n",
       "    .dataframe thead th {\n",
       "        text-align: right;\n",
       "    }\n",
       "</style>\n",
       "<table border=\"1\" class=\"dataframe\">\n",
       "  <thead>\n",
       "    <tr style=\"text-align: right;\">\n",
       "      <th></th>\n",
       "      <th>timestamp</th>\n",
       "      <th>full_sq</th>\n",
       "      <th>life_sq</th>\n",
       "      <th>floor</th>\n",
       "      <th>max_floor</th>\n",
       "      <th>material</th>\n",
       "      <th>build_year</th>\n",
       "      <th>num_room</th>\n",
       "      <th>kitch_sq</th>\n",
       "      <th>state</th>\n",
       "      <th>...</th>\n",
       "      <th>cafe_count_5000_price_high</th>\n",
       "      <th>big_church_count_5000</th>\n",
       "      <th>church_count_5000</th>\n",
       "      <th>mosque_count_5000</th>\n",
       "      <th>leisure_count_5000</th>\n",
       "      <th>sport_count_5000</th>\n",
       "      <th>market_count_5000</th>\n",
       "      <th>price</th>\n",
       "      <th>year</th>\n",
       "      <th>distance_km</th>\n",
       "    </tr>\n",
       "  </thead>\n",
       "  <tbody>\n",
       "    <tr>\n",
       "      <th>2212</th>\n",
       "      <td>2012-06-21</td>\n",
       "      <td>81.0</td>\n",
       "      <td>26.0</td>\n",
       "      <td>3.0</td>\n",
       "      <td>12.0</td>\n",
       "      <td>1.0</td>\n",
       "      <td>1980.0</td>\n",
       "      <td>2.0</td>\n",
       "      <td>6.0</td>\n",
       "      <td>2.0</td>\n",
       "      <td>...</td>\n",
       "      <td>0</td>\n",
       "      <td>0</td>\n",
       "      <td>3</td>\n",
       "      <td>0</td>\n",
       "      <td>0</td>\n",
       "      <td>0</td>\n",
       "      <td>0</td>\n",
       "      <td>683060.11</td>\n",
       "      <td>2012</td>\n",
       "      <td>18.954827</td>\n",
       "    </tr>\n",
       "    <tr>\n",
       "      <th>2451</th>\n",
       "      <td>2012-07-16</td>\n",
       "      <td>51.0</td>\n",
       "      <td>30.0</td>\n",
       "      <td>3.0</td>\n",
       "      <td>12.0</td>\n",
       "      <td>1.0</td>\n",
       "      <td>1980.0</td>\n",
       "      <td>2.0</td>\n",
       "      <td>6.0</td>\n",
       "      <td>2.0</td>\n",
       "      <td>...</td>\n",
       "      <td>0</td>\n",
       "      <td>0</td>\n",
       "      <td>6</td>\n",
       "      <td>0</td>\n",
       "      <td>0</td>\n",
       "      <td>3</td>\n",
       "      <td>2</td>\n",
       "      <td>1516793.07</td>\n",
       "      <td>2012</td>\n",
       "      <td>16.893918</td>\n",
       "    </tr>\n",
       "    <tr>\n",
       "      <th>2469</th>\n",
       "      <td>2012-07-18</td>\n",
       "      <td>41.0</td>\n",
       "      <td>28.0</td>\n",
       "      <td>2.0</td>\n",
       "      <td>12.0</td>\n",
       "      <td>1.0</td>\n",
       "      <td>1980.0</td>\n",
       "      <td>2.0</td>\n",
       "      <td>6.0</td>\n",
       "      <td>2.0</td>\n",
       "      <td>...</td>\n",
       "      <td>0</td>\n",
       "      <td>0</td>\n",
       "      <td>3</td>\n",
       "      <td>0</td>\n",
       "      <td>0</td>\n",
       "      <td>0</td>\n",
       "      <td>0</td>\n",
       "      <td>893824.49</td>\n",
       "      <td>2012</td>\n",
       "      <td>19.033284</td>\n",
       "    </tr>\n",
       "    <tr>\n",
       "      <th>2946</th>\n",
       "      <td>2012-08-31</td>\n",
       "      <td>46.0</td>\n",
       "      <td>30.0</td>\n",
       "      <td>4.0</td>\n",
       "      <td>12.0</td>\n",
       "      <td>1.0</td>\n",
       "      <td>1980.0</td>\n",
       "      <td>2.0</td>\n",
       "      <td>6.0</td>\n",
       "      <td>2.0</td>\n",
       "      <td>...</td>\n",
       "      <td>0</td>\n",
       "      <td>0</td>\n",
       "      <td>4</td>\n",
       "      <td>0</td>\n",
       "      <td>0</td>\n",
       "      <td>0</td>\n",
       "      <td>1</td>\n",
       "      <td>267522.74</td>\n",
       "      <td>2012</td>\n",
       "      <td>18.831906</td>\n",
       "    </tr>\n",
       "    <tr>\n",
       "      <th>3081</th>\n",
       "      <td>2012-09-12</td>\n",
       "      <td>64.0</td>\n",
       "      <td>28.0</td>\n",
       "      <td>6.0</td>\n",
       "      <td>12.0</td>\n",
       "      <td>1.0</td>\n",
       "      <td>1980.0</td>\n",
       "      <td>2.0</td>\n",
       "      <td>6.0</td>\n",
       "      <td>2.0</td>\n",
       "      <td>...</td>\n",
       "      <td>0</td>\n",
       "      <td>0</td>\n",
       "      <td>2</td>\n",
       "      <td>0</td>\n",
       "      <td>0</td>\n",
       "      <td>0</td>\n",
       "      <td>0</td>\n",
       "      <td>801924.62</td>\n",
       "      <td>2012</td>\n",
       "      <td>19.741015</td>\n",
       "    </tr>\n",
       "    <tr>\n",
       "      <th>...</th>\n",
       "      <td>...</td>\n",
       "      <td>...</td>\n",
       "      <td>...</td>\n",
       "      <td>...</td>\n",
       "      <td>...</td>\n",
       "      <td>...</td>\n",
       "      <td>...</td>\n",
       "      <td>...</td>\n",
       "      <td>...</td>\n",
       "      <td>...</td>\n",
       "      <td>...</td>\n",
       "      <td>...</td>\n",
       "      <td>...</td>\n",
       "      <td>...</td>\n",
       "      <td>...</td>\n",
       "      <td>...</td>\n",
       "      <td>...</td>\n",
       "      <td>...</td>\n",
       "      <td>...</td>\n",
       "      <td>...</td>\n",
       "      <td>...</td>\n",
       "    </tr>\n",
       "    <tr>\n",
       "      <th>34087</th>\n",
       "      <td>2016-05-18</td>\n",
       "      <td>39.9</td>\n",
       "      <td>30.0</td>\n",
       "      <td>8.0</td>\n",
       "      <td>1.0</td>\n",
       "      <td>1.0</td>\n",
       "      <td>1.0</td>\n",
       "      <td>1.0</td>\n",
       "      <td>1.0</td>\n",
       "      <td>1.0</td>\n",
       "      <td>...</td>\n",
       "      <td>0</td>\n",
       "      <td>0</td>\n",
       "      <td>7</td>\n",
       "      <td>0</td>\n",
       "      <td>0</td>\n",
       "      <td>3</td>\n",
       "      <td>2</td>\n",
       "      <td>1360569.65</td>\n",
       "      <td>2016</td>\n",
       "      <td>14.943920</td>\n",
       "    </tr>\n",
       "    <tr>\n",
       "      <th>34101</th>\n",
       "      <td>2016-05-21</td>\n",
       "      <td>57.9</td>\n",
       "      <td>36.9</td>\n",
       "      <td>2.0</td>\n",
       "      <td>3.0</td>\n",
       "      <td>1.0</td>\n",
       "      <td>1953.0</td>\n",
       "      <td>3.0</td>\n",
       "      <td>7.8</td>\n",
       "      <td>3.0</td>\n",
       "      <td>...</td>\n",
       "      <td>0</td>\n",
       "      <td>0</td>\n",
       "      <td>2</td>\n",
       "      <td>0</td>\n",
       "      <td>0</td>\n",
       "      <td>0</td>\n",
       "      <td>0</td>\n",
       "      <td>1360569.65</td>\n",
       "      <td>2016</td>\n",
       "      <td>19.803328</td>\n",
       "    </tr>\n",
       "    <tr>\n",
       "      <th>34103</th>\n",
       "      <td>2016-05-21</td>\n",
       "      <td>36.5</td>\n",
       "      <td>30.0</td>\n",
       "      <td>13.0</td>\n",
       "      <td>17.0</td>\n",
       "      <td>1.0</td>\n",
       "      <td>1980.0</td>\n",
       "      <td>1.0</td>\n",
       "      <td>0.0</td>\n",
       "      <td>2.0</td>\n",
       "      <td>...</td>\n",
       "      <td>0</td>\n",
       "      <td>0</td>\n",
       "      <td>8</td>\n",
       "      <td>0</td>\n",
       "      <td>0</td>\n",
       "      <td>3</td>\n",
       "      <td>2</td>\n",
       "      <td>1360569.65</td>\n",
       "      <td>2016</td>\n",
       "      <td>15.640672</td>\n",
       "    </tr>\n",
       "    <tr>\n",
       "      <th>34106</th>\n",
       "      <td>2016-05-23</td>\n",
       "      <td>36.0</td>\n",
       "      <td>36.0</td>\n",
       "      <td>10.0</td>\n",
       "      <td>17.0</td>\n",
       "      <td>1.0</td>\n",
       "      <td>2015.0</td>\n",
       "      <td>1.0</td>\n",
       "      <td>11.0</td>\n",
       "      <td>1.0</td>\n",
       "      <td>...</td>\n",
       "      <td>0</td>\n",
       "      <td>0</td>\n",
       "      <td>8</td>\n",
       "      <td>0</td>\n",
       "      <td>0</td>\n",
       "      <td>3</td>\n",
       "      <td>2</td>\n",
       "      <td>1360569.65</td>\n",
       "      <td>2016</td>\n",
       "      <td>15.640672</td>\n",
       "    </tr>\n",
       "    <tr>\n",
       "      <th>34110</th>\n",
       "      <td>2016-05-23</td>\n",
       "      <td>39.9</td>\n",
       "      <td>30.0</td>\n",
       "      <td>11.0</td>\n",
       "      <td>16.0</td>\n",
       "      <td>1.0</td>\n",
       "      <td>2016.0</td>\n",
       "      <td>1.0</td>\n",
       "      <td>1.0</td>\n",
       "      <td>1.0</td>\n",
       "      <td>...</td>\n",
       "      <td>0</td>\n",
       "      <td>0</td>\n",
       "      <td>7</td>\n",
       "      <td>0</td>\n",
       "      <td>0</td>\n",
       "      <td>3</td>\n",
       "      <td>2</td>\n",
       "      <td>1360569.65</td>\n",
       "      <td>2016</td>\n",
       "      <td>14.943920</td>\n",
       "    </tr>\n",
       "  </tbody>\n",
       "</table>\n",
       "<p>725 rows × 257 columns</p>\n",
       "</div>"
      ],
      "text/plain": [
       "       timestamp  full_sq  life_sq  floor  max_floor  material  build_year  \\\n",
       "2212  2012-06-21     81.0     26.0    3.0       12.0       1.0      1980.0   \n",
       "2451  2012-07-16     51.0     30.0    3.0       12.0       1.0      1980.0   \n",
       "2469  2012-07-18     41.0     28.0    2.0       12.0       1.0      1980.0   \n",
       "2946  2012-08-31     46.0     30.0    4.0       12.0       1.0      1980.0   \n",
       "3081  2012-09-12     64.0     28.0    6.0       12.0       1.0      1980.0   \n",
       "...          ...      ...      ...    ...        ...       ...         ...   \n",
       "34087 2016-05-18     39.9     30.0    8.0        1.0       1.0         1.0   \n",
       "34101 2016-05-21     57.9     36.9    2.0        3.0       1.0      1953.0   \n",
       "34103 2016-05-21     36.5     30.0   13.0       17.0       1.0      1980.0   \n",
       "34106 2016-05-23     36.0     36.0   10.0       17.0       1.0      2015.0   \n",
       "34110 2016-05-23     39.9     30.0   11.0       16.0       1.0      2016.0   \n",
       "\n",
       "       num_room  kitch_sq  state  ... cafe_count_5000_price_high  \\\n",
       "2212        2.0       6.0    2.0  ...                          0   \n",
       "2451        2.0       6.0    2.0  ...                          0   \n",
       "2469        2.0       6.0    2.0  ...                          0   \n",
       "2946        2.0       6.0    2.0  ...                          0   \n",
       "3081        2.0       6.0    2.0  ...                          0   \n",
       "...         ...       ...    ...  ...                        ...   \n",
       "34087       1.0       1.0    1.0  ...                          0   \n",
       "34101       3.0       7.8    3.0  ...                          0   \n",
       "34103       1.0       0.0    2.0  ...                          0   \n",
       "34106       1.0      11.0    1.0  ...                          0   \n",
       "34110       1.0       1.0    1.0  ...                          0   \n",
       "\n",
       "      big_church_count_5000  church_count_5000  mosque_count_5000  \\\n",
       "2212                      0                  3                  0   \n",
       "2451                      0                  6                  0   \n",
       "2469                      0                  3                  0   \n",
       "2946                      0                  4                  0   \n",
       "3081                      0                  2                  0   \n",
       "...                     ...                ...                ...   \n",
       "34087                     0                  7                  0   \n",
       "34101                     0                  2                  0   \n",
       "34103                     0                  8                  0   \n",
       "34106                     0                  8                  0   \n",
       "34110                     0                  7                  0   \n",
       "\n",
       "       leisure_count_5000  sport_count_5000  market_count_5000       price  \\\n",
       "2212                    0                 0                  0   683060.11   \n",
       "2451                    0                 3                  2  1516793.07   \n",
       "2469                    0                 0                  0   893824.49   \n",
       "2946                    0                 0                  1   267522.74   \n",
       "3081                    0                 0                  0   801924.62   \n",
       "...                   ...               ...                ...         ...   \n",
       "34087                   0                 3                  2  1360569.65   \n",
       "34101                   0                 0                  0  1360569.65   \n",
       "34103                   0                 3                  2  1360569.65   \n",
       "34106                   0                 3                  2  1360569.65   \n",
       "34110                   0                 3                  2  1360569.65   \n",
       "\n",
       "       year  distance_km  \n",
       "2212   2012    18.954827  \n",
       "2451   2012    16.893918  \n",
       "2469   2012    19.033284  \n",
       "2946   2012    18.831906  \n",
       "3081   2012    19.741015  \n",
       "...     ...          ...  \n",
       "34087  2016    14.943920  \n",
       "34101  2016    19.803328  \n",
       "34103  2016    15.640672  \n",
       "34106  2016    15.640672  \n",
       "34110  2016    14.943920  \n",
       "\n",
       "[725 rows x 257 columns]"
      ]
     },
     "execution_count": 81,
     "metadata": {},
     "output_type": "execute_result"
    }
   ],
   "source": [
    "df[outliers][df[outliers]['distance_km'] > 14]"
   ]
  },
  {
   "cell_type": "markdown",
   "id": "4cb10180",
   "metadata": {},
   "source": [
    "#### Dropping outliers"
   ]
  },
  {
   "cell_type": "code",
   "execution_count": 82,
   "id": "53a308e9",
   "metadata": {},
   "outputs": [],
   "source": [
    "df = df[df.distance_km <= 14] "
   ]
  },
  {
   "cell_type": "code",
   "execution_count": 83,
   "id": "12b5da9e",
   "metadata": {
    "scrolled": true
   },
   "outputs": [
    {
     "data": {
      "text/plain": [
       "(32609, 257)"
      ]
     },
     "execution_count": 83,
     "metadata": {},
     "output_type": "execute_result"
    }
   ],
   "source": [
    "df.shape"
   ]
  },
  {
   "cell_type": "markdown",
   "id": "450b7fee",
   "metadata": {},
   "source": [
    "## \"Center\" and \"mkad distance\" features"
   ]
  },
  {
   "cell_type": "code",
   "execution_count": 84,
   "id": "7317119c",
   "metadata": {},
   "outputs": [],
   "source": [
    "columns.append('kremlin_km')"
   ]
  },
  {
   "cell_type": "code",
   "execution_count": 85,
   "id": "9b02d8ac",
   "metadata": {},
   "outputs": [],
   "source": [
    "columns.append('mkad_km')"
   ]
  },
  {
   "cell_type": "code",
   "execution_count": 86,
   "id": "17465ed2",
   "metadata": {},
   "outputs": [
    {
     "data": {
      "text/plain": [
       "count    32609.000000\n",
       "mean         5.848351\n",
       "std          4.142769\n",
       "min          0.013626\n",
       "25%          2.580435\n",
       "50%          5.276637\n",
       "75%          8.134873\n",
       "max         21.087905\n",
       "Name: mkad_km, dtype: float64"
      ]
     },
     "execution_count": 86,
     "metadata": {},
     "output_type": "execute_result"
    }
   ],
   "source": [
    "df.mkad_km.describe()"
   ]
  },
  {
   "cell_type": "code",
   "execution_count": 87,
   "id": "8711ac7e",
   "metadata": {},
   "outputs": [
    {
     "data": {
      "text/plain": [
       "count    32609.000000\n",
       "mean        15.885074\n",
       "std          7.504655\n",
       "min          0.072897\n",
       "25%         10.657392\n",
       "50%         15.139787\n",
       "75%         20.665120\n",
       "max         39.255114\n",
       "Name: kremlin_km, dtype: float64"
      ]
     },
     "execution_count": 87,
     "metadata": {},
     "output_type": "execute_result"
    }
   ],
   "source": [
    "df.kremlin_km.describe()"
   ]
  },
  {
   "cell_type": "markdown",
   "source": [
    "## Final dataset"
   ],
   "metadata": {
    "collapsed": false
   }
  },
  {
   "cell_type": "code",
   "execution_count": 95,
   "id": "745410d3",
   "metadata": {},
   "outputs": [],
   "source": [
    "columns.append('price')"
   ]
  },
  {
   "cell_type": "code",
   "execution_count": 96,
   "id": "d341a199",
   "metadata": {},
   "outputs": [],
   "source": [
    "heatmap_df = df[columns]"
   ]
  },
  {
   "cell_type": "code",
   "execution_count": 97,
   "id": "a441b874",
   "metadata": {},
   "outputs": [
    {
     "data": {
      "text/plain": [
       "<AxesSubplot:>"
      ]
     },
     "execution_count": 97,
     "metadata": {},
     "output_type": "execute_result"
    },
    {
     "data": {
      "image/png": "[encoded data removed]",
      "text/plain": [
       "<Figure size 2000x800 with 2 Axes>"
      ]
     },
     "metadata": {},
     "output_type": "display_data"
    }
   ],
   "source": [
    "f, ax = plt.subplots(figsize=(20,8))\n",
    "\n",
    "sns.heatmap(heatmap_df.corr(), annot=True, cmap='coolwarm')"
   ]
  },
  {
   "cell_type": "markdown",
   "id": "838af240",
   "metadata": {},
   "source": [
    "## Preparing test and train datasets"
   ]
  },
  {
   "cell_type": "code",
   "execution_count": 98,
   "id": "3a2236c0",
   "metadata": {},
   "outputs": [],
   "source": [
    "columns.append('timestamp')"
   ]
  },
  {
   "cell_type": "code",
   "execution_count": 99,
   "id": "a3b63198",
   "metadata": {},
   "outputs": [],
   "source": [
    "def getTestDataset(df):\n",
    "    test = df[df.timestamp >= '2015-07-01']\n",
    "    test.drop('timestamp', axis=1, inplace=True) \n",
    "    return test "
   ]
  },
  {
   "cell_type": "code",
   "execution_count": 100,
   "id": "e73d378d",
   "metadata": {},
   "outputs": [],
   "source": [
    "def getTrainDataset(df):\n",
    "    train = df[df.timestamp < '2015-07-01']\n",
    "    train.drop('timestamp', axis=1, inplace=True) \n",
    "    return train"
   ]
  },
  {
   "cell_type": "code",
   "execution_count": 101,
   "id": "ec1b6e12",
   "metadata": {
    "scrolled": true
   },
   "outputs": [
    {
     "name": "stderr",
     "output_type": "stream",
     "text": [
      "C:\\Users\\User\\AppData\\Local\\Temp\\ipykernel_13688\\3553774952.py:3: SettingWithCopyWarning: \n",
      "A value is trying to be set on a copy of a slice from a DataFrame\n",
      "\n",
      "See the caveats in the documentation: https://pandas.pydata.org/pandas-docs/stable/user_guide/indexing.html#returning-a-view-versus-a-copy\n",
      "  test.drop('timestamp', axis=1, inplace=True)\n"
     ]
    }
   ],
   "source": [
    "test = getTestDataset(df[columns])"
   ]
  },
  {
   "cell_type": "code",
   "execution_count": 102,
   "id": "aa908c5b",
   "metadata": {},
   "outputs": [
    {
     "name": "stderr",
     "output_type": "stream",
     "text": [
      "C:\\Users\\User\\AppData\\Local\\Temp\\ipykernel_13688\\2975833616.py:3: SettingWithCopyWarning: \n",
      "A value is trying to be set on a copy of a slice from a DataFrame\n",
      "\n",
      "See the caveats in the documentation: https://pandas.pydata.org/pandas-docs/stable/user_guide/indexing.html#returning-a-view-versus-a-copy\n",
      "  train.drop('timestamp', axis=1, inplace=True)\n"
     ]
    }
   ],
   "source": [
    "train = getTrainDataset(df[columns])"
   ]
  },
  {
   "cell_type": "markdown",
   "id": "d83d385c",
   "metadata": {},
   "source": [
    "# Model training"
   ]
  },
  {
   "cell_type": "markdown",
   "source": [
    "###Data standartization"
   ],
   "metadata": {
    "collapsed": false
   }
  },
  {
   "cell_type": "code",
   "execution_count": 103,
   "id": "36bcaef4",
   "metadata": {},
   "outputs": [],
   "source": [
    "from sklearn.preprocessing import StandardScaler\n",
    "import numpy as np"
   ]
  },
  {
   "cell_type": "code",
   "execution_count": 104,
   "id": "61802c65",
   "metadata": {},
   "outputs": [],
   "source": [
    "y_train = train['price'].copy()\n",
    "x_train = train.drop('price', axis=1)"
   ]
  },
  {
   "cell_type": "code",
   "execution_count": 105,
   "id": "da28325e",
   "metadata": {},
   "outputs": [],
   "source": [
    "y_test = test['price'].copy()\n",
    "x_test = test.drop('price', axis=1)"
   ]
  },
  {
   "cell_type": "code",
   "execution_count": 106,
   "id": "c900ce87",
   "metadata": {},
   "outputs": [],
   "source": [
    "scaler = StandardScaler()"
   ]
  },
  {
   "cell_type": "code",
   "execution_count": 107,
   "id": "79c572a6",
   "metadata": {},
   "outputs": [],
   "source": [
    "x_train = pd.DataFrame(scaler.fit_transform(x_train), columns=x_train.columns)"
   ]
  },
  {
   "cell_type": "code",
   "execution_count": 108,
   "id": "2c8d25f5",
   "metadata": {},
   "outputs": [],
   "source": [
    "x_test = pd.DataFrame(scaler.fit_transform(x_test), columns=x_test.columns)"
   ]
  },
  {
   "cell_type": "markdown",
   "source": [
    "### Target logarithm"
   ],
   "metadata": {
    "collapsed": false
   }
  },
  {
   "cell_type": "code",
   "execution_count": 109,
   "id": "c54f2930",
   "metadata": {},
   "outputs": [],
   "source": [
    "y_train = np.log1p(y_train)"
   ]
  },
  {
   "cell_type": "code",
   "execution_count": 110,
   "id": "efc0c008",
   "metadata": {},
   "outputs": [],
   "source": [
    "y_test = np.log1p(y_test)"
   ]
  },
  {
   "cell_type": "markdown",
   "id": "bbc286ab",
   "metadata": {},
   "source": [
    "## Training models with numeric columns"
   ]
  },
  {
   "cell_type": "markdown",
   "id": "874557ab",
   "metadata": {},
   "source": [
    "### Linear regression"
   ]
  },
  {
   "cell_type": "code",
   "execution_count": 111,
   "id": "f323c8c3",
   "metadata": {},
   "outputs": [],
   "source": [
    "from sklearn.linear_model import LinearRegression\n",
    "from sklearn.metrics import mean_squared_error"
   ]
  },
  {
   "cell_type": "code",
   "execution_count": 112,
   "id": "9d482bfd",
   "metadata": {},
   "outputs": [],
   "source": [
    "reg = LinearRegression()"
   ]
  },
  {
   "cell_type": "code",
   "execution_count": 113,
   "id": "c10e2ccd",
   "metadata": {},
   "outputs": [
    {
     "data": {
      "text/plain": [
       "LinearRegression()"
      ]
     },
     "execution_count": 113,
     "metadata": {},
     "output_type": "execute_result"
    }
   ],
   "source": [
    "reg.fit(x_train, y_train)"
   ]
  },
  {
   "cell_type": "code",
   "execution_count": 114,
   "id": "b80da15b",
   "metadata": {},
   "outputs": [],
   "source": [
    "y_pred = reg.predict(x_test)"
   ]
  },
  {
   "cell_type": "code",
   "execution_count": 115,
   "id": "564f29d3",
   "metadata": {},
   "outputs": [],
   "source": [
    "mse = mean_squared_error(y_test, y_pred)"
   ]
  },
  {
   "cell_type": "code",
   "execution_count": 116,
   "id": "007e31ad",
   "metadata": {},
   "outputs": [
    {
     "name": "stdout",
     "output_type": "stream",
     "text": [
      "Mean Squared Error: 0.04519704781731377\n"
     ]
    }
   ],
   "source": [
    "print('Mean Squared Error:', mse)"
   ]
  },
  {
   "cell_type": "code",
   "execution_count": 117,
   "id": "81b0b69c",
   "metadata": {},
   "outputs": [],
   "source": [
    "score = reg.score(x_test, y_test)"
   ]
  },
  {
   "cell_type": "code",
   "execution_count": 118,
   "id": "9d7de677",
   "metadata": {},
   "outputs": [
    {
     "name": "stdout",
     "output_type": "stream",
     "text": [
      "Score: -124.97530068654345\n"
     ]
    }
   ],
   "source": [
    "print('Score:', score)"
   ]
  },
  {
   "cell_type": "markdown",
   "id": "7524f506",
   "metadata": {},
   "source": [
    "### Random forest "
   ]
  },
  {
   "cell_type": "code",
   "execution_count": 119,
   "id": "b3933343",
   "metadata": {},
   "outputs": [],
   "source": [
    "from sklearn.ensemble import RandomForestRegressor"
   ]
  },
  {
   "cell_type": "code",
   "execution_count": 120,
   "id": "d7020553",
   "metadata": {},
   "outputs": [],
   "source": [
    "forest = RandomForestRegressor()"
   ]
  },
  {
   "cell_type": "code",
   "execution_count": 121,
   "id": "2f18863d",
   "metadata": {},
   "outputs": [
    {
     "data": {
      "text/plain": [
       "RandomForestRegressor()"
      ]
     },
     "execution_count": 121,
     "metadata": {},
     "output_type": "execute_result"
    }
   ],
   "source": [
    "forest.fit(x_train, y_train)"
   ]
  },
  {
   "cell_type": "code",
   "execution_count": 122,
   "id": "ba0931f7",
   "metadata": {},
   "outputs": [],
   "source": [
    "y_pred = forest.predict(x_test)"
   ]
  },
  {
   "cell_type": "code",
   "execution_count": 123,
   "id": "de5b038a",
   "metadata": {},
   "outputs": [],
   "source": [
    "mse = mean_squared_error(y_test, y_pred)"
   ]
  },
  {
   "cell_type": "code",
   "execution_count": 124,
   "id": "31fe68a6",
   "metadata": {},
   "outputs": [
    {
     "name": "stdout",
     "output_type": "stream",
     "text": [
      "Mean Squared Error: 0.07797507170564713\n"
     ]
    }
   ],
   "source": [
    "print('Mean Squared Error:', mse)"
   ]
  },
  {
   "cell_type": "code",
   "execution_count": 125,
   "id": "654167cc",
   "metadata": {},
   "outputs": [
    {
     "data": {
      "text/plain": [
       "-216.3357238702388"
      ]
     },
     "execution_count": 125,
     "metadata": {},
     "output_type": "execute_result"
    }
   ],
   "source": [
    "forest.score(x_test, y_test)"
   ]
  },
  {
   "cell_type": "markdown",
   "id": "364a3476",
   "metadata": {},
   "source": [
    "## Regularization model"
   ]
  },
  {
   "cell_type": "markdown",
   "id": "94228921",
   "metadata": {},
   "source": [
    "### Ridge model"
   ]
  },
  {
   "cell_type": "code",
   "execution_count": 126,
   "id": "ccb7f140",
   "metadata": {},
   "outputs": [],
   "source": [
    "from sklearn.linear_model import Ridge"
   ]
  },
  {
   "cell_type": "code",
   "execution_count": 127,
   "id": "46dd6690",
   "metadata": {},
   "outputs": [],
   "source": [
    "ridge = Ridge(alpha=0.5)"
   ]
  },
  {
   "cell_type": "code",
   "execution_count": 128,
   "id": "85968222",
   "metadata": {},
   "outputs": [
    {
     "data": {
      "text/plain": [
       "Ridge(alpha=0.5)"
      ]
     },
     "execution_count": 128,
     "metadata": {},
     "output_type": "execute_result"
    }
   ],
   "source": [
    "ridge.fit(x_train, y_train)"
   ]
  },
  {
   "cell_type": "code",
   "execution_count": 129,
   "id": "e10b31f3",
   "metadata": {},
   "outputs": [],
   "source": [
    "y_pred = ridge.predict(x_test)"
   ]
  },
  {
   "cell_type": "code",
   "execution_count": 130,
   "id": "23da940b",
   "metadata": {},
   "outputs": [
    {
     "name": "stdout",
     "output_type": "stream",
     "text": [
      "Mean Squared Error: 0.04519491575585209\n"
     ]
    }
   ],
   "source": [
    "print('Mean Squared Error:',  mean_squared_error(y_test, y_pred))"
   ]
  },
  {
   "cell_type": "code",
   "execution_count": 131,
   "id": "171cc0de",
   "metadata": {},
   "outputs": [
    {
     "name": "stdout",
     "output_type": "stream",
     "text": [
      "Ridge regression score: -124.96935810629347\n"
     ]
    }
   ],
   "source": [
    "print(\"Ridge regression score:\", ridge.score(x_test, y_test))"
   ]
  },
  {
   "cell_type": "markdown",
   "id": "9f092abc",
   "metadata": {},
   "source": [
    "### Lasso model"
   ]
  },
  {
   "cell_type": "code",
   "execution_count": 132,
   "id": "ba4cfa73",
   "metadata": {},
   "outputs": [],
   "source": [
    "from sklearn.linear_model import Lasso"
   ]
  },
  {
   "cell_type": "code",
   "execution_count": 133,
   "id": "2fb62afe",
   "metadata": {},
   "outputs": [],
   "source": [
    "lasso = Lasso(alpha=0.5)"
   ]
  },
  {
   "cell_type": "code",
   "execution_count": 134,
   "id": "27d0d13e",
   "metadata": {},
   "outputs": [
    {
     "data": {
      "text/plain": [
       "Lasso(alpha=0.5)"
      ]
     },
     "execution_count": 134,
     "metadata": {},
     "output_type": "execute_result"
    }
   ],
   "source": [
    "lasso.fit(x_train, y_train)"
   ]
  },
  {
   "cell_type": "code",
   "execution_count": 135,
   "id": "4736fb54",
   "metadata": {},
   "outputs": [],
   "source": [
    "y_pred = lasso.predict(x_test)"
   ]
  },
  {
   "cell_type": "code",
   "execution_count": 136,
   "id": "7a717385",
   "metadata": {},
   "outputs": [
    {
     "name": "stdout",
     "output_type": "stream",
     "text": [
      "Mean Squared Error: 0.0003870874695802186\n"
     ]
    }
   ],
   "source": [
    "print('Mean Squared Error:',  mean_squared_error(y_test, y_pred))"
   ]
  },
  {
   "cell_type": "code",
   "execution_count": 137,
   "id": "b7b0721b",
   "metadata": {},
   "outputs": [
    {
     "name": "stdout",
     "output_type": "stream",
     "text": [
      "Lasso regression score: -0.07890808641889469\n"
     ]
    }
   ],
   "source": [
    "print(\"Lasso regression score:\", lasso.score(x_test, y_test))"
   ]
  },
  {
   "cell_type": "markdown",
   "id": "4868dd77",
   "metadata": {},
   "source": [
    "#### Conclusion: the best models from numeric once is Lasso model"
   ]
  },
  {
   "cell_type": "markdown",
   "id": "41eeae55",
   "metadata": {},
   "source": [
    "# Model with category features"
   ]
  },
  {
   "cell_type": "markdown",
   "id": "c5bc3760",
   "metadata": {},
   "source": [
    "## Analyzing category features"
   ]
  },
  {
   "cell_type": "code",
   "execution_count": 138,
   "id": "3585df79",
   "metadata": {},
   "outputs": [
    {
     "data": {
      "text/plain": [
       "Index(['product_type', 'sub_area', 'culture_objects_top_25',\n",
       "       'thermal_power_plant_raion', 'incineration_raion',\n",
       "       'oil_chemistry_raion', 'radiation_raion', 'railroad_terminal_raion',\n",
       "       'big_market_raion', 'nuclear_reactor_raion', 'detention_facility_raion',\n",
       "       'water_1line', 'big_road1_1line', 'railroad_1line', 'ecology'],\n",
       "      dtype='object')"
      ]
     },
     "execution_count": 138,
     "metadata": {},
     "output_type": "execute_result"
    }
   ],
   "source": [
    "category_col = df.columns[df.dtypes == 'object']\n",
    "category_col"
   ]
  },
  {
   "cell_type": "code",
   "execution_count": 139,
   "id": "e92fd2d2",
   "metadata": {},
   "outputs": [
    {
     "data": {
      "text/html": [
       "<div>\n",
       "<style scoped>\n",
       "    .dataframe tbody tr th:only-of-type {\n",
       "        vertical-align: middle;\n",
       "    }\n",
       "\n",
       "    .dataframe tbody tr th {\n",
       "        vertical-align: top;\n",
       "    }\n",
       "\n",
       "    .dataframe thead th {\n",
       "        text-align: right;\n",
       "    }\n",
       "</style>\n",
       "<table border=\"1\" class=\"dataframe\">\n",
       "  <thead>\n",
       "    <tr style=\"text-align: right;\">\n",
       "      <th></th>\n",
       "      <th>product_type</th>\n",
       "      <th>sub_area</th>\n",
       "      <th>culture_objects_top_25</th>\n",
       "      <th>thermal_power_plant_raion</th>\n",
       "      <th>incineration_raion</th>\n",
       "      <th>oil_chemistry_raion</th>\n",
       "      <th>radiation_raion</th>\n",
       "      <th>railroad_terminal_raion</th>\n",
       "      <th>big_market_raion</th>\n",
       "      <th>nuclear_reactor_raion</th>\n",
       "      <th>detention_facility_raion</th>\n",
       "      <th>water_1line</th>\n",
       "      <th>big_road1_1line</th>\n",
       "      <th>railroad_1line</th>\n",
       "      <th>ecology</th>\n",
       "    </tr>\n",
       "  </thead>\n",
       "  <tbody>\n",
       "    <tr>\n",
       "      <th>0</th>\n",
       "      <td>Investment</td>\n",
       "      <td>Bibirevo</td>\n",
       "      <td>no</td>\n",
       "      <td>no</td>\n",
       "      <td>no</td>\n",
       "      <td>no</td>\n",
       "      <td>no</td>\n",
       "      <td>no</td>\n",
       "      <td>no</td>\n",
       "      <td>no</td>\n",
       "      <td>no</td>\n",
       "      <td>no</td>\n",
       "      <td>no</td>\n",
       "      <td>no</td>\n",
       "      <td>good</td>\n",
       "    </tr>\n",
       "    <tr>\n",
       "      <th>1</th>\n",
       "      <td>Investment</td>\n",
       "      <td>Nagatinskij Zaton</td>\n",
       "      <td>yes</td>\n",
       "      <td>no</td>\n",
       "      <td>no</td>\n",
       "      <td>no</td>\n",
       "      <td>no</td>\n",
       "      <td>no</td>\n",
       "      <td>no</td>\n",
       "      <td>no</td>\n",
       "      <td>no</td>\n",
       "      <td>no</td>\n",
       "      <td>no</td>\n",
       "      <td>no</td>\n",
       "      <td>excellent</td>\n",
       "    </tr>\n",
       "    <tr>\n",
       "      <th>2</th>\n",
       "      <td>Investment</td>\n",
       "      <td>Tekstil'shhiki</td>\n",
       "      <td>no</td>\n",
       "      <td>no</td>\n",
       "      <td>no</td>\n",
       "      <td>no</td>\n",
       "      <td>yes</td>\n",
       "      <td>no</td>\n",
       "      <td>no</td>\n",
       "      <td>no</td>\n",
       "      <td>no</td>\n",
       "      <td>no</td>\n",
       "      <td>no</td>\n",
       "      <td>no</td>\n",
       "      <td>poor</td>\n",
       "    </tr>\n",
       "    <tr>\n",
       "      <th>3</th>\n",
       "      <td>Investment</td>\n",
       "      <td>Nizhegorodskoe</td>\n",
       "      <td>no</td>\n",
       "      <td>yes</td>\n",
       "      <td>no</td>\n",
       "      <td>no</td>\n",
       "      <td>yes</td>\n",
       "      <td>no</td>\n",
       "      <td>no</td>\n",
       "      <td>no</td>\n",
       "      <td>no</td>\n",
       "      <td>no</td>\n",
       "      <td>no</td>\n",
       "      <td>no</td>\n",
       "      <td>poor</td>\n",
       "    </tr>\n",
       "    <tr>\n",
       "      <th>5</th>\n",
       "      <td>Investment</td>\n",
       "      <td>Bibirevo</td>\n",
       "      <td>no</td>\n",
       "      <td>no</td>\n",
       "      <td>no</td>\n",
       "      <td>no</td>\n",
       "      <td>no</td>\n",
       "      <td>no</td>\n",
       "      <td>no</td>\n",
       "      <td>no</td>\n",
       "      <td>no</td>\n",
       "      <td>no</td>\n",
       "      <td>no</td>\n",
       "      <td>no</td>\n",
       "      <td>good</td>\n",
       "    </tr>\n",
       "    <tr>\n",
       "      <th>...</th>\n",
       "      <td>...</td>\n",
       "      <td>...</td>\n",
       "      <td>...</td>\n",
       "      <td>...</td>\n",
       "      <td>...</td>\n",
       "      <td>...</td>\n",
       "      <td>...</td>\n",
       "      <td>...</td>\n",
       "      <td>...</td>\n",
       "      <td>...</td>\n",
       "      <td>...</td>\n",
       "      <td>...</td>\n",
       "      <td>...</td>\n",
       "      <td>...</td>\n",
       "      <td>...</td>\n",
       "    </tr>\n",
       "    <tr>\n",
       "      <th>34122</th>\n",
       "      <td>Investment</td>\n",
       "      <td>Kon'kovo</td>\n",
       "      <td>no</td>\n",
       "      <td>no</td>\n",
       "      <td>no</td>\n",
       "      <td>no</td>\n",
       "      <td>yes</td>\n",
       "      <td>no</td>\n",
       "      <td>no</td>\n",
       "      <td>no</td>\n",
       "      <td>no</td>\n",
       "      <td>no</td>\n",
       "      <td>no</td>\n",
       "      <td>no</td>\n",
       "      <td>satisfactory</td>\n",
       "    </tr>\n",
       "    <tr>\n",
       "      <th>34123</th>\n",
       "      <td>OwnerOccupier</td>\n",
       "      <td>Poselenie Desjonovskoe</td>\n",
       "      <td>no</td>\n",
       "      <td>no</td>\n",
       "      <td>no</td>\n",
       "      <td>no</td>\n",
       "      <td>no</td>\n",
       "      <td>no</td>\n",
       "      <td>no</td>\n",
       "      <td>no</td>\n",
       "      <td>no</td>\n",
       "      <td>no</td>\n",
       "      <td>no</td>\n",
       "      <td>no</td>\n",
       "      <td>no data</td>\n",
       "    </tr>\n",
       "    <tr>\n",
       "      <th>34124</th>\n",
       "      <td>OwnerOccupier</td>\n",
       "      <td>Tverskoe</td>\n",
       "      <td>yes</td>\n",
       "      <td>no</td>\n",
       "      <td>no</td>\n",
       "      <td>no</td>\n",
       "      <td>yes</td>\n",
       "      <td>yes</td>\n",
       "      <td>no</td>\n",
       "      <td>no</td>\n",
       "      <td>yes</td>\n",
       "      <td>no</td>\n",
       "      <td>no</td>\n",
       "      <td>no</td>\n",
       "      <td>excellent</td>\n",
       "    </tr>\n",
       "    <tr>\n",
       "      <th>34125</th>\n",
       "      <td>Investment</td>\n",
       "      <td>Orehovo-Borisovo Juzhnoe</td>\n",
       "      <td>no</td>\n",
       "      <td>no</td>\n",
       "      <td>no</td>\n",
       "      <td>no</td>\n",
       "      <td>no</td>\n",
       "      <td>no</td>\n",
       "      <td>yes</td>\n",
       "      <td>no</td>\n",
       "      <td>no</td>\n",
       "      <td>no</td>\n",
       "      <td>no</td>\n",
       "      <td>no</td>\n",
       "      <td>poor</td>\n",
       "    </tr>\n",
       "    <tr>\n",
       "      <th>34126</th>\n",
       "      <td>Investment</td>\n",
       "      <td>Chertanovo Severnoe</td>\n",
       "      <td>no</td>\n",
       "      <td>no</td>\n",
       "      <td>no</td>\n",
       "      <td>no</td>\n",
       "      <td>no</td>\n",
       "      <td>no</td>\n",
       "      <td>no</td>\n",
       "      <td>no</td>\n",
       "      <td>no</td>\n",
       "      <td>no</td>\n",
       "      <td>no</td>\n",
       "      <td>no</td>\n",
       "      <td>poor</td>\n",
       "    </tr>\n",
       "  </tbody>\n",
       "</table>\n",
       "<p>32609 rows × 15 columns</p>\n",
       "</div>"
      ],
      "text/plain": [
       "        product_type                  sub_area culture_objects_top_25  \\\n",
       "0         Investment                  Bibirevo                     no   \n",
       "1         Investment         Nagatinskij Zaton                    yes   \n",
       "2         Investment            Tekstil'shhiki                     no   \n",
       "3         Investment            Nizhegorodskoe                     no   \n",
       "5         Investment                  Bibirevo                     no   \n",
       "...              ...                       ...                    ...   \n",
       "34122     Investment                  Kon'kovo                     no   \n",
       "34123  OwnerOccupier    Poselenie Desjonovskoe                     no   \n",
       "34124  OwnerOccupier                  Tverskoe                    yes   \n",
       "34125     Investment  Orehovo-Borisovo Juzhnoe                     no   \n",
       "34126     Investment       Chertanovo Severnoe                     no   \n",
       "\n",
       "      thermal_power_plant_raion incineration_raion oil_chemistry_raion  \\\n",
       "0                            no                 no                  no   \n",
       "1                            no                 no                  no   \n",
       "2                            no                 no                  no   \n",
       "3                           yes                 no                  no   \n",
       "5                            no                 no                  no   \n",
       "...                         ...                ...                 ...   \n",
       "34122                        no                 no                  no   \n",
       "34123                        no                 no                  no   \n",
       "34124                        no                 no                  no   \n",
       "34125                        no                 no                  no   \n",
       "34126                        no                 no                  no   \n",
       "\n",
       "      radiation_raion railroad_terminal_raion big_market_raion  \\\n",
       "0                  no                      no               no   \n",
       "1                  no                      no               no   \n",
       "2                 yes                      no               no   \n",
       "3                 yes                      no               no   \n",
       "5                  no                      no               no   \n",
       "...               ...                     ...              ...   \n",
       "34122             yes                      no               no   \n",
       "34123              no                      no               no   \n",
       "34124             yes                     yes               no   \n",
       "34125              no                      no              yes   \n",
       "34126              no                      no               no   \n",
       "\n",
       "      nuclear_reactor_raion detention_facility_raion water_1line  \\\n",
       "0                        no                       no          no   \n",
       "1                        no                       no          no   \n",
       "2                        no                       no          no   \n",
       "3                        no                       no          no   \n",
       "5                        no                       no          no   \n",
       "...                     ...                      ...         ...   \n",
       "34122                    no                       no          no   \n",
       "34123                    no                       no          no   \n",
       "34124                    no                      yes          no   \n",
       "34125                    no                       no          no   \n",
       "34126                    no                       no          no   \n",
       "\n",
       "      big_road1_1line railroad_1line       ecology  \n",
       "0                  no             no          good  \n",
       "1                  no             no     excellent  \n",
       "2                  no             no          poor  \n",
       "3                  no             no          poor  \n",
       "5                  no             no          good  \n",
       "...               ...            ...           ...  \n",
       "34122              no             no  satisfactory  \n",
       "34123              no             no       no data  \n",
       "34124              no             no     excellent  \n",
       "34125              no             no          poor  \n",
       "34126              no             no          poor  \n",
       "\n",
       "[32609 rows x 15 columns]"
      ]
     },
     "execution_count": 139,
     "metadata": {},
     "output_type": "execute_result"
    }
   ],
   "source": [
    "df[category_col]"
   ]
  },
  {
   "cell_type": "code",
   "execution_count": 140,
   "id": "fa482c62",
   "metadata": {},
   "outputs": [
    {
     "data": {
      "text/plain": [
       "poor            8460\n",
       "no data         8313\n",
       "good            7714\n",
       "excellent       4380\n",
       "satisfactory    3742\n",
       "Name: ecology, dtype: int64"
      ]
     },
     "execution_count": 140,
     "metadata": {},
     "output_type": "execute_result"
    }
   ],
   "source": [
    "df.ecology.value_counts()"
   ]
  },
  {
   "cell_type": "code",
   "execution_count": 141,
   "id": "1057f9ad",
   "metadata": {},
   "outputs": [
    {
     "data": {
      "text/plain": [
       "Investment       20600\n",
       "OwnerOccupier    11977\n",
       "unknown             32\n",
       "Name: product_type, dtype: int64"
      ]
     },
     "execution_count": 141,
     "metadata": {},
     "output_type": "execute_result"
    }
   ],
   "source": [
    "df.product_type.value_counts()"
   ]
  },
  {
   "cell_type": "code",
   "execution_count": 142,
   "id": "9427589c",
   "metadata": {},
   "outputs": [
    {
     "data": {
      "text/plain": [
       "no     30556\n",
       "yes     2053\n",
       "Name: culture_objects_top_25, dtype: int64"
      ]
     },
     "execution_count": 142,
     "metadata": {},
     "output_type": "execute_result"
    }
   ],
   "source": [
    "df.culture_objects_top_25.value_counts()"
   ]
  },
  {
   "cell_type": "code",
   "execution_count": 143,
   "id": "774fa943",
   "metadata": {},
   "outputs": [
    {
     "data": {
      "text/plain": [
       "Poselenie Sosenskoe     2002\n",
       "Poselenie Vnukovskoe    1945\n",
       "Nekrasovka              1682\n",
       "Poselenie Moskovskij    1139\n",
       "Tverskoe                 754\n",
       "                        ... \n",
       "Krasnosel'skoe            27\n",
       "Poselenie Mosrentgen      22\n",
       "Vostochnoe                11\n",
       "Arbat                     11\n",
       "Molzhaninovskoe            3\n",
       "Name: sub_area, Length: 134, dtype: int64"
      ]
     },
     "execution_count": 143,
     "metadata": {},
     "output_type": "execute_result"
    }
   ],
   "source": [
    "df.sub_area.value_counts()"
   ]
  },
  {
   "cell_type": "markdown",
   "id": "54ced548",
   "metadata": {},
   "source": [
    "#### Including in the model only subarea and ecology features"
   ]
  },
  {
   "cell_type": "markdown",
   "id": "b6546531",
   "metadata": {},
   "source": [
    "##  Category features data processing"
   ]
  },
  {
   "cell_type": "code",
   "execution_count": 144,
   "id": "5e25f10b",
   "metadata": {},
   "outputs": [],
   "source": [
    "data = df.copy()"
   ]
  },
  {
   "cell_type": "code",
   "execution_count": 145,
   "id": "d443c231",
   "metadata": {},
   "outputs": [],
   "source": [
    "columns.append('ecology')"
   ]
  },
  {
   "cell_type": "code",
   "execution_count": 146,
   "id": "1914fae7",
   "metadata": {},
   "outputs": [],
   "source": [
    "columns.append('sub_area')"
   ]
  },
  {
   "cell_type": "code",
   "execution_count": 147,
   "id": "fc05e312",
   "metadata": {},
   "outputs": [],
   "source": [
    "data = data [columns]"
   ]
  },
  {
   "cell_type": "markdown",
   "id": "17a5d9a5",
   "metadata": {},
   "source": [
    "#### Use one hot encoding for ecology feature (5 categories) "
   ]
  },
  {
   "cell_type": "code",
   "execution_count": 148,
   "id": "f86feb62",
   "metadata": {},
   "outputs": [],
   "source": [
    "encoded_columns = pd.get_dummies(data['ecology'])"
   ]
  },
  {
   "cell_type": "code",
   "execution_count": 149,
   "id": "e62abbc0",
   "metadata": {},
   "outputs": [],
   "source": [
    "data = data.join(encoded_columns).drop(columns=['ecology'], axis=1)"
   ]
  },
  {
   "cell_type": "markdown",
   "id": "b905ed0c",
   "metadata": {},
   "source": [
    "#### Use binary encoding for sub area column (134 categories)"
   ]
  },
  {
   "cell_type": "markdown",
   "id": "99dd28ff",
   "metadata": {},
   "source": [
    "source: https://medium.com/analytics-vidhya/heres-all-you-need-to-know-about-encoding-categorical-data-with-python-code-53e367a79b5c"
   ]
  },
  {
   "cell_type": "code",
   "execution_count": 150,
   "id": "9edc5145",
   "metadata": {},
   "outputs": [
    {
     "name": "stdout",
     "output_type": "stream",
     "text": [
      "Requirement already satisfied: category_encoders in c:\\users\\user\\anaconda3\\lib\\site-packages (2.6.0)Note: you may need to restart the kernel to use updated packages.\n",
      "\n",
      "Requirement already satisfied: patsy>=0.5.1 in c:\\users\\user\\anaconda3\\lib\\site-packages (from category_encoders) (0.5.2)\n",
      "Requirement already satisfied: scikit-learn>=0.20.0 in c:\\users\\user\\anaconda3\\lib\\site-packages (from category_encoders) (1.0.2)\n",
      "Requirement already satisfied: scipy>=1.0.0 in c:\\users\\user\\anaconda3\\lib\\site-packages (from category_encoders) (1.9.1)\n",
      "Requirement already satisfied: numpy>=1.14.0 in c:\\users\\user\\anaconda3\\lib\\site-packages (from category_encoders) (1.21.5)\n",
      "Requirement already satisfied: statsmodels>=0.9.0 in c:\\users\\user\\anaconda3\\lib\\site-packages (from category_encoders) (0.13.2)\n",
      "Requirement already satisfied: pandas>=1.0.5 in c:\\users\\user\\anaconda3\\lib\\site-packages (from category_encoders) (1.4.4)\n",
      "Requirement already satisfied: pytz>=2020.1 in c:\\users\\user\\anaconda3\\lib\\site-packages (from pandas>=1.0.5->category_encoders) (2022.1)\n",
      "Requirement already satisfied: python-dateutil>=2.8.1 in c:\\users\\user\\anaconda3\\lib\\site-packages (from pandas>=1.0.5->category_encoders) (2.8.2)\n",
      "Requirement already satisfied: six in c:\\users\\user\\anaconda3\\lib\\site-packages (from patsy>=0.5.1->category_encoders) (1.16.0)\n",
      "Requirement already satisfied: joblib>=0.11 in c:\\users\\user\\anaconda3\\lib\\site-packages (from scikit-learn>=0.20.0->category_encoders) (1.1.0)\n",
      "Requirement already satisfied: threadpoolctl>=2.0.0 in c:\\users\\user\\anaconda3\\lib\\site-packages (from scikit-learn>=0.20.0->category_encoders) (2.2.0)\n",
      "Requirement already satisfied: packaging>=21.3 in c:\\users\\user\\anaconda3\\lib\\site-packages (from statsmodels>=0.9.0->category_encoders) (21.3)\n",
      "Requirement already satisfied: pyparsing!=3.0.5,>=2.0.2 in c:\\users\\user\\anaconda3\\lib\\site-packages (from packaging>=21.3->statsmodels>=0.9.0->category_encoders) (3.0.9)\n"
     ]
    }
   ],
   "source": [
    "pip install category_encoders"
   ]
  },
  {
   "cell_type": "code",
   "execution_count": 151,
   "id": "e2ce19fc",
   "metadata": {},
   "outputs": [],
   "source": [
    "import category_encoders as ce"
   ]
  },
  {
   "cell_type": "code",
   "execution_count": 152,
   "id": "bd2ede12",
   "metadata": {},
   "outputs": [
    {
     "data": {
      "text/plain": [
       "array(['Bibirevo', 'Nagatinskij Zaton', \"Tekstil'shhiki\",\n",
       "       'Nizhegorodskoe', 'Koptevo', 'Kuncevo', 'Kosino-Uhtomskoe',\n",
       "       'Zapadnoe Degunino', 'Presnenskoe', 'Lefortovo', \"Mar'ino\",\n",
       "       \"Kuz'minki\", 'Nagornoe', \"Gol'janovo\", 'Vnukovo',\n",
       "       'Juzhnoe Tushino', 'Severnoe Tushino', \"Chertanovo Central'noe\",\n",
       "       'Fili Davydkovo', 'Otradnoe', 'Novo-Peredelkino', 'Bogorodskoe',\n",
       "       'Jaroslavskoe', 'Strogino', \"Moskvorech'e-Saburovo\",\n",
       "       'Staroe Krjukovo', 'Ljublino', 'Veshnjaki', 'Danilovskoe',\n",
       "       'Caricyno', 'Preobrazhenskoe', \"Kon'kovo\", 'Brateevo', 'Mitino',\n",
       "       'Vostochnoe Izmajlovo', 'Vyhino-Zhulebino', 'Donskoe',\n",
       "       'Novogireevo', 'Juzhnoe Butovo', 'Izmajlovo', 'Rostokino',\n",
       "       'Orehovo-Borisovo Severnoe', 'Ochakovo-Matveevskoe', 'Taganskoe',\n",
       "       'Dmitrovskoe', 'Orehovo-Borisovo Juzhnoe', 'Teplyj Stan',\n",
       "       'Hovrino', 'Basmannoe', 'Babushkinskoe', 'Pokrovskoe Streshnevo',\n",
       "       'Obruchevskoe', 'Filevskij Park', 'Troparevo-Nikulino',\n",
       "       'Severnoe Butovo', 'Solncevo', 'Dorogomilovo',\n",
       "       'Severnoe Medvedkovo', 'Lianozovo', 'Pechatniki', 'Krjukovo',\n",
       "       'Jasenevo', 'Chertanovo Severnoe', 'Rjazanskij', 'Silino',\n",
       "       'Golovinskoe', 'Ivanovskoe', 'Novokosino', 'Nagatino-Sadovniki',\n",
       "       'Birjulevo Vostochnoe', 'Severnoe Izmajlovo', 'Sokolinaja Gora',\n",
       "       'Vostochnoe Degunino', 'Prospekt Vernadskogo', 'Savelki',\n",
       "       'Ajeroport', 'Vojkovskoe', 'Beskudnikovskoe', 'Juzhnoportovoe',\n",
       "       'Perovo', 'Horoshevo-Mnevniki', 'Shhukino', 'Kapotnja',\n",
       "       'Horoshevskoe', 'Marfino', 'Chertanovo Juzhnoe', 'Savelovskoe',\n",
       "       'Birjulevo Zapadnoe', 'Nekrasovka', 'Krylatskoe', 'Sviblovo',\n",
       "       'Alekseevskoe', 'Kurkino', \"Krasnosel'skoe\", 'Kotlovka', 'Zjuzino',\n",
       "       'Ostankinskoe', 'Tverskoe', 'Sokol', 'Losinoostrovskoe',\n",
       "       'Akademicheskoe', 'Butyrskoe', 'Matushkino', 'Metrogorodok',\n",
       "       'Juzhnoe Medvedkovo', 'Mozhajskoe', 'Levoberezhnoe',\n",
       "       \"Mar'ina Roshha\", 'Cheremushki', 'Jakimanka', 'Timirjazevskoe',\n",
       "       \"Altuf'evskoe\", 'Ramenki', 'Zjablikovo', 'Severnoe', 'Meshhanskoe',\n",
       "       'Gagarinskoe', 'Lomonosovskoe', 'Begovoe', 'Hamovniki',\n",
       "       \"Sokol'niki\", \"Zamoskvorech'e\", 'Poselenie Sosenskoe', 'Arbat',\n",
       "       'Poselenie Moskovskij', 'Poselenie Desjonovskoe',\n",
       "       'Poselenie Voskresenskoe', 'Poselenie Mosrentgen',\n",
       "       'Poselenie Shherbinka', 'Poselenie Filimonkovskoe',\n",
       "       'Poselenie Vnukovskoe', 'Poselenie Rjazanovskoe', 'Vostochnoe',\n",
       "       'Molzhaninovskoe'], dtype=object)"
      ]
     },
     "execution_count": 152,
     "metadata": {},
     "output_type": "execute_result"
    }
   ],
   "source": [
    "data.sub_area.unique()"
   ]
  },
  {
   "cell_type": "code",
   "execution_count": 153,
   "id": "2ac21cd8",
   "metadata": {},
   "outputs": [],
   "source": [
    "encoder= ce.BinaryEncoder(cols=['sub_area'],return_df=True)"
   ]
  },
  {
   "cell_type": "code",
   "execution_count": 154,
   "id": "5292967f",
   "metadata": {},
   "outputs": [
    {
     "data": {
      "text/html": [
       "<div>\n",
       "<style scoped>\n",
       "    .dataframe tbody tr th:only-of-type {\n",
       "        vertical-align: middle;\n",
       "    }\n",
       "\n",
       "    .dataframe tbody tr th {\n",
       "        vertical-align: top;\n",
       "    }\n",
       "\n",
       "    .dataframe thead th {\n",
       "        text-align: right;\n",
       "    }\n",
       "</style>\n",
       "<table border=\"1\" class=\"dataframe\">\n",
       "  <thead>\n",
       "    <tr style=\"text-align: right;\">\n",
       "      <th></th>\n",
       "      <th>full_sq</th>\n",
       "      <th>num_room</th>\n",
       "      <th>state</th>\n",
       "      <th>work_all</th>\n",
       "      <th>distance_km</th>\n",
       "      <th>kremlin_km</th>\n",
       "      <th>mkad_km</th>\n",
       "      <th>price</th>\n",
       "      <th>timestamp</th>\n",
       "      <th>sub_area_0</th>\n",
       "      <th>...</th>\n",
       "      <th>sub_area_3</th>\n",
       "      <th>sub_area_4</th>\n",
       "      <th>sub_area_5</th>\n",
       "      <th>sub_area_6</th>\n",
       "      <th>sub_area_7</th>\n",
       "      <th>excellent</th>\n",
       "      <th>good</th>\n",
       "      <th>no data</th>\n",
       "      <th>poor</th>\n",
       "      <th>satisfactory</th>\n",
       "    </tr>\n",
       "  </thead>\n",
       "  <tbody>\n",
       "    <tr>\n",
       "      <th>0</th>\n",
       "      <td>43.00</td>\n",
       "      <td>2.0</td>\n",
       "      <td>2.0</td>\n",
       "      <td>98207</td>\n",
       "      <td>3.505510</td>\n",
       "      <td>15.156211</td>\n",
       "      <td>1.422391</td>\n",
       "      <td>1652542.37</td>\n",
       "      <td>2011-08-20</td>\n",
       "      <td>0</td>\n",
       "      <td>...</td>\n",
       "      <td>0</td>\n",
       "      <td>0</td>\n",
       "      <td>0</td>\n",
       "      <td>0</td>\n",
       "      <td>1</td>\n",
       "      <td>0</td>\n",
       "      <td>1</td>\n",
       "      <td>0</td>\n",
       "      <td>0</td>\n",
       "      <td>0</td>\n",
       "    </tr>\n",
       "    <tr>\n",
       "      <th>1</th>\n",
       "      <td>34.00</td>\n",
       "      <td>2.0</td>\n",
       "      <td>2.0</td>\n",
       "      <td>70194</td>\n",
       "      <td>2.837134</td>\n",
       "      <td>8.698054</td>\n",
       "      <td>9.503405</td>\n",
       "      <td>1694915.25</td>\n",
       "      <td>2011-08-23</td>\n",
       "      <td>0</td>\n",
       "      <td>...</td>\n",
       "      <td>0</td>\n",
       "      <td>0</td>\n",
       "      <td>0</td>\n",
       "      <td>1</td>\n",
       "      <td>0</td>\n",
       "      <td>1</td>\n",
       "      <td>0</td>\n",
       "      <td>0</td>\n",
       "      <td>0</td>\n",
       "      <td>0</td>\n",
       "    </tr>\n",
       "    <tr>\n",
       "      <th>2</th>\n",
       "      <td>43.00</td>\n",
       "      <td>2.0</td>\n",
       "      <td>2.0</td>\n",
       "      <td>63388</td>\n",
       "      <td>2.571724</td>\n",
       "      <td>9.067885</td>\n",
       "      <td>5.604800</td>\n",
       "      <td>1610169.49</td>\n",
       "      <td>2011-08-27</td>\n",
       "      <td>0</td>\n",
       "      <td>...</td>\n",
       "      <td>0</td>\n",
       "      <td>0</td>\n",
       "      <td>0</td>\n",
       "      <td>1</td>\n",
       "      <td>1</td>\n",
       "      <td>0</td>\n",
       "      <td>0</td>\n",
       "      <td>0</td>\n",
       "      <td>1</td>\n",
       "      <td>0</td>\n",
       "    </tr>\n",
       "    <tr>\n",
       "      <th>3</th>\n",
       "      <td>67.00</td>\n",
       "      <td>2.0</td>\n",
       "      <td>2.0</td>\n",
       "      <td>29660</td>\n",
       "      <td>2.553136</td>\n",
       "      <td>5.645796</td>\n",
       "      <td>8.296087</td>\n",
       "      <td>2576443.94</td>\n",
       "      <td>2011-09-06</td>\n",
       "      <td>0</td>\n",
       "      <td>...</td>\n",
       "      <td>0</td>\n",
       "      <td>0</td>\n",
       "      <td>1</td>\n",
       "      <td>0</td>\n",
       "      <td>0</td>\n",
       "      <td>0</td>\n",
       "      <td>0</td>\n",
       "      <td>0</td>\n",
       "      <td>1</td>\n",
       "      <td>0</td>\n",
       "    </tr>\n",
       "    <tr>\n",
       "      <th>5</th>\n",
       "      <td>44.00</td>\n",
       "      <td>2.0</td>\n",
       "      <td>2.0</td>\n",
       "      <td>98207</td>\n",
       "      <td>3.592259</td>\n",
       "      <td>15.770426</td>\n",
       "      <td>1.042291</td>\n",
       "      <td>566251.42</td>\n",
       "      <td>2011-09-09</td>\n",
       "      <td>0</td>\n",
       "      <td>...</td>\n",
       "      <td>0</td>\n",
       "      <td>0</td>\n",
       "      <td>0</td>\n",
       "      <td>0</td>\n",
       "      <td>1</td>\n",
       "      <td>0</td>\n",
       "      <td>1</td>\n",
       "      <td>0</td>\n",
       "      <td>0</td>\n",
       "      <td>0</td>\n",
       "    </tr>\n",
       "    <tr>\n",
       "      <th>...</th>\n",
       "      <td>...</td>\n",
       "      <td>...</td>\n",
       "      <td>...</td>\n",
       "      <td>...</td>\n",
       "      <td>...</td>\n",
       "      <td>...</td>\n",
       "      <td>...</td>\n",
       "      <td>...</td>\n",
       "      <td>...</td>\n",
       "      <td>...</td>\n",
       "      <td>...</td>\n",
       "      <td>...</td>\n",
       "      <td>...</td>\n",
       "      <td>...</td>\n",
       "      <td>...</td>\n",
       "      <td>...</td>\n",
       "      <td>...</td>\n",
       "      <td>...</td>\n",
       "      <td>...</td>\n",
       "      <td>...</td>\n",
       "      <td>...</td>\n",
       "    </tr>\n",
       "    <tr>\n",
       "      <th>34122</th>\n",
       "      <td>52.20</td>\n",
       "      <td>2.0</td>\n",
       "      <td>2.0</td>\n",
       "      <td>100062</td>\n",
       "      <td>3.274580</td>\n",
       "      <td>12.812710</td>\n",
       "      <td>4.292391</td>\n",
       "      <td>1360569.65</td>\n",
       "      <td>2016-05-26</td>\n",
       "      <td>0</td>\n",
       "      <td>...</td>\n",
       "      <td>0</td>\n",
       "      <td>0</td>\n",
       "      <td>0</td>\n",
       "      <td>0</td>\n",
       "      <td>0</td>\n",
       "      <td>0</td>\n",
       "      <td>0</td>\n",
       "      <td>0</td>\n",
       "      <td>0</td>\n",
       "      <td>1</td>\n",
       "    </tr>\n",
       "    <tr>\n",
       "      <th>34123</th>\n",
       "      <td>54.09</td>\n",
       "      <td>2.0</td>\n",
       "      <td>2.0</td>\n",
       "      <td>8910</td>\n",
       "      <td>12.842405</td>\n",
       "      <td>29.133765</td>\n",
       "      <td>11.751277</td>\n",
       "      <td>1360569.65</td>\n",
       "      <td>2016-05-28</td>\n",
       "      <td>0</td>\n",
       "      <td>...</td>\n",
       "      <td>1</td>\n",
       "      <td>1</td>\n",
       "      <td>1</td>\n",
       "      <td>1</td>\n",
       "      <td>0</td>\n",
       "      <td>0</td>\n",
       "      <td>0</td>\n",
       "      <td>1</td>\n",
       "      <td>0</td>\n",
       "      <td>0</td>\n",
       "    </tr>\n",
       "    <tr>\n",
       "      <th>34124</th>\n",
       "      <td>41.08</td>\n",
       "      <td>1.0</td>\n",
       "      <td>1.0</td>\n",
       "      <td>43921</td>\n",
       "      <td>2.175616</td>\n",
       "      <td>0.072897</td>\n",
       "      <td>13.917815</td>\n",
       "      <td>1360569.65</td>\n",
       "      <td>2016-05-30</td>\n",
       "      <td>0</td>\n",
       "      <td>...</td>\n",
       "      <td>0</td>\n",
       "      <td>0</td>\n",
       "      <td>0</td>\n",
       "      <td>1</td>\n",
       "      <td>0</td>\n",
       "      <td>1</td>\n",
       "      <td>0</td>\n",
       "      <td>0</td>\n",
       "      <td>0</td>\n",
       "      <td>0</td>\n",
       "    </tr>\n",
       "    <tr>\n",
       "      <th>34125</th>\n",
       "      <td>34.80</td>\n",
       "      <td>1.0</td>\n",
       "      <td>2.0</td>\n",
       "      <td>104635</td>\n",
       "      <td>3.113285</td>\n",
       "      <td>17.137752</td>\n",
       "      <td>1.490602</td>\n",
       "      <td>1360569.65</td>\n",
       "      <td>2016-05-30</td>\n",
       "      <td>0</td>\n",
       "      <td>...</td>\n",
       "      <td>0</td>\n",
       "      <td>1</td>\n",
       "      <td>1</td>\n",
       "      <td>1</td>\n",
       "      <td>0</td>\n",
       "      <td>0</td>\n",
       "      <td>0</td>\n",
       "      <td>0</td>\n",
       "      <td>1</td>\n",
       "      <td>0</td>\n",
       "    </tr>\n",
       "    <tr>\n",
       "      <th>34126</th>\n",
       "      <td>63.00</td>\n",
       "      <td>3.0</td>\n",
       "      <td>3.0</td>\n",
       "      <td>73503</td>\n",
       "      <td>3.243187</td>\n",
       "      <td>13.037478</td>\n",
       "      <td>6.076004</td>\n",
       "      <td>1360569.65</td>\n",
       "      <td>2016-05-30</td>\n",
       "      <td>0</td>\n",
       "      <td>...</td>\n",
       "      <td>1</td>\n",
       "      <td>1</td>\n",
       "      <td>1</td>\n",
       "      <td>1</td>\n",
       "      <td>1</td>\n",
       "      <td>0</td>\n",
       "      <td>0</td>\n",
       "      <td>0</td>\n",
       "      <td>1</td>\n",
       "      <td>0</td>\n",
       "    </tr>\n",
       "  </tbody>\n",
       "</table>\n",
       "<p>32609 rows × 22 columns</p>\n",
       "</div>"
      ],
      "text/plain": [
       "       full_sq  num_room  state  work_all  distance_km  kremlin_km    mkad_km  \\\n",
       "0        43.00       2.0    2.0     98207     3.505510   15.156211   1.422391   \n",
       "1        34.00       2.0    2.0     70194     2.837134    8.698054   9.503405   \n",
       "2        43.00       2.0    2.0     63388     2.571724    9.067885   5.604800   \n",
       "3        67.00       2.0    2.0     29660     2.553136    5.645796   8.296087   \n",
       "5        44.00       2.0    2.0     98207     3.592259   15.770426   1.042291   \n",
       "...        ...       ...    ...       ...          ...         ...        ...   \n",
       "34122    52.20       2.0    2.0    100062     3.274580   12.812710   4.292391   \n",
       "34123    54.09       2.0    2.0      8910    12.842405   29.133765  11.751277   \n",
       "34124    41.08       1.0    1.0     43921     2.175616    0.072897  13.917815   \n",
       "34125    34.80       1.0    2.0    104635     3.113285   17.137752   1.490602   \n",
       "34126    63.00       3.0    3.0     73503     3.243187   13.037478   6.076004   \n",
       "\n",
       "            price  timestamp  sub_area_0  ...  sub_area_3  sub_area_4  \\\n",
       "0      1652542.37 2011-08-20           0  ...           0           0   \n",
       "1      1694915.25 2011-08-23           0  ...           0           0   \n",
       "2      1610169.49 2011-08-27           0  ...           0           0   \n",
       "3      2576443.94 2011-09-06           0  ...           0           0   \n",
       "5       566251.42 2011-09-09           0  ...           0           0   \n",
       "...           ...        ...         ...  ...         ...         ...   \n",
       "34122  1360569.65 2016-05-26           0  ...           0           0   \n",
       "34123  1360569.65 2016-05-28           0  ...           1           1   \n",
       "34124  1360569.65 2016-05-30           0  ...           0           0   \n",
       "34125  1360569.65 2016-05-30           0  ...           0           1   \n",
       "34126  1360569.65 2016-05-30           0  ...           1           1   \n",
       "\n",
       "       sub_area_5  sub_area_6  sub_area_7  excellent  good  no data  poor  \\\n",
       "0               0           0           1          0     1        0     0   \n",
       "1               0           1           0          1     0        0     0   \n",
       "2               0           1           1          0     0        0     1   \n",
       "3               1           0           0          0     0        0     1   \n",
       "5               0           0           1          0     1        0     0   \n",
       "...           ...         ...         ...        ...   ...      ...   ...   \n",
       "34122           0           0           0          0     0        0     0   \n",
       "34123           1           1           0          0     0        1     0   \n",
       "34124           0           1           0          1     0        0     0   \n",
       "34125           1           1           0          0     0        0     1   \n",
       "34126           1           1           1          0     0        0     1   \n",
       "\n",
       "       satisfactory  \n",
       "0                 0  \n",
       "1                 0  \n",
       "2                 0  \n",
       "3                 0  \n",
       "5                 0  \n",
       "...             ...  \n",
       "34122             1  \n",
       "34123             0  \n",
       "34124             0  \n",
       "34125             0  \n",
       "34126             0  \n",
       "\n",
       "[32609 rows x 22 columns]"
      ]
     },
     "execution_count": 154,
     "metadata": {},
     "output_type": "execute_result"
    }
   ],
   "source": [
    "data = encoder.fit_transform(data)\n",
    "data"
   ]
  },
  {
   "cell_type": "markdown",
   "id": "86c23102",
   "metadata": {},
   "source": [
    "## Splitting test and train samples"
   ]
  },
  {
   "cell_type": "code",
   "execution_count": 155,
   "id": "297f0435",
   "metadata": {
    "scrolled": true
   },
   "outputs": [
    {
     "name": "stderr",
     "output_type": "stream",
     "text": [
      "C:\\Users\\User\\AppData\\Local\\Temp\\ipykernel_13688\\3553774952.py:3: SettingWithCopyWarning: \n",
      "A value is trying to be set on a copy of a slice from a DataFrame\n",
      "\n",
      "See the caveats in the documentation: https://pandas.pydata.org/pandas-docs/stable/user_guide/indexing.html#returning-a-view-versus-a-copy\n",
      "  test.drop('timestamp', axis=1, inplace=True)\n"
     ]
    }
   ],
   "source": [
    "test = getTestDataset(data)"
   ]
  },
  {
   "cell_type": "code",
   "execution_count": 156,
   "id": "310a49b1",
   "metadata": {},
   "outputs": [
    {
     "name": "stderr",
     "output_type": "stream",
     "text": [
      "C:\\Users\\User\\AppData\\Local\\Temp\\ipykernel_13688\\2975833616.py:3: SettingWithCopyWarning: \n",
      "A value is trying to be set on a copy of a slice from a DataFrame\n",
      "\n",
      "See the caveats in the documentation: https://pandas.pydata.org/pandas-docs/stable/user_guide/indexing.html#returning-a-view-versus-a-copy\n",
      "  train.drop('timestamp', axis=1, inplace=True)\n"
     ]
    }
   ],
   "source": [
    "train = getTrainDataset(data)"
   ]
  },
  {
   "cell_type": "markdown",
   "id": "6cc00070",
   "metadata": {},
   "source": [
    "# Model training"
   ]
  },
  {
   "cell_type": "markdown",
   "source": [
    "### Data standartization"
   ],
   "metadata": {
    "collapsed": false
   }
  },
  {
   "cell_type": "code",
   "execution_count": 157,
   "id": "74cfbaea",
   "metadata": {},
   "outputs": [],
   "source": [
    "from sklearn.preprocessing import StandardScaler\n",
    "import numpy as np"
   ]
  },
  {
   "cell_type": "code",
   "execution_count": 158,
   "id": "97bf371d",
   "metadata": {},
   "outputs": [],
   "source": [
    "y_train = train['price'].copy()\n",
    "x_train = train.drop('price', axis=1)"
   ]
  },
  {
   "cell_type": "code",
   "execution_count": 159,
   "id": "d463fbf8",
   "metadata": {},
   "outputs": [],
   "source": [
    "y_test = test['price'].copy()\n",
    "x_test = test.drop('price', axis=1)"
   ]
  },
  {
   "cell_type": "code",
   "execution_count": 160,
   "id": "55917214",
   "metadata": {},
   "outputs": [],
   "source": [
    "scaler = StandardScaler()"
   ]
  },
  {
   "cell_type": "code",
   "execution_count": 161,
   "id": "5f7b686e",
   "metadata": {},
   "outputs": [],
   "source": [
    "x_train = pd.DataFrame(scaler.fit_transform(x_train), columns=x_train.columns)"
   ]
  },
  {
   "cell_type": "code",
   "execution_count": 162,
   "id": "45fb40c3",
   "metadata": {},
   "outputs": [],
   "source": [
    "x_test = pd.DataFrame(scaler.fit_transform(x_test), columns=x_test.columns)"
   ]
  },
  {
   "cell_type": "markdown",
   "source": [
    "### Target logarithm"
   ],
   "metadata": {
    "collapsed": false
   }
  },
  {
   "cell_type": "code",
   "execution_count": 163,
   "id": "01bd9922",
   "metadata": {},
   "outputs": [],
   "source": [
    "y_train = np.log1p(y_train)"
   ]
  },
  {
   "cell_type": "code",
   "execution_count": 164,
   "id": "bdc085fc",
   "metadata": {},
   "outputs": [],
   "source": [
    "y_test = np.log1p(y_test)"
   ]
  },
  {
   "cell_type": "markdown",
   "id": "c5a6c74a",
   "metadata": {},
   "source": [
    "## Model with numeric + category columns"
   ]
  },
  {
   "cell_type": "markdown",
   "id": "9d4b2fc8",
   "metadata": {},
   "source": [
    "### Linear regression"
   ]
  },
  {
   "cell_type": "code",
   "execution_count": 165,
   "id": "59f8260b",
   "metadata": {},
   "outputs": [],
   "source": [
    "from sklearn.linear_model import LinearRegression\n",
    "from sklearn.metrics import mean_squared_error"
   ]
  },
  {
   "cell_type": "code",
   "execution_count": 166,
   "id": "797c3f3b",
   "metadata": {},
   "outputs": [],
   "source": [
    "reg = LinearRegression()"
   ]
  },
  {
   "cell_type": "code",
   "execution_count": 167,
   "id": "69859856",
   "metadata": {},
   "outputs": [
    {
     "data": {
      "text/plain": [
       "LinearRegression()"
      ]
     },
     "execution_count": 167,
     "metadata": {},
     "output_type": "execute_result"
    }
   ],
   "source": [
    "reg.fit(x_train, y_train)"
   ]
  },
  {
   "cell_type": "code",
   "execution_count": 168,
   "id": "c91314e7",
   "metadata": {},
   "outputs": [],
   "source": [
    "y_pred = reg.predict(x_test)"
   ]
  },
  {
   "cell_type": "code",
   "execution_count": 169,
   "id": "e338da5e",
   "metadata": {},
   "outputs": [],
   "source": [
    "mse = mean_squared_error(y_test, y_pred)"
   ]
  },
  {
   "cell_type": "code",
   "execution_count": 170,
   "id": "652c06b3",
   "metadata": {},
   "outputs": [
    {
     "name": "stdout",
     "output_type": "stream",
     "text": [
      "Mean Squared Error: 0.04727521526465611\n"
     ]
    }
   ],
   "source": [
    "print('Mean Squared Error:', mse)"
   ]
  },
  {
   "cell_type": "code",
   "execution_count": 171,
   "id": "f7c9e420",
   "metadata": {},
   "outputs": [
    {
     "name": "stdout",
     "output_type": "stream",
     "text": [
      "Score: -130.76766504879393\n"
     ]
    }
   ],
   "source": [
    "print('Score:', reg.score(x_test, y_test))"
   ]
  },
  {
   "cell_type": "markdown",
   "id": "84366a02",
   "metadata": {},
   "source": [
    "### Random forest "
   ]
  },
  {
   "cell_type": "code",
   "execution_count": 172,
   "id": "940ac3d4",
   "metadata": {},
   "outputs": [],
   "source": [
    "from sklearn.ensemble import RandomForestRegressor"
   ]
  },
  {
   "cell_type": "code",
   "execution_count": 173,
   "id": "c70555cb",
   "metadata": {},
   "outputs": [],
   "source": [
    "forest = RandomForestRegressor()"
   ]
  },
  {
   "cell_type": "code",
   "execution_count": 174,
   "id": "42f2a043",
   "metadata": {},
   "outputs": [
    {
     "data": {
      "text/plain": [
       "RandomForestRegressor()"
      ]
     },
     "execution_count": 174,
     "metadata": {},
     "output_type": "execute_result"
    }
   ],
   "source": [
    "forest.fit(x_train, y_train)"
   ]
  },
  {
   "cell_type": "code",
   "execution_count": 175,
   "id": "2dbb33cc",
   "metadata": {},
   "outputs": [],
   "source": [
    "y_pred = forest.predict(x_test)"
   ]
  },
  {
   "cell_type": "code",
   "execution_count": 176,
   "id": "beda9143",
   "metadata": {},
   "outputs": [],
   "source": [
    "mse = mean_squared_error(y_test, y_pred)"
   ]
  },
  {
   "cell_type": "code",
   "execution_count": 177,
   "id": "09e50a9a",
   "metadata": {},
   "outputs": [
    {
     "name": "stdout",
     "output_type": "stream",
     "text": [
      "Mean Squared Error: 0.07942129617894332\n"
     ]
    }
   ],
   "source": [
    "print('Mean Squared Error:', mse)"
   ]
  },
  {
   "cell_type": "code",
   "execution_count": 178,
   "id": "6169e2e1",
   "metadata": {},
   "outputs": [
    {
     "name": "stdout",
     "output_type": "stream",
     "text": [
      "Score: -220.3667075667875\n"
     ]
    }
   ],
   "source": [
    "print('Score:', forest.score(x_test, y_test)) "
   ]
  },
  {
   "cell_type": "markdown",
   "id": "aee45d8c",
   "metadata": {},
   "source": [
    "## Regularization model"
   ]
  },
  {
   "cell_type": "markdown",
   "id": "68aab3ce",
   "metadata": {},
   "source": [
    "### Ridge model"
   ]
  },
  {
   "cell_type": "code",
   "execution_count": 179,
   "id": "dd59e84e",
   "metadata": {},
   "outputs": [],
   "source": [
    "from sklearn.linear_model import Ridge"
   ]
  },
  {
   "cell_type": "code",
   "execution_count": 180,
   "id": "5c6a5704",
   "metadata": {},
   "outputs": [],
   "source": [
    "ridge = Ridge(alpha=0.5)"
   ]
  },
  {
   "cell_type": "code",
   "execution_count": 181,
   "id": "0889e7b1",
   "metadata": {},
   "outputs": [
    {
     "data": {
      "text/plain": [
       "Ridge(alpha=0.5)"
      ]
     },
     "execution_count": 181,
     "metadata": {},
     "output_type": "execute_result"
    }
   ],
   "source": [
    "ridge.fit(x_train, y_train)"
   ]
  },
  {
   "cell_type": "code",
   "execution_count": 182,
   "id": "0a55ea0f",
   "metadata": {},
   "outputs": [],
   "source": [
    "y_pred = ridge.predict(x_test)"
   ]
  },
  {
   "cell_type": "code",
   "execution_count": 183,
   "id": "6586da93",
   "metadata": {},
   "outputs": [
    {
     "name": "stdout",
     "output_type": "stream",
     "text": [
      "Mean Squared Error: 0.04727287903888367\n"
     ]
    }
   ],
   "source": [
    "print('Mean Squared Error:',  mean_squared_error(y_test, y_pred))"
   ]
  },
  {
   "cell_type": "code",
   "execution_count": 184,
   "id": "3b407532",
   "metadata": {},
   "outputs": [
    {
     "name": "stdout",
     "output_type": "stream",
     "text": [
      "Ridge regression score: -130.7611534123405\n"
     ]
    }
   ],
   "source": [
    "print(\"Ridge regression score:\", ridge.score(x_test, y_test))"
   ]
  },
  {
   "cell_type": "markdown",
   "id": "f5b72b5c",
   "metadata": {},
   "source": [
    "### Lasso model"
   ]
  },
  {
   "cell_type": "code",
   "execution_count": 185,
   "id": "3fb21ebc",
   "metadata": {},
   "outputs": [],
   "source": [
    "from sklearn.linear_model import Lasso"
   ]
  },
  {
   "cell_type": "code",
   "execution_count": 186,
   "id": "0f6f68d9",
   "metadata": {},
   "outputs": [],
   "source": [
    "lasso = Lasso(alpha=0.5)"
   ]
  },
  {
   "cell_type": "code",
   "execution_count": 187,
   "id": "18bb2b7a",
   "metadata": {},
   "outputs": [
    {
     "data": {
      "text/plain": [
       "Lasso(alpha=0.5)"
      ]
     },
     "execution_count": 187,
     "metadata": {},
     "output_type": "execute_result"
    }
   ],
   "source": [
    "lasso.fit(x_train, y_train)"
   ]
  },
  {
   "cell_type": "code",
   "execution_count": 188,
   "id": "56b6f47c",
   "metadata": {},
   "outputs": [],
   "source": [
    "y_pred = lasso.predict(x_test)"
   ]
  },
  {
   "cell_type": "code",
   "execution_count": 189,
   "id": "5189bcbe",
   "metadata": {},
   "outputs": [
    {
     "name": "stdout",
     "output_type": "stream",
     "text": [
      "Mean Squared Error: 0.0003870874695802186\n"
     ]
    }
   ],
   "source": [
    "print('Mean Squared Error:',  mean_squared_error(y_test, y_pred))"
   ]
  },
  {
   "cell_type": "code",
   "execution_count": 190,
   "id": "a9047580",
   "metadata": {
    "scrolled": true
   },
   "outputs": [
    {
     "name": "stdout",
     "output_type": "stream",
     "text": [
      "Lasso regression score: -0.07890808641889469\n"
     ]
    }
   ],
   "source": [
    "print(\"Lasso regression score:\", lasso.score(x_test, y_test))"
   ]
  },
  {
   "cell_type": "markdown",
   "id": "8bffd208",
   "metadata": {},
   "source": [
    "#### Conclusion: adding category variables doesn't improve model"
   ]
  },
  {
   "cell_type": "markdown",
   "id": "ea99e1a1",
   "metadata": {},
   "source": [
    "## Busting"
   ]
  },
  {
   "cell_type": "code",
   "execution_count": 191,
   "id": "249f8983",
   "metadata": {},
   "outputs": [
    {
     "name": "stdout",
     "output_type": "stream",
     "text": [
      "Requirement already satisfied: xgboost in c:\\users\\user\\anaconda3\\lib\\site-packages (1.7.5)\n",
      "Requirement already satisfied: numpy in c:\\users\\user\\anaconda3\\lib\\site-packages (from xgboost) (1.21.5)\n",
      "Requirement already satisfied: scipy in c:\\users\\user\\anaconda3\\lib\\site-packages (from xgboost) (1.9.1)\n",
      "Note: you may need to restart the kernel to use updated packages.\n"
     ]
    }
   ],
   "source": [
    "pip install xgboost"
   ]
  },
  {
   "cell_type": "code",
   "execution_count": 192,
   "id": "993b9201",
   "metadata": {},
   "outputs": [],
   "source": [
    "import xgboost as xgb"
   ]
  },
  {
   "cell_type": "code",
   "execution_count": 193,
   "id": "4547ed08",
   "metadata": {},
   "outputs": [],
   "source": [
    "model = xgb.XGBRegressor()"
   ]
  },
  {
   "cell_type": "code",
   "execution_count": 194,
   "id": "ba1343d2",
   "metadata": {},
   "outputs": [
    {
     "data": {
      "text/plain": [
       "XGBRegressor(base_score=None, booster=None, callbacks=None,\n",
       "             colsample_bylevel=None, colsample_bynode=None,\n",
       "             colsample_bytree=None, early_stopping_rounds=None,\n",
       "             enable_categorical=False, eval_metric=None, feature_types=None,\n",
       "             gamma=None, gpu_id=None, grow_policy=None, importance_type=None,\n",
       "             interaction_constraints=None, learning_rate=None, max_bin=None,\n",
       "             max_cat_threshold=None, max_cat_to_onehot=None,\n",
       "             max_delta_step=None, max_depth=None, max_leaves=None,\n",
       "             min_child_weight=None, missing=nan, monotone_constraints=None,\n",
       "             n_estimators=100, n_jobs=None, num_parallel_tree=None,\n",
       "             predictor=None, random_state=None, ...)"
      ]
     },
     "execution_count": 194,
     "metadata": {},
     "output_type": "execute_result"
    }
   ],
   "source": [
    "model.fit(x_train, y_train)"
   ]
  },
  {
   "cell_type": "code",
   "execution_count": 195,
   "id": "510aa1b3",
   "metadata": {},
   "outputs": [],
   "source": [
    "y_pred = model.predict(x_test)"
   ]
  },
  {
   "cell_type": "code",
   "execution_count": 196,
   "id": "b146f433",
   "metadata": {},
   "outputs": [],
   "source": [
    "mse = mean_squared_error(y_test, y_pred)"
   ]
  },
  {
   "cell_type": "code",
   "execution_count": 197,
   "id": "a917b8f9",
   "metadata": {},
   "outputs": [
    {
     "name": "stdout",
     "output_type": "stream",
     "text": [
      "Mean Squared Error: 0.09\n"
     ]
    }
   ],
   "source": [
    "print(\"Mean Squared Error: %.2f\" % mse)"
   ]
  },
  {
   "cell_type": "code",
   "execution_count": 198,
   "id": "f18d5a64",
   "metadata": {},
   "outputs": [
    {
     "name": "stdout",
     "output_type": "stream",
     "text": [
      "Model score: -256.3221273845311\n"
     ]
    }
   ],
   "source": [
    "print(\"Model score:\", model.score(x_test, y_test))"
   ]
  },
  {
   "cell_type": "markdown",
   "id": "018d0bbd",
   "metadata": {},
   "source": [
    "## Gradient busting"
   ]
  },
  {
   "cell_type": "code",
   "execution_count": 199,
   "id": "fa02d256",
   "metadata": {},
   "outputs": [],
   "source": [
    "from sklearn.ensemble import GradientBoostingRegressor\n",
    "from sklearn.model_selection import GridSearchCV"
   ]
  },
  {
   "cell_type": "code",
   "execution_count": 200,
   "id": "c4d8e235",
   "metadata": {},
   "outputs": [],
   "source": [
    "param_grid = {\n",
    "    'n_estimators': [100, 500, 1000],\n",
    "    'max_depth': [3, 5, 7],\n",
    "    'learning_rate': [0.01, 0.1, 1]\n",
    "}"
   ]
  },
  {
   "cell_type": "code",
   "execution_count": 201,
   "id": "e92a771a",
   "metadata": {},
   "outputs": [],
   "source": [
    "gb = GradientBoostingRegressor()"
   ]
  },
  {
   "cell_type": "code",
   "execution_count": 202,
   "id": "a4e9e030",
   "metadata": {},
   "outputs": [
    {
     "data": {
      "text/plain": [
       "GridSearchCV(cv=5, estimator=GradientBoostingRegressor(),\n",
       "             param_grid={'learning_rate': [0.01, 0.1, 1],\n",
       "                         'max_depth': [3, 5, 7],\n",
       "                         'n_estimators': [100, 500, 1000]})"
      ]
     },
     "execution_count": 202,
     "metadata": {},
     "output_type": "execute_result"
    }
   ],
   "source": [
    "grid_search = GridSearchCV(gb, param_grid=param_grid, cv=5)\n",
    "grid_search.fit(x_train, y_train)"
   ]
  },
  {
   "cell_type": "code",
   "execution_count": 203,
   "id": "fbe30674",
   "metadata": {},
   "outputs": [],
   "source": [
    "best_params = grid_search.best_params_"
   ]
  },
  {
   "cell_type": "code",
   "execution_count": 204,
   "id": "bad485bd",
   "metadata": {},
   "outputs": [],
   "source": [
    "best_gb = GradientBoostingRegressor(**best_params)"
   ]
  },
  {
   "cell_type": "code",
   "execution_count": 205,
   "id": "f293ecb3",
   "metadata": {},
   "outputs": [
    {
     "data": {
      "text/plain": [
       "GradientBoostingRegressor(learning_rate=0.01, max_depth=5, n_estimators=1000)"
      ]
     },
     "execution_count": 205,
     "metadata": {},
     "output_type": "execute_result"
    }
   ],
   "source": [
    "best_gb.fit(x_train, y_train)"
   ]
  },
  {
   "cell_type": "code",
   "execution_count": 206,
   "id": "10d0fd5d",
   "metadata": {},
   "outputs": [],
   "source": [
    "y_pred = best_gb.predict(x_test)"
   ]
  },
  {
   "cell_type": "code",
   "execution_count": 207,
   "id": "f87a0d4f",
   "metadata": {},
   "outputs": [
    {
     "name": "stdout",
     "output_type": "stream",
     "text": [
      "Score: -197.1446897183129\n"
     ]
    }
   ],
   "source": [
    "print(\"Score:\", best_gb.score(x_test, y_test))"
   ]
  }
 ],
 "metadata": {
  "kernelspec": {
   "display_name": "Python 3 (ipykernel)",
   "language": "python",
   "name": "python3"
  },
  "language_info": {
   "codemirror_mode": {
    "name": "ipython",
    "version": 3
   },
   "file_extension": ".py",
   "mimetype": "text/x-python",
   "name": "python",
   "nbconvert_exporter": "python",
   "pygments_lexer": "ipython3",
   "version": "3.9.13"
  }
 },
 "nbformat": 4,
 "nbformat_minor": 5
}
